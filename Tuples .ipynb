{
 "cells": [
  {
   "cell_type": "markdown",
   "id": "7e13ec04",
   "metadata": {},
   "source": [
    "## Tuples\n",
    "Tuples are immutable, ordered lists means its unchangeable.\n",
    "Use to store multiple items in a same variable.\n",
    "Created with paranthesis."
   ]
  },
  {
   "cell_type": "code",
   "execution_count": 1,
   "id": "75d7b012",
   "metadata": {},
   "outputs": [
    {
     "name": "stdout",
     "output_type": "stream",
     "text": [
      "('Auckland', 'Hamilton', 'weelington')\n"
     ]
    }
   ],
   "source": [
    "cities = (\"Auckland\",\"Hamilton\",\"weelington\")\n",
    "print(cities)"
   ]
  },
  {
   "cell_type": "code",
   "execution_count": 2,
   "id": "bc43138d",
   "metadata": {},
   "outputs": [
    {
     "name": "stdout",
     "output_type": "stream",
     "text": [
      "(2, 4, 6)\n"
     ]
    }
   ],
   "source": [
    "no1 = (2,4,6)\n",
    "print(no1)"
   ]
  },
  {
   "cell_type": "code",
   "execution_count": 3,
   "id": "6bb6a930",
   "metadata": {},
   "outputs": [
    {
     "name": "stdout",
     "output_type": "stream",
     "text": [
      "(2, 4, 6, 2, 8)\n"
     ]
    }
   ],
   "source": [
    "# Tuples allow duplicates\n",
    "no2 = (2,4,6,2,8)\n",
    "print(no2)"
   ]
  },
  {
   "cell_type": "code",
   "execution_count": 4,
   "id": "fc52e1b6",
   "metadata": {},
   "outputs": [
    {
     "name": "stdout",
     "output_type": "stream",
     "text": [
      "3\n"
     ]
    }
   ],
   "source": [
    "# len() to check the length\n",
    "cities = (\"Auckland\",\"Hamilton\",\"weelington\")\n",
    "print(len(cities))"
   ]
  },
  {
   "cell_type": "code",
   "execution_count": 8,
   "id": "fdc2ce24",
   "metadata": {},
   "outputs": [
    {
     "name": "stdout",
     "output_type": "stream",
     "text": [
      "('Auckland',)\n"
     ]
    },
    {
     "data": {
      "text/plain": [
       "tuple"
      ]
     },
     "execution_count": 8,
     "metadata": {},
     "output_type": "execute_result"
    }
   ],
   "source": [
    "# creating a tuple with one item\n",
    "cities = (\"Auckland\",)\n",
    "print(cities)\n",
    "type(cities)\n",
    "\n"
   ]
  },
  {
   "cell_type": "code",
   "execution_count": 9,
   "id": "ff47cf0a",
   "metadata": {},
   "outputs": [
    {
     "name": "stdout",
     "output_type": "stream",
     "text": [
      "Auckland\n"
     ]
    },
    {
     "data": {
      "text/plain": [
       "str"
      ]
     },
     "execution_count": 9,
     "metadata": {},
     "output_type": "execute_result"
    }
   ],
   "source": [
    "# if you create the tuple without a comma they consider that as a string value not a tuple\n",
    "cities = (\"Auckland\")\n",
    "print(cities)\n",
    "type(cities)"
   ]
  },
  {
   "cell_type": "code",
   "execution_count": 12,
   "id": "41d02d7e",
   "metadata": {},
   "outputs": [
    {
     "name": "stdout",
     "output_type": "stream",
     "text": [
      "(1, 2, 3, 4, 5, 6)\n",
      "(True, False, False)\n",
      "(1.2, 3.4, 5.6)\n"
     ]
    }
   ],
   "source": [
    "# creating different types of tuples\n",
    "tup1 = (1,2,3,4,5,6)\n",
    "tup2 = (True, False, False)\n",
    "tup3 = (1.2,3.4,5.6)\n",
    "print(tup1)\n",
    "print(tup2)\n",
    "print(tup3)\n"
   ]
  },
  {
   "cell_type": "code",
   "execution_count": 13,
   "id": "88a57424",
   "metadata": {},
   "outputs": [
    {
     "name": "stdout",
     "output_type": "stream",
     "text": [
      "('Auckland', 200000, True, 24.6)\n"
     ]
    }
   ],
   "source": [
    "# create a tuple with multiple data types\n",
    "tup = (\"Auckland\", 200000, True, 24.6)\n",
    "print(tup)"
   ]
  },
  {
   "cell_type": "code",
   "execution_count": 14,
   "id": "a157e62f",
   "metadata": {},
   "outputs": [
    {
     "name": "stdout",
     "output_type": "stream",
     "text": [
      "('Auckland', 2.3, True, 400)\n"
     ]
    }
   ],
   "source": [
    "# Use tuple() constructor to create a tuple\n",
    "tup1 = tuple((\"Auckland\",2.3, True, 400))\n",
    "print(tup1)"
   ]
  },
  {
   "cell_type": "markdown",
   "id": "60a285ee",
   "metadata": {},
   "source": [
    "### Access tuples"
   ]
  },
  {
   "cell_type": "code",
   "execution_count": 20,
   "id": "2c4a9a84",
   "metadata": {},
   "outputs": [
    {
     "name": "stdout",
     "output_type": "stream",
     "text": [
      "8\n",
      "8\n",
      "(7, 8)\n",
      "(1, 4, 7, 8)\n",
      "(7, 8, 10)\n",
      "(4, 7)\n"
     ]
    }
   ],
   "source": [
    "# access the tuple elements by index numbers\n",
    "tup = (1,4,7,8,10)\n",
    "print(tup[3])\n",
    "print(tup[-2])\n",
    "print(tup[2:4])\n",
    "print(tup[:4])\n",
    "print(tup[2:])\n",
    "print(tup[-4:-2])"
   ]
  },
  {
   "cell_type": "code",
   "execution_count": 21,
   "id": "0901e341",
   "metadata": {},
   "outputs": [
    {
     "name": "stdout",
     "output_type": "stream",
     "text": [
      "yes, '4' is there\n"
     ]
    }
   ],
   "source": [
    "# Use if statement to access the tuple\n",
    "tup = (1,4,7,8,10)\n",
    "if 4 in tup:\n",
    "    print(\"yes, '4' is there\")"
   ]
  },
  {
   "cell_type": "markdown",
   "id": "854a4664",
   "metadata": {},
   "source": [
    "### Update Tuple values\n",
    "Although the tuples are immutable onjects there are some workaround to update the tuples"
   ]
  },
  {
   "cell_type": "code",
   "execution_count": 22,
   "id": "b31c0d50",
   "metadata": {},
   "outputs": [
    {
     "name": "stdout",
     "output_type": "stream",
     "text": [
      "(10, 2, 4, 6, 8, 9)\n"
     ]
    }
   ],
   "source": [
    "tup = (1,2,4,6,8,9)\n",
    "list1 = list(tup)\n",
    "list1[0] = 10\n",
    "tup = tuple(list1)\n",
    "print(tup)"
   ]
  },
  {
   "cell_type": "code",
   "execution_count": 24,
   "id": "aa4f1635",
   "metadata": {},
   "outputs": [
    {
     "name": "stdout",
     "output_type": "stream",
     "text": [
      "(1, 2, 4, 5, 20)\n"
     ]
    }
   ],
   "source": [
    "tup = (1,2,4,5)\n",
    "list1 = list(tup)\n",
    "list1.append(20)\n",
    "tup = tuple(list1)\n",
    "print(tup)"
   ]
  },
  {
   "cell_type": "code",
   "execution_count": 25,
   "id": "10af9807",
   "metadata": {},
   "outputs": [
    {
     "name": "stdout",
     "output_type": "stream",
     "text": [
      "(1, 2, 4, 5, 6, 8, 40)\n"
     ]
    }
   ],
   "source": [
    "# add tuple to a tuple\n",
    "tup1 = (1,2,4,5,6,8)\n",
    "tup2 = (40,)\n",
    "tup1 += tup2\n",
    "print(tup1)"
   ]
  },
  {
   "cell_type": "markdown",
   "id": "7144f23e",
   "metadata": {},
   "source": [
    "### Remove items from tuple\n",
    "Tuples are unchangeable so, cannot remove the items, but can use the same approach as above to remove the items"
   ]
  },
  {
   "cell_type": "code",
   "execution_count": 26,
   "id": "d43d43f1",
   "metadata": {},
   "outputs": [
    {
     "name": "stdout",
     "output_type": "stream",
     "text": [
      "(1, 2, 7, 9, 12)\n"
     ]
    }
   ],
   "source": [
    "tup = (1,2,5,7,9,12)\n",
    "list1 = list(tup)\n",
    "list1.remove(5)\n",
    "tup = tuple(list1)\n",
    "print(tup)"
   ]
  },
  {
   "cell_type": "code",
   "execution_count": 27,
   "id": "3ece9cd2",
   "metadata": {},
   "outputs": [],
   "source": [
    "tup = (1,2,5,7,9,12)\n",
    "del tup"
   ]
  },
  {
   "cell_type": "markdown",
   "id": "69953da0",
   "metadata": {},
   "source": [
    "### Unpacking a tuple\n",
    "When we create a tuple, we normally assign values to it. This is called \"packing\" a tuple.\n",
    "Unpacking -  extract the values back into variables"
   ]
  },
  {
   "cell_type": "code",
   "execution_count": 28,
   "id": "dbff6baf",
   "metadata": {},
   "outputs": [
    {
     "name": "stdout",
     "output_type": "stream",
     "text": [
      "1\n",
      "4\n",
      "7\n"
     ]
    }
   ],
   "source": [
    "tup = (1,4,7)\n",
    "(no1, no2, no3) = tup\n",
    "print(no1)\n",
    "print(no2)\n",
    "print(no3)"
   ]
  },
  {
   "cell_type": "code",
   "execution_count": 29,
   "id": "75f5267f",
   "metadata": {},
   "outputs": [
    {
     "name": "stdout",
     "output_type": "stream",
     "text": [
      "Auckland\n",
      "Hamilton\n",
      "['Wellington', 'Christchurch', 'Napier']\n"
     ]
    }
   ],
   "source": [
    "# Using * to unpack the tuples\n",
    "cities = (\"Auckland\",\"Hamilton\",\"Wellington\",\"Christchurch\",\"Napier\")\n",
    "\n",
    "(city1,city2,*city3) = cities\n",
    "print(city1)\n",
    "print(city2)\n",
    "print(city3)"
   ]
  },
  {
   "cell_type": "code",
   "execution_count": 30,
   "id": "9291c12c",
   "metadata": {},
   "outputs": [
    {
     "name": "stdout",
     "output_type": "stream",
     "text": [
      "Auckland\n",
      "['Hamilton', 'Wellington', 'Christchurch']\n",
      "Napier\n"
     ]
    }
   ],
   "source": [
    "# use the * in the middle \n",
    "cities = (\"Auckland\",\"Hamilton\",\"Wellington\",\"Christchurch\",\"Napier\")\n",
    "\n",
    "(city1,*city2,city3) = cities\n",
    "print(city1)\n",
    "print(city2)\n",
    "print(city3)"
   ]
  },
  {
   "cell_type": "markdown",
   "id": "7cec53b4",
   "metadata": {},
   "source": [
    "### Loop tuples"
   ]
  },
  {
   "cell_type": "code",
   "execution_count": 31,
   "id": "0db1f953",
   "metadata": {},
   "outputs": [
    {
     "name": "stdout",
     "output_type": "stream",
     "text": [
      "Auckland\n",
      "Hamilton\n",
      "Wellington\n",
      "Christchurch\n",
      "Napier\n"
     ]
    }
   ],
   "source": [
    "cities = (\"Auckland\",\"Hamilton\",\"Wellington\",\"Christchurch\",\"Napier\")\n",
    "for i in cities:\n",
    "    print(i)"
   ]
  },
  {
   "cell_type": "code",
   "execution_count": 32,
   "id": "4aa857de",
   "metadata": {},
   "outputs": [
    {
     "name": "stdout",
     "output_type": "stream",
     "text": [
      "Auckland\n",
      "Hamilton\n",
      "Wellington\n",
      "Christchurch\n",
      "Napier\n"
     ]
    }
   ],
   "source": [
    "# Loop through the index numbers\n",
    "cities = (\"Auckland\",\"Hamilton\",\"Wellington\",\"Christchurch\",\"Napier\")\n",
    "for i in range(len(cities)):\n",
    "    print(cities[i])\n"
   ]
  },
  {
   "cell_type": "code",
   "execution_count": 33,
   "id": "f74c9943",
   "metadata": {},
   "outputs": [
    {
     "name": "stdout",
     "output_type": "stream",
     "text": [
      "Auckland\n",
      "Hamilton\n",
      "Wellington\n",
      "Christchurch\n",
      "Napier\n"
     ]
    }
   ],
   "source": [
    "# Use a while loop \n",
    "cities = (\"Auckland\",\"Hamilton\",\"Wellington\",\"Christchurch\",\"Napier\")\n",
    "i = 0\n",
    "while i < len(cities):\n",
    "    print(cities[i])\n",
    "    i = i+1\n"
   ]
  },
  {
   "cell_type": "markdown",
   "id": "f6818834",
   "metadata": {},
   "source": [
    "### Join tuples"
   ]
  },
  {
   "cell_type": "code",
   "execution_count": 34,
   "id": "db3b71e7",
   "metadata": {},
   "outputs": [
    {
     "name": "stdout",
     "output_type": "stream",
     "text": [
      "(1, 2, 3, 'A', 'B', 'C')\n"
     ]
    }
   ],
   "source": [
    "# Join with \"+\" operator\n",
    "tup1 = (1,2,3)\n",
    "tup2 = (\"A\",\"B\",\"C\")\n",
    "\n",
    "tup3 = tup1+ tup2\n",
    "print(tup3)"
   ]
  },
  {
   "cell_type": "code",
   "execution_count": 36,
   "id": "1a71730d",
   "metadata": {},
   "outputs": [
    {
     "name": "stdout",
     "output_type": "stream",
     "text": [
      "(1, 2, 3, 1, 2, 3)\n",
      "('A', 'B', 'C', 'A', 'B', 'C', 'A', 'B', 'C')\n"
     ]
    }
   ],
   "source": [
    "# Can multiply tuples with * \n",
    "tup1 = (1,2,3)\n",
    "tup2 = (\"A\",\"B\",\"C\")\n",
    "\n",
    "tup3 = tup1 *2\n",
    "print(tup3)\n",
    "\n",
    "tup4 = tup2 *3\n",
    "print(tup4)\n",
    "\n",
    "#tup5 = tup1*tup2 ## TypeError: can't multiply sequence by non-int of type 'tuple'\n"
   ]
  },
  {
   "cell_type": "markdown",
   "id": "5a0a3710",
   "metadata": {},
   "source": [
    "### Tuple methods"
   ]
  },
  {
   "cell_type": "code",
   "execution_count": 37,
   "id": "9c9d8cda",
   "metadata": {},
   "outputs": [
    {
     "name": "stdout",
     "output_type": "stream",
     "text": [
      "4\n"
     ]
    }
   ],
   "source": [
    "# count()\n",
    "tup1 = (1,2,3,4,1,5,6,2,4,2,5,2,3,4)\n",
    "print(tup1.count(2))"
   ]
  },
  {
   "cell_type": "code",
   "execution_count": 38,
   "id": "1f620b3d",
   "metadata": {},
   "outputs": [
    {
     "name": "stdout",
     "output_type": "stream",
     "text": [
      "3\n"
     ]
    }
   ],
   "source": [
    "# index(),  Search for the first occurrence of the value, and return its position\n",
    "tup1 = (1,2,3,4,1,5,6,2,4,2,5,2,3,4)\n",
    "print(tup1.index(4))"
   ]
  }
 ],
 "metadata": {
  "kernelspec": {
   "display_name": "Python 3",
   "language": "python",
   "name": "python3"
  },
  "language_info": {
   "codemirror_mode": {
    "name": "ipython",
    "version": 3
   },
   "file_extension": ".py",
   "mimetype": "text/x-python",
   "name": "python",
   "nbconvert_exporter": "python",
   "pygments_lexer": "ipython3",
   "version": "3.8.2"
  }
 },
 "nbformat": 4,
 "nbformat_minor": 5
}
