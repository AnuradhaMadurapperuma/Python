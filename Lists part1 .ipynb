{
 "cells": [
  {
   "cell_type": "markdown",
   "id": "afb5046d",
   "metadata": {},
   "source": [
    "## Introducing lists\n",
    "A list is a collection od items in a particular order."
   ]
  },
  {
   "cell_type": "code",
   "execution_count": 1,
   "id": "dd662171",
   "metadata": {},
   "outputs": [
    {
     "name": "stdout",
     "output_type": "stream",
     "text": [
      "['Chips', 'Burger', 'Chicken wings', 'Salad']\n"
     ]
    }
   ],
   "source": [
    "# How to create a list\n",
    "foods = [\"Chips\",\"Burger\",\"Chicken wings\",\"Salad\"]\n",
    "print(foods)"
   ]
  },
  {
   "cell_type": "code",
   "execution_count": 4,
   "id": "a9de1864",
   "metadata": {},
   "outputs": [
    {
     "name": "stdout",
     "output_type": "stream",
     "text": [
      "[1, 3, 45, 67, 78]\n",
      "[1.2, 3.4, 5.6, 7.8]\n",
      "[True, False, True, False]\n"
     ]
    }
   ],
   "source": [
    "# Different types of lists\n",
    "numbers = [1,3,45,67,78]\n",
    "floats = [1.2,3.4,5.6,7.8]\n",
    "bools = [True, False, True, False]\n",
    "print(numbers)\n",
    "print(floats)\n",
    "print(bools)"
   ]
  },
  {
   "cell_type": "code",
   "execution_count": 5,
   "id": "ec9bc6e6",
   "metadata": {},
   "outputs": [
    {
     "name": "stdout",
     "output_type": "stream",
     "text": [
      "[[1, 2], [3, 4], [5, 6], [7, 8]]\n"
     ]
    }
   ],
   "source": [
    "# create a lists of list\n",
    "lists = [[1,2],[3,4],[5,6],[7,8]]\n",
    "print(lists)"
   ]
  },
  {
   "cell_type": "code",
   "execution_count": 6,
   "id": "43a82039",
   "metadata": {},
   "outputs": [
    {
     "name": "stdout",
     "output_type": "stream",
     "text": [
      "['Anne', 25, 'Data Science', True]\n"
     ]
    }
   ],
   "source": [
    "# createa lists with multiple data types\n",
    "multiList = [\"Anne\", 25, \"Data Science\", True]\n",
    "print(multiList)"
   ]
  },
  {
   "cell_type": "code",
   "execution_count": 7,
   "id": "70619e9c",
   "metadata": {},
   "outputs": [
    {
     "data": {
      "text/plain": [
       "list"
      ]
     },
     "execution_count": 7,
     "metadata": {},
     "output_type": "execute_result"
    }
   ],
   "source": [
    "type(foods)"
   ]
  },
  {
   "cell_type": "code",
   "execution_count": 9,
   "id": "85b07e3b",
   "metadata": {},
   "outputs": [
    {
     "data": {
      "text/plain": [
       "list"
      ]
     },
     "execution_count": 9,
     "metadata": {},
     "output_type": "execute_result"
    }
   ],
   "source": [
    "type(multiList)"
   ]
  },
  {
   "cell_type": "markdown",
   "id": "77d0bb46",
   "metadata": {},
   "source": [
    "### The list() constructor"
   ]
  },
  {
   "cell_type": "code",
   "execution_count": 10,
   "id": "83cdfda4",
   "metadata": {},
   "outputs": [
    {
     "name": "stdout",
     "output_type": "stream",
     "text": [
      "['NZ', 25, True]\n"
     ]
    }
   ],
   "source": [
    "# List constructor \n",
    "listnew = list((\"NZ\", 25, True))\n",
    "print(listnew)"
   ]
  },
  {
   "cell_type": "code",
   "execution_count": 27,
   "id": "0331d0c0",
   "metadata": {},
   "outputs": [
    {
     "name": "stdout",
     "output_type": "stream",
     "text": [
      "3\n"
     ]
    }
   ],
   "source": [
    "# len() function to check the length of the list\n",
    "print(len(listnew))"
   ]
  },
  {
   "cell_type": "markdown",
   "id": "30ce2af2",
   "metadata": {},
   "source": [
    "### range() to create list"
   ]
  },
  {
   "cell_type": "code",
   "execution_count": 28,
   "id": "ff384101",
   "metadata": {},
   "outputs": [
    {
     "name": "stdout",
     "output_type": "stream",
     "text": [
      "[0, 1, 2, 3, 4, 5, 6, 7, 8, 9, 10, 11, 12, 13, 14, 15, 16, 17, 18, 19]\n"
     ]
    }
   ],
   "source": [
    "listRange1 = list(range(20))\n",
    "print(listRange1)"
   ]
  },
  {
   "cell_type": "code",
   "execution_count": 29,
   "id": "0c6a4ba3",
   "metadata": {},
   "outputs": [
    {
     "name": "stdout",
     "output_type": "stream",
     "text": [
      "[10, 11, 12, 13, 14, 15, 16, 17, 18, 19]\n"
     ]
    }
   ],
   "source": [
    "listRange2 = list(range(10,20))\n",
    "print(listRange2)"
   ]
  },
  {
   "cell_type": "code",
   "execution_count": 31,
   "id": "8529a2bb",
   "metadata": {},
   "outputs": [
    {
     "name": "stdout",
     "output_type": "stream",
     "text": [
      "[20, 22, 24, 26, 28, 30, 32, 34, 36, 38]\n"
     ]
    }
   ],
   "source": [
    "listRange3 = list(range(20,40,2))\n",
    "print(listRange3)"
   ]
  },
  {
   "cell_type": "code",
   "execution_count": 33,
   "id": "9ef9c312",
   "metadata": {},
   "outputs": [
    {
     "ename": "TypeError",
     "evalue": "'float' object cannot be interpreted as an integer",
     "output_type": "error",
     "traceback": [
      "\u001b[0;31m---------------------------------------------------------------------------\u001b[0m",
      "\u001b[0;31mTypeError\u001b[0m                                 Traceback (most recent call last)",
      "\u001b[0;32m<ipython-input-33-7d345ef1d2bf>\u001b[0m in \u001b[0;36m<module>\u001b[0;34m\u001b[0m\n\u001b[1;32m      1\u001b[0m \u001b[0;31m# range() function can only work when the specified value is an integer or a whole number.\u001b[0m\u001b[0;34m\u001b[0m\u001b[0;34m\u001b[0m\u001b[0;34m\u001b[0m\u001b[0m\n\u001b[0;32m----> 2\u001b[0;31m \u001b[0mlistRange4\u001b[0m \u001b[0;34m=\u001b[0m \u001b[0mlist\u001b[0m\u001b[0;34m(\u001b[0m\u001b[0mrange\u001b[0m\u001b[0;34m(\u001b[0m\u001b[0;36m0.5\u001b[0m\u001b[0;34m,\u001b[0m\u001b[0;36m2.5\u001b[0m\u001b[0;34m)\u001b[0m\u001b[0;34m)\u001b[0m\u001b[0;34m\u001b[0m\u001b[0;34m\u001b[0m\u001b[0m\n\u001b[0m\u001b[1;32m      3\u001b[0m \u001b[0mprint\u001b[0m\u001b[0;34m(\u001b[0m\u001b[0mlistRange4\u001b[0m\u001b[0;34m)\u001b[0m\u001b[0;34m\u001b[0m\u001b[0;34m\u001b[0m\u001b[0m\n",
      "\u001b[0;31mTypeError\u001b[0m: 'float' object cannot be interpreted as an integer"
     ]
    }
   ],
   "source": [
    "# range() function can only work when the specified value is an integer or a whole number.\n",
    "listRange4 = list(range(0.5,2.5))\n",
    "print(listRange4)"
   ]
  },
  {
   "cell_type": "markdown",
   "id": "ca9b56f4",
   "metadata": {},
   "source": [
    "## Access list items\n",
    "list items are indexed, you can access the lsts items by refererring the index numbers. \n",
    "Index is starts with 0"
   ]
  },
  {
   "cell_type": "code",
   "execution_count": 11,
   "id": "ba8ac2e0",
   "metadata": {},
   "outputs": [
    {
     "name": "stdout",
     "output_type": "stream",
     "text": [
      "Auckland\n"
     ]
    }
   ],
   "source": [
    "cities = ['Hamiltion','Auckland', 'Napier']\n",
    "print(cities[1])"
   ]
  },
  {
   "cell_type": "code",
   "execution_count": 12,
   "id": "32e2560b",
   "metadata": {},
   "outputs": [
    {
     "name": "stdout",
     "output_type": "stream",
     "text": [
      "Napier\n"
     ]
    }
   ],
   "source": [
    "# use minus index numbers to access from the end \n",
    "print(cities[-1])"
   ]
  },
  {
   "cell_type": "code",
   "execution_count": 22,
   "id": "016e8c32",
   "metadata": {},
   "outputs": [
    {
     "name": "stdout",
     "output_type": "stream",
     "text": [
      "['Hamiltion', 'Auckland', 'Napier']\n",
      "['Hamiltion', 'Auckland', 'Napier']\n",
      "['Hamiltion', 'Auckland']\n",
      "['Hamiltion', 'Auckland', 'Napier']\n",
      "['Hamiltion', 'Auckland', 'Napier']\n",
      "['Auckland']\n",
      "['Hamiltion', 'Auckland']\n"
     ]
    }
   ],
   "source": [
    "# range of values\n",
    "print(cities[0:3])\n",
    "print(cities[:])\n",
    "print(cities[0:2])\n",
    "print(cities[0:])\n",
    "print(cities[:3])\n",
    "print(cities[-2:-1])\n",
    "print(cities[-3:-1])"
   ]
  },
  {
   "cell_type": "code",
   "execution_count": 23,
   "id": "c0238c6d",
   "metadata": {},
   "outputs": [
    {
     "name": "stdout",
     "output_type": "stream",
     "text": [
      "yes 'Auckland' is in the list\n"
     ]
    }
   ],
   "source": [
    "# Accessing the elements of the lists via if clause\n",
    "if \"Auckland\" in cities:\n",
    "    print(\"yes 'Auckland' is in the list\")"
   ]
  },
  {
   "cell_type": "code",
   "execution_count": 26,
   "id": "54eb5b71",
   "metadata": {},
   "outputs": [
    {
     "name": "stdout",
     "output_type": "stream",
     "text": [
      "My favourite foos is Salad\n"
     ]
    }
   ],
   "source": [
    "# Using items in the lists individually\n",
    "foods = [\"chips\",\"burger\",\"chicken wings\",\"salad\"]\n",
    "msg = \"My favourite foos is \"+ foods[-1].title()\n",
    "\n",
    "print(msg)"
   ]
  },
  {
   "cell_type": "markdown",
   "id": "170d9e95",
   "metadata": {},
   "source": [
    "## Change list items"
   ]
  },
  {
   "cell_type": "code",
   "execution_count": 40,
   "id": "3e8b2840",
   "metadata": {},
   "outputs": [
    {
     "name": "stdout",
     "output_type": "stream",
     "text": [
      "['Hamilton', 'Auckland', 'Wellington']\n",
      "['Queenstown', 'Auckland', 'Wellington']\n"
     ]
    }
   ],
   "source": [
    "cities = [\"Hamilton\",\"Auckland\",\"Wellington\"]\n",
    "print(cities)\n",
    "cities[0] = \"Queenstown\"\n",
    "print(cities)"
   ]
  },
  {
   "cell_type": "code",
   "execution_count": 41,
   "id": "86d58a65",
   "metadata": {},
   "outputs": [
    {
     "name": "stdout",
     "output_type": "stream",
     "text": [
      "['Queenstown', 'Napier', 'Dunedin']\n"
     ]
    }
   ],
   "source": [
    "# change the second and third items of the list\n",
    "cities[1:3] = [\"Napier\",\"Dunedin\"]\n",
    "print(cities)"
   ]
  },
  {
   "cell_type": "code",
   "execution_count": 42,
   "id": "e00c0899",
   "metadata": {},
   "outputs": [
    {
     "name": "stdout",
     "output_type": "stream",
     "text": [
      "['Queenstown', 'Hamilton', 'Christchurch', 'Dunedin']\n"
     ]
    }
   ],
   "source": [
    "# change the second item on the list with two values\n",
    "cities[1:2] = [\"Hamilton\",\"Christchurch\"]\n",
    "print(cities)"
   ]
  },
  {
   "cell_type": "code",
   "execution_count": 43,
   "id": "49c204cf",
   "metadata": {},
   "outputs": [
    {
     "name": "stdout",
     "output_type": "stream",
     "text": [
      "['Queenstown', 'Milfordsound', 'Dunedin']\n"
     ]
    }
   ],
   "source": [
    "# change the second and third items with one value\n",
    "cities[1:3] = [\"Milfordsound\"]\n",
    "print(cities)"
   ]
  },
  {
   "cell_type": "markdown",
   "id": "206e27e9",
   "metadata": {},
   "source": [
    "## Add elements "
   ]
  },
  {
   "cell_type": "code",
   "execution_count": 45,
   "id": "ef4f964c",
   "metadata": {},
   "outputs": [
    {
     "name": "stdout",
     "output_type": "stream",
     "text": [
      "['Auckland', 'Hamilton', 'wellington', 'Napier']\n"
     ]
    }
   ],
   "source": [
    "# add the items with append() method\n",
    "cities = [\"Auckland\",\"Hamilton\",\"wellington\"]\n",
    "cities.append(\"Napier\")\n",
    "print(cities)"
   ]
  },
  {
   "cell_type": "code",
   "execution_count": 46,
   "id": "3ce78364",
   "metadata": {},
   "outputs": [
    {
     "name": "stdout",
     "output_type": "stream",
     "text": [
      "['Auckland', 'Hamilton', 'Arrowtown', 'wellington', 'Napier']\n"
     ]
    }
   ],
   "source": [
    "# use insert method to add an item without replacing the items in the list\n",
    "cities.insert(2,\"Arrowtown\") \n",
    "print(cities)"
   ]
  },
  {
   "cell_type": "code",
   "execution_count": 48,
   "id": "ef132a4e",
   "metadata": {},
   "outputs": [
    {
     "name": "stdout",
     "output_type": "stream",
     "text": [
      "['Auckland', 'Hamilton', 'Wellington', 'Christchurch', 'MilfordSound', 'Queesnstown']\n"
     ]
    }
   ],
   "source": [
    "# extend() method can be use to append teh elements of one list to another\n",
    "citiesNorth = [\"Auckland\",\"Hamilton\",\"Wellington\"]\n",
    "citiesSouth = [\"Christchurch\", \"MilfordSound\",\"Queesnstown\"]\n",
    "citiesNorth.extend(citiesSouth)\n",
    "print(citiesNorth)"
   ]
  },
  {
   "cell_type": "code",
   "execution_count": 49,
   "id": "5dbb37d3",
   "metadata": {},
   "outputs": [
    {
     "name": "stdout",
     "output_type": "stream",
     "text": [
      "['Auckland', 'Hamilton', 'Wellington', 'Napier', 'Taranaki']\n"
     ]
    }
   ],
   "source": [
    "# add any iterable such as tuples, sets or dictionaries\n",
    "citiesNorth = [\"Auckland\",\"Hamilton\",\"Wellington\"]\n",
    "citiesTuple = (\"Napier\",\"Taranaki\")\n",
    "citiesNorth.extend(citiesTuple)\n",
    "print(citiesNorth)"
   ]
  },
  {
   "cell_type": "markdown",
   "id": "0ed15c94",
   "metadata": {},
   "source": [
    "## Remove list items"
   ]
  },
  {
   "cell_type": "code",
   "execution_count": 50,
   "id": "cce9c894",
   "metadata": {},
   "outputs": [
    {
     "name": "stdout",
     "output_type": "stream",
     "text": [
      "['Auckland', 'Wellington']\n"
     ]
    }
   ],
   "source": [
    "cities = [\"Auckland\",\"Hamilton\",\"Wellington\"]\n",
    "cities.remove(\"Hamilton\")\n",
    "print(cities)"
   ]
  },
  {
   "cell_type": "code",
   "execution_count": 51,
   "id": "d4b60dad",
   "metadata": {},
   "outputs": [
    {
     "name": "stdout",
     "output_type": "stream",
     "text": [
      "['Auckland', 'Hamilton']\n"
     ]
    }
   ],
   "source": [
    "# use pop() method for removing the last item of the list\n",
    "cities = [\"Auckland\",\"Hamilton\",\"Wellington\"]\n",
    "cities.pop()\n",
    "print(cities)"
   ]
  },
  {
   "cell_type": "code",
   "execution_count": 52,
   "id": "119b57cf",
   "metadata": {},
   "outputs": [
    {
     "name": "stdout",
     "output_type": "stream",
     "text": [
      "['Auckland', 'Wellington']\n"
     ]
    }
   ],
   "source": [
    "# use pop() method for remove a specified index\n",
    "cities = [\"Auckland\",\"Hamilton\",\"Wellington\"]\n",
    "cities.pop(1)\n",
    "print(cities)"
   ]
  },
  {
   "cell_type": "code",
   "execution_count": 53,
   "id": "ce321a2b",
   "metadata": {},
   "outputs": [
    {
     "name": "stdout",
     "output_type": "stream",
     "text": [
      "['Auckland', 'Wellington']\n"
     ]
    }
   ],
   "source": [
    "# use del keyword for remove a specified index\n",
    "cities = [\"Auckland\",\"Hamilton\",\"Wellington\"]\n",
    "del cities[1]\n",
    "print(cities)"
   ]
  },
  {
   "cell_type": "code",
   "execution_count": 55,
   "id": "d05ba9d8",
   "metadata": {},
   "outputs": [],
   "source": [
    "# use del keyword to delete the entire list completely\n",
    "cities = [\"Auckland\",\"Hamilton\",\"Wellington\"]\n",
    "del cities\n"
   ]
  },
  {
   "cell_type": "code",
   "execution_count": 56,
   "id": "104b50d2",
   "metadata": {},
   "outputs": [
    {
     "name": "stdout",
     "output_type": "stream",
     "text": [
      "[]\n"
     ]
    }
   ],
   "source": [
    "# use clear() method to empty the list\n",
    "cities = [\"Auckland\",\"Hamilton\",\"Wellington\"]\n",
    "cities.clear()\n",
    "print(cities)"
   ]
  },
  {
   "cell_type": "markdown",
   "id": "9911e821",
   "metadata": {},
   "source": [
    "## Loop through a list"
   ]
  },
  {
   "cell_type": "code",
   "execution_count": 57,
   "id": "2f04f267",
   "metadata": {},
   "outputs": [
    {
     "name": "stdout",
     "output_type": "stream",
     "text": [
      "Auckland\n",
      "Hamilton\n",
      "Wellington\n"
     ]
    }
   ],
   "source": [
    "# use for loop to walk through a list\n",
    "cities = [\"Auckland\",\"Hamilton\",\"Wellington\"]\n",
    "for c in cities:\n",
    "    print(c)"
   ]
  },
  {
   "cell_type": "code",
   "execution_count": 58,
   "id": "7c3cdd36",
   "metadata": {},
   "outputs": [
    {
     "name": "stdout",
     "output_type": "stream",
     "text": [
      "Auckland\n",
      "Hamilton\n",
      "Wellington\n"
     ]
    }
   ],
   "source": [
    "# loop through the index numbers\n",
    "cities = [\"Auckland\",\"Hamilton\",\"Wellington\"]\n",
    "for i in range(len(cities)):\n",
    "    print(cities[i])"
   ]
  },
  {
   "cell_type": "code",
   "execution_count": 1,
   "id": "68402be0",
   "metadata": {},
   "outputs": [
    {
     "name": "stdout",
     "output_type": "stream",
     "text": [
      "Auckland\n",
      "Hamilton\n",
      "Wellington\n"
     ]
    }
   ],
   "source": [
    "# use while loop to iterate\n",
    "cities = [\"Auckland\",\"Hamilton\",\"Wellington\"]\n",
    "i = 0\n",
    "while i < len(cities):\n",
    "    print(cities[i])\n",
    "    i = i+1"
   ]
  },
  {
   "cell_type": "markdown",
   "id": "d5a93c4b",
   "metadata": {},
   "source": [
    "## List Comprehension\n",
    "list comprehensions offers shorter syntax"
   ]
  },
  {
   "cell_type": "code",
   "execution_count": 8,
   "id": "264d5e4d",
   "metadata": {},
   "outputs": [
    {
     "name": "stdout",
     "output_type": "stream",
     "text": [
      "['Auckland', 'Hamilton', 'Wellington']\n",
      "['Auckland', 'Hamilton', 'Wellington']\n"
     ]
    }
   ],
   "source": [
    "cities = [\"Auckland\", \"Hamilton\",\"Wellington\"]\n",
    "newcities = [i for i in cities]\n",
    "print(cities)\n",
    "print(newcities)"
   ]
  },
  {
   "cell_type": "code",
   "execution_count": 4,
   "id": "39e3263d",
   "metadata": {},
   "outputs": [
    {
     "name": "stdout",
     "output_type": "stream",
     "text": [
      "['Hamilton', 'Wellington']\n"
     ]
    }
   ],
   "source": [
    "# use list comprehension for create a new list using an existing one\n",
    "# the following code create a new list using an existing list through a for loop\n",
    "cities = [\"Auckland\", \"Hamilton\",\"Wellington\"]\n",
    "newcities = []\n",
    "\n",
    "for i in cities:\n",
    "    if \"o\" in i:\n",
    "        newcities.append(i)\n",
    "\n",
    "print(newcities)"
   ]
  },
  {
   "cell_type": "code",
   "execution_count": 6,
   "id": "434c553e",
   "metadata": {},
   "outputs": [
    {
     "name": "stdout",
     "output_type": "stream",
     "text": [
      "['Hamilton', 'Wellington']\n"
     ]
    }
   ],
   "source": [
    "# we can use list comprehension to perform the above task\n",
    "# newlist = [expression for item in iterable if condition == True]\n",
    "\n",
    "cities = [\"Auckland\", \"Hamilton\",\"Wellington\"]\n",
    "newcities = [i for i in cities if \"o\" in i]\n",
    "print(newcities)"
   ]
  },
  {
   "cell_type": "code",
   "execution_count": 9,
   "id": "94d9aa51",
   "metadata": {},
   "outputs": [
    {
     "name": "stdout",
     "output_type": "stream",
     "text": [
      "['Auckland', 'Hamilton', 'Wellington']\n",
      "['Hamilton', 'Wellington']\n"
     ]
    }
   ],
   "source": [
    "cities = [\"Auckland\", \"Hamilton\",\"Wellington\"]\n",
    "newcities = [i for i in cities if i != \"Auckland\"]\n",
    "print(cities)\n",
    "print(newcities)"
   ]
  },
  {
   "cell_type": "code",
   "execution_count": 16,
   "id": "c8a3f278",
   "metadata": {},
   "outputs": [
    {
     "name": "stdout",
     "output_type": "stream",
     "text": [
      "['AUCKLAND', 'HAMILTON', 'WELLINGTON']\n"
     ]
    }
   ],
   "source": [
    "cities = [\"Auckland\", \"Hamilton\",\"Wellington\"]\n",
    "capcities = [i.upper() for i in cities]\n",
    "print(capcities)"
   ]
  },
  {
   "cell_type": "code",
   "execution_count": 17,
   "id": "f7281dd9",
   "metadata": {},
   "outputs": [
    {
     "name": "stdout",
     "output_type": "stream",
     "text": [
      "['hi', 'hi', 'hi']\n"
     ]
    }
   ],
   "source": [
    "cities = [\"Auckland\", \"Hamilton\",\"Wellington\"]\n",
    "greetings = ['hi' for i in cities]\n",
    "print(greetings)"
   ]
  },
  {
   "cell_type": "code",
   "execution_count": null,
   "id": "edf96fd3",
   "metadata": {},
   "outputs": [],
   "source": []
  },
  {
   "cell_type": "code",
   "execution_count": 10,
   "id": "499c0333",
   "metadata": {},
   "outputs": [
    {
     "name": "stdout",
     "output_type": "stream",
     "text": [
      "[0, 1, 2, 3, 4, 5, 6, 7, 8, 9, 10, 11, 12, 13, 14, 15, 16, 17, 18, 19, 20]\n"
     ]
    }
   ],
   "source": [
    "# with numerical lists\n",
    "numbers = list(range(21))\n",
    "print(numbers)"
   ]
  },
  {
   "cell_type": "code",
   "execution_count": 11,
   "id": "e308889a",
   "metadata": {},
   "outputs": [
    {
     "name": "stdout",
     "output_type": "stream",
     "text": [
      "[0, 1, 2, 3, 4, 5, 6, 7, 8, 9, 10, 11, 12, 13, 14, 15, 16, 17, 18, 19, 20]\n"
     ]
    }
   ],
   "source": [
    "numbers2 = [i for i in range(21)]\n",
    "print(numbers2)"
   ]
  },
  {
   "cell_type": "code",
   "execution_count": 15,
   "id": "b863bdee",
   "metadata": {},
   "outputs": [
    {
     "name": "stdout",
     "output_type": "stream",
     "text": [
      "[0, 2, 4, 6, 8, 10, 12, 14, 16, 18, 20]\n"
     ]
    }
   ],
   "source": [
    "# create a list with even numbers\n",
    "numbers3 = [i for i in range(21) if i % 2 == 0]\n",
    "print(numbers3)"
   ]
  },
  {
   "cell_type": "code",
   "execution_count": 18,
   "id": "0d4d6ff7",
   "metadata": {},
   "outputs": [
    {
     "name": "stdout",
     "output_type": "stream",
     "text": [
      "[0, 1, 4, 9, 16, 25, 36, 49, 64, 81, 100, 121, 144, 169, 196, 225, 256, 289, 324, 361, 400]\n"
     ]
    }
   ],
   "source": [
    "squarevalues = [val**2 for val in range(21)]\n",
    "print(squarevalues)"
   ]
  },
  {
   "cell_type": "code",
   "execution_count": null,
   "id": "327b11ec",
   "metadata": {},
   "outputs": [],
   "source": []
  },
  {
   "cell_type": "markdown",
   "id": "8d046ef8",
   "metadata": {},
   "source": [
    "## Sort list"
   ]
  },
  {
   "cell_type": "code",
   "execution_count": 19,
   "id": "6b370eab",
   "metadata": {},
   "outputs": [
    {
     "name": "stdout",
     "output_type": "stream",
     "text": [
      "['apple', 'orange', 'papaya', 'banana']\n",
      "['apple', 'banana', 'orange', 'papaya']\n"
     ]
    }
   ],
   "source": [
    "# sort() to ort the list\n",
    "fruits = ['apple','orange','papaya','banana']\n",
    "print(fruits)\n",
    "fruits.sort()\n",
    "print(fruits)"
   ]
  },
  {
   "cell_type": "code",
   "execution_count": 20,
   "id": "bac2d2ea",
   "metadata": {},
   "outputs": [
    {
     "name": "stdout",
     "output_type": "stream",
     "text": [
      "['apple', 'orange', 'papaya', 'banana']\n",
      "['papaya', 'orange', 'banana', 'apple']\n"
     ]
    }
   ],
   "source": [
    "# sort reverse using reverse argument (alphabaticaly reversed)\n",
    "fruits = ['apple','orange','papaya','banana']\n",
    "print(fruits)\n",
    "fruits.sort(reverse=True)\n",
    "print(fruits)"
   ]
  },
  {
   "cell_type": "code",
   "execution_count": 22,
   "id": "c2edc8ad",
   "metadata": {},
   "outputs": [
    {
     "name": "stdout",
     "output_type": "stream",
     "text": [
      "['Orange', 'Papaya', 'apple', 'banana']\n"
     ]
    }
   ],
   "source": [
    "# sort() is case sensitive, first sort the capital and then simple\n",
    "fruits = ['apple','Orange','Papaya','banana']\n",
    "fruits.sort()\n",
    "print(fruits)"
   ]
  },
  {
   "cell_type": "code",
   "execution_count": 23,
   "id": "c2c907ba",
   "metadata": {},
   "outputs": [
    {
     "name": "stdout",
     "output_type": "stream",
     "text": [
      "['apple', 'banana', 'Orange', 'Papaya']\n"
     ]
    }
   ],
   "source": [
    "# if we want to make the sort() case-insensitive\n",
    "fruits = ['apple','Orange','Papaya','banana']\n",
    "fruits.sort(key = str.lower)\n",
    "print(fruits)"
   ]
  },
  {
   "cell_type": "code",
   "execution_count": 29,
   "id": "d7105cc9",
   "metadata": {},
   "outputs": [
    {
     "name": "stdout",
     "output_type": "stream",
     "text": [
      "['apple', 'orange', 'papaya', 'banana']\n",
      "['apple', 'banana', 'orange', 'papaya']\n",
      "['apple', 'orange', 'papaya', 'banana']\n",
      "['apple', 'banana', 'orange', 'papaya']\n"
     ]
    }
   ],
   "source": [
    "# use sorted method to preserve the original order of teh list \n",
    "fruits = ['apple','orange','papaya','banana']\n",
    "print(fruits)\n",
    "print(sorted(fruits))\n",
    "print(fruits)\n",
    "# but if we use sort()\n",
    "fruits.sort()\n",
    "print(fruits)"
   ]
  },
  {
   "cell_type": "code",
   "execution_count": null,
   "id": "c696a3d4",
   "metadata": {},
   "outputs": [],
   "source": []
  },
  {
   "cell_type": "code",
   "execution_count": 25,
   "id": "c7f1f486",
   "metadata": {},
   "outputs": [
    {
     "name": "stdout",
     "output_type": "stream",
     "text": [
      "[3, 4, 5, 7, 9, 12]\n"
     ]
    }
   ],
   "source": [
    "# sorting numerical list\n",
    "no1 = [5,7,12,9,4,3]\n",
    "no1.sort()\n",
    "print(no1)"
   ]
  },
  {
   "cell_type": "code",
   "execution_count": 26,
   "id": "5d43fb8e",
   "metadata": {},
   "outputs": [
    {
     "name": "stdout",
     "output_type": "stream",
     "text": [
      "[12, 9, 7, 5, 4, 3]\n"
     ]
    }
   ],
   "source": [
    "no1 = [5,7,12,9,4,3]\n",
    "no1.sort(reverse = True)\n",
    "print(no1)"
   ]
  },
  {
   "cell_type": "code",
   "execution_count": 30,
   "id": "8d5133b7",
   "metadata": {},
   "outputs": [
    {
     "name": "stdout",
     "output_type": "stream",
     "text": [
      "['banana', 'papaya', 'orange', 'apple']\n"
     ]
    }
   ],
   "source": [
    "# use reverse() to print the reverse ordered list (reversed by index)\n",
    "fruits = ['apple','orange','papaya','banana']\n",
    "fruits.reverse()\n",
    "print(fruits)"
   ]
  },
  {
   "cell_type": "markdown",
   "id": "267e3bed",
   "metadata": {},
   "source": [
    "### Copy a list\n",
    "we can not use list1 = list2 in here, bcz the will refer the same list. so we can use copy() or list[:] method"
   ]
  },
  {
   "cell_type": "code",
   "execution_count": 33,
   "id": "a686f8fc",
   "metadata": {},
   "outputs": [
    {
     "name": "stdout",
     "output_type": "stream",
     "text": [
      "['apple', 'orange', 'papaya', 'banana']\n",
      "['apple', 'orange', 'papaya', 'banana']\n",
      "['apple', 'orange', 'papaya', 'banana', 'kiwi']\n",
      "['apple', 'orange', 'papaya', 'banana', 'Pineapple']\n"
     ]
    }
   ],
   "source": [
    "# use copy method\n",
    "fruits1 = ['apple','orange','papaya','banana']\n",
    "fruits2 = fruits1.copy()\n",
    "print(fruits1)\n",
    "print(fruits2)\n",
    "# can cahnge these two liksts to see whether they refer te same or not\n",
    "fruits1.append('kiwi')\n",
    "print(fruits1)\n",
    "fruits2.append('Pineapple')\n",
    "print(fruits2)"
   ]
  },
  {
   "cell_type": "code",
   "execution_count": 35,
   "id": "2c471038",
   "metadata": {},
   "outputs": [
    {
     "name": "stdout",
     "output_type": "stream",
     "text": [
      "['Auckland', 'Hamilton']\n",
      "['Auckland', 'Hamilton']\n"
     ]
    }
   ],
   "source": [
    "# use list[:]\n",
    "\n",
    "cities1 = [\"Auckland\",\"Hamilton\"]\n",
    "cities2 = cities1[:]\n",
    "print(cities1)\n",
    "print(cities2)"
   ]
  },
  {
   "cell_type": "code",
   "execution_count": 36,
   "id": "d8234fdc",
   "metadata": {},
   "outputs": [
    {
     "name": "stdout",
     "output_type": "stream",
     "text": [
      "['Auckland', 'Hamilton']\n",
      "['Auckland', 'Hamilton']\n"
     ]
    }
   ],
   "source": [
    "# us ethe list()\n",
    "cities1 = [\"Auckland\",\"Hamilton\"]\n",
    "cities2 = list(cities1)\n",
    "print(cities1)\n",
    "print(cities2)"
   ]
  },
  {
   "cell_type": "markdown",
   "id": "c0066512",
   "metadata": {},
   "source": [
    "## Join lists"
   ]
  },
  {
   "cell_type": "code",
   "execution_count": 37,
   "id": "0b9c58f2",
   "metadata": {},
   "outputs": [
    {
     "name": "stdout",
     "output_type": "stream",
     "text": [
      "['burger', 'chips', 'kebab', 'salad']\n"
     ]
    }
   ],
   "source": [
    "# use \"+\" to concatenate the lists\n",
    "foods1 = [\"burger\",\"chips\"]\n",
    "foods2 = [\"kebab\",\"salad\"]\n",
    "\n",
    "print(foods1+ foods2)"
   ]
  },
  {
   "cell_type": "code",
   "execution_count": 38,
   "id": "6b7e2b92",
   "metadata": {},
   "outputs": [
    {
     "name": "stdout",
     "output_type": "stream",
     "text": [
      "['burger', 'chips', 'kebab', 'salad']\n"
     ]
    }
   ],
   "source": [
    "# use append() \n",
    "\n",
    "foods1 = [\"burger\",\"chips\"]\n",
    "foods2 = [\"kebab\",\"salad\"]\n",
    "\n",
    "for i in foods2:\n",
    "    foods1.append(i)\n",
    "\n",
    "print(foods1)"
   ]
  },
  {
   "cell_type": "code",
   "execution_count": 40,
   "id": "494cea9c",
   "metadata": {},
   "outputs": [
    {
     "name": "stdout",
     "output_type": "stream",
     "text": [
      "['burger', 'chips', 'kebab', 'salad']\n"
     ]
    }
   ],
   "source": [
    "# use extend to concatenate the lists\n",
    "\n",
    "foods1 = [\"burger\",\"chips\"]\n",
    "foods2 = [\"kebab\",\"salad\"]\n",
    "\n",
    "foods1.extend(foods2)\n",
    "print(foods1)"
   ]
  },
  {
   "cell_type": "code",
   "execution_count": null,
   "id": "95ee0b15",
   "metadata": {},
   "outputs": [],
   "source": [
    "## List methods\n",
    "\n",
    "append()\tAdds an element at the end of the list\n",
    "clear()\tRemoves all the elements from the list\n",
    "copy()\tReturns a copy of the list\n",
    "count()\tReturns the number of elements with the specified value\n",
    "extend()\tAdd the elements of a list (or any iterable), to the end of the current list\n",
    "index()\tReturns the index of the first element with the specified value\n",
    "insert()\tAdds an element at the specified position\n",
    "pop()\tRemoves the element at the specified position\n",
    "remove()\tRemoves the item with the specified value\n",
    "reverse()\tReverses the order of the list\n",
    "sort()\tSorts the list\n"
   ]
  },
  {
   "cell_type": "code",
   "execution_count": null,
   "id": "db544cba",
   "metadata": {},
   "outputs": [],
   "source": []
  },
  {
   "cell_type": "markdown",
   "id": "0c2e18a1",
   "metadata": {},
   "source": [
    "### Python Arrays\n",
    "Note: Python does not have built-in support for Arrays, but Python Lists can be used instead.\n",
    "Arrays are used to store multiple values in one single variable."
   ]
  },
  {
   "cell_type": "code",
   "execution_count": 41,
   "id": "58501a9d",
   "metadata": {},
   "outputs": [],
   "source": [
    "#  Create an array with food names\n",
    "fruits = [\"Apple\",\"Pineapple\",\"Banana\",\"Papaya\"]"
   ]
  },
  {
   "cell_type": "code",
   "execution_count": 42,
   "id": "797f2604",
   "metadata": {},
   "outputs": [
    {
     "data": {
      "text/plain": [
       "'Pineapple'"
      ]
     },
     "execution_count": 42,
     "metadata": {},
     "output_type": "execute_result"
    }
   ],
   "source": [
    "# Access the array6 elements \n",
    "fruits[1]"
   ]
  },
  {
   "cell_type": "code",
   "execution_count": 43,
   "id": "3017b3ee",
   "metadata": {},
   "outputs": [],
   "source": [
    "# Modify the array values\n",
    "fruits[1] = \"Kiwi\""
   ]
  },
  {
   "cell_type": "code",
   "execution_count": 44,
   "id": "829610a1",
   "metadata": {},
   "outputs": [
    {
     "data": {
      "text/plain": [
       "['Apple', 'Kiwi', 'Banana', 'Papaya']"
      ]
     },
     "execution_count": 44,
     "metadata": {},
     "output_type": "execute_result"
    }
   ],
   "source": [
    "fruits"
   ]
  },
  {
   "cell_type": "code",
   "execution_count": 45,
   "id": "17305a19",
   "metadata": {},
   "outputs": [
    {
     "data": {
      "text/plain": [
       "4"
      ]
     },
     "execution_count": 45,
     "metadata": {},
     "output_type": "execute_result"
    }
   ],
   "source": [
    "# length of an array\n",
    "len(fruits)"
   ]
  },
  {
   "cell_type": "code",
   "execution_count": 46,
   "id": "6dfd5e5c",
   "metadata": {},
   "outputs": [
    {
     "name": "stdout",
     "output_type": "stream",
     "text": [
      "Apple\n",
      "Kiwi\n",
      "Banana\n",
      "Papaya\n"
     ]
    }
   ],
   "source": [
    "# Looping array element\n",
    "for i in fruits:\n",
    "    print(i)"
   ]
  },
  {
   "cell_type": "code",
   "execution_count": 47,
   "id": "d657746a",
   "metadata": {},
   "outputs": [
    {
     "data": {
      "text/plain": [
       "['Apple', 'Kiwi', 'Banana', 'Papaya', 'Orange']"
      ]
     },
     "execution_count": 47,
     "metadata": {},
     "output_type": "execute_result"
    }
   ],
   "source": [
    "# Adding array elements\n",
    "fruits.append(\"Orange\")\n",
    "fruits"
   ]
  },
  {
   "cell_type": "code",
   "execution_count": 48,
   "id": "4d14575c",
   "metadata": {},
   "outputs": [
    {
     "data": {
      "text/plain": [
       "['Apple', 'Banana', 'Papaya', 'Orange']"
      ]
     },
     "execution_count": 48,
     "metadata": {},
     "output_type": "execute_result"
    }
   ],
   "source": [
    "# Remove array elements by pop()\n",
    "fruits.pop(1)\n",
    "fruits"
   ]
  },
  {
   "cell_type": "code",
   "execution_count": 49,
   "id": "697b15e1",
   "metadata": {},
   "outputs": [
    {
     "data": {
      "text/plain": [
       "['Banana', 'Papaya', 'Orange']"
      ]
     },
     "execution_count": 49,
     "metadata": {},
     "output_type": "execute_result"
    }
   ],
   "source": [
    "# Use remove()\n",
    "fruits.remove(\"Apple\")\n",
    "fruits"
   ]
  },
  {
   "cell_type": "code",
   "execution_count": 50,
   "id": "2325ebf9",
   "metadata": {},
   "outputs": [
    {
     "data": {
      "text/plain": [
       "['Banana', 'Papaya', 'Orange']"
      ]
     },
     "execution_count": 50,
     "metadata": {},
     "output_type": "execute_result"
    }
   ],
   "source": [
    "# Use copy()\n",
    "fruitsnew = fruits.copy()\n",
    "fruitsnew"
   ]
  },
  {
   "cell_type": "code",
   "execution_count": 51,
   "id": "82bcf897",
   "metadata": {},
   "outputs": [
    {
     "data": {
      "text/plain": [
       "2"
      ]
     },
     "execution_count": 51,
     "metadata": {},
     "output_type": "execute_result"
    }
   ],
   "source": [
    "# Use count()\n",
    "fruits =[\"Apple\",\"Banana\",\"Apple\",\"Orange\"]\n",
    "fruits.count(\"Apple\")"
   ]
  },
  {
   "cell_type": "code",
   "execution_count": 55,
   "id": "fc8f313f",
   "metadata": {},
   "outputs": [
    {
     "data": {
      "text/plain": [
       "['Apple', 'banana', 'Kiwi', 'Blueberry']"
      ]
     },
     "execution_count": 55,
     "metadata": {},
     "output_type": "execute_result"
    }
   ],
   "source": [
    "# extend()\n",
    "fruits = [\"Apple\",\"banana\"]\n",
    "more_fruits = [\"Kiwi\",\"Blueberry\"]\n",
    "fruits.extend(more_fruits)\n",
    "fruits"
   ]
  },
  {
   "cell_type": "code",
   "execution_count": 56,
   "id": "27a852da",
   "metadata": {},
   "outputs": [
    {
     "data": {
      "text/plain": [
       "0"
      ]
     },
     "execution_count": 56,
     "metadata": {},
     "output_type": "execute_result"
    }
   ],
   "source": [
    "# index()\n",
    "fruits.index(\"Apple\")"
   ]
  },
  {
   "cell_type": "code",
   "execution_count": 57,
   "id": "3330e033",
   "metadata": {},
   "outputs": [
    {
     "data": {
      "text/plain": [
       "['Apple', 'banana', 'Orange', 'Kiwi', 'Blueberry']"
      ]
     },
     "execution_count": 57,
     "metadata": {},
     "output_type": "execute_result"
    }
   ],
   "source": [
    "# Use insert()\n",
    "fruits.insert(2,\"Orange\")\n",
    "fruits"
   ]
  },
  {
   "cell_type": "code",
   "execution_count": 61,
   "id": "d7529daf",
   "metadata": {},
   "outputs": [
    {
     "data": {
      "text/plain": [
       "['Blueberry', 'Kiwi', 'Orange', 'banana', 'Apple']"
      ]
     },
     "execution_count": 61,
     "metadata": {},
     "output_type": "execute_result"
    }
   ],
   "source": [
    "# Use reverse()\n",
    "fruits.reverse()\n",
    "fruits"
   ]
  },
  {
   "cell_type": "code",
   "execution_count": 62,
   "id": "7e0880cd",
   "metadata": {},
   "outputs": [
    {
     "data": {
      "text/plain": [
       "['Apple', 'Blueberry', 'Kiwi', 'Orange', 'banana']"
      ]
     },
     "execution_count": 62,
     "metadata": {},
     "output_type": "execute_result"
    }
   ],
   "source": [
    "# Use sort()\n",
    "fruits.sort()\n",
    "fruits"
   ]
  },
  {
   "cell_type": "code",
   "execution_count": null,
   "id": "2bc7df6e",
   "metadata": {},
   "outputs": [],
   "source": []
  }
 ],
 "metadata": {
  "kernelspec": {
   "display_name": "Python 3",
   "language": "python",
   "name": "python3"
  },
  "language_info": {
   "codemirror_mode": {
    "name": "ipython",
    "version": 3
   },
   "file_extension": ".py",
   "mimetype": "text/x-python",
   "name": "python",
   "nbconvert_exporter": "python",
   "pygments_lexer": "ipython3",
   "version": "3.8.2"
  }
 },
 "nbformat": 4,
 "nbformat_minor": 5
}
