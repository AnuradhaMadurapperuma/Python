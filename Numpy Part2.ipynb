{
 "cells": [
  {
   "cell_type": "markdown",
   "id": "c110fbf5",
   "metadata": {},
   "source": [
    "## Random Numbers in NumPy\n",
    "What is a Random Number?\n",
    "Random number does NOT mean a different number every time. Random means something that can not be predicted logically.\n",
    "\n",
    "Pseudo Random and True Random.\n",
    "Computers work on programs, and programs are definitive set of instructions. So it means there must be some algorithm to generate a random number as well.\n",
    "\n",
    "If there is a program to generate random number it can be predicted, thus it is not truly random.\n",
    "\n",
    "Random numbers generated through a generation algorithm are called pseudo random.\n",
    "\n",
    "Can we make truly random numbers?\n",
    "\n",
    "Yes. In order to generate a truly random number on our computers we need to get the random data from some outside source. This outside source is generally our keystrokes, mouse movements, data on network etc.\n",
    "\n",
    "We do not need truly random numbers, unless it is related to security (e.g. encryption keys) or the basis of application is the randomness (e.g. Digital roulette wheels).\n",
    "\n",
    "In this tutorial we will be using pseudo random numbers.\n",
    "\n",
    "Generate Random Number\n",
    "NumPy offers the random module to work with random numbers"
   ]
  },
  {
   "cell_type": "code",
   "execution_count": 3,
   "id": "efb886fb",
   "metadata": {},
   "outputs": [
    {
     "name": "stdout",
     "output_type": "stream",
     "text": [
      "7\n"
     ]
    }
   ],
   "source": [
    "from numpy import random\n",
    "x = random.randint(100)\n",
    "print(x)"
   ]
  },
  {
   "cell_type": "code",
   "execution_count": 5,
   "id": "a4b95430",
   "metadata": {},
   "outputs": [
    {
     "name": "stdout",
     "output_type": "stream",
     "text": [
      "0.8810165769467014\n"
     ]
    }
   ],
   "source": [
    "# Generate Random Float\n",
    "# The random module's rand() method returns a random float between 0 and 1.\n",
    "# Generate a random float from 0 to 1\n",
    "from numpy import random\n",
    "x = random.rand()\n",
    "print(x)"
   ]
  },
  {
   "cell_type": "code",
   "execution_count": 6,
   "id": "022496b4",
   "metadata": {},
   "outputs": [
    {
     "name": "stdout",
     "output_type": "stream",
     "text": [
      "[81 25  3 17 27 16 52 49  5  4]\n"
     ]
    }
   ],
   "source": [
    "# Generate Random Array\n",
    "# In NumPy we work with arrays, and you can use the two methods from the above examples to make random arrays.\n",
    "\n",
    "# Integers\n",
    "# The randint() method takes a size parameter where you can specify the shape of an array.\n",
    "\n",
    "# Generate a 1-D array containing 5 random integers from 0 to 100\n",
    "from numpy import random\n",
    "x = random.randint(100, size=10)\n",
    "print(x)"
   ]
  },
  {
   "cell_type": "code",
   "execution_count": 8,
   "id": "323329d2",
   "metadata": {},
   "outputs": [
    {
     "name": "stdout",
     "output_type": "stream",
     "text": [
      "[[51 14  1 86 80]\n",
      " [55 95 19 51 17]\n",
      " [92 18 84 58  4]]\n"
     ]
    }
   ],
   "source": [
    "# Generate a 2-D array with 3 rows, each row containing 5 random integers from 0 to 100\n",
    "from numpy import random\n",
    "x = random.randint(100, size=(3,5))\n",
    "print(x)"
   ]
  },
  {
   "cell_type": "code",
   "execution_count": 9,
   "id": "df094452",
   "metadata": {},
   "outputs": [
    {
     "name": "stdout",
     "output_type": "stream",
     "text": [
      "[0.66354802 0.48030957 0.56373066 0.72045022 0.85157891]\n"
     ]
    }
   ],
   "source": [
    "# Floats\n",
    "# The rand() method also allows you to specify the shape of the array.\n",
    "\n",
    "# Generate a 1-D array containing 5 random floats\n",
    "from numpy import random\n",
    "x = random.rand(5)\n",
    "print(x)"
   ]
  },
  {
   "cell_type": "code",
   "execution_count": 10,
   "id": "b5ecdeaf",
   "metadata": {},
   "outputs": [
    {
     "name": "stdout",
     "output_type": "stream",
     "text": [
      "[[0.37635288 0.16410566 0.4565464  0.90793149 0.02877815]\n",
      " [0.96969676 0.36550921 0.2118584  0.05881417 0.64165647]\n",
      " [0.53517951 0.07550002 0.23534613 0.85412129 0.68284153]]\n"
     ]
    }
   ],
   "source": [
    "# Generate a 2-D array with 3 rows, each row containing 5 random numbers:\n",
    "from numpy import random\n",
    "x = random.rand(3,5)\n",
    "print(x)"
   ]
  },
  {
   "cell_type": "code",
   "execution_count": 12,
   "id": "8ac5aee2",
   "metadata": {},
   "outputs": [
    {
     "name": "stdout",
     "output_type": "stream",
     "text": [
      "5\n"
     ]
    }
   ],
   "source": [
    "# Generate Random Number From Array\n",
    "# The choice() method allows you to generate a random value based on an array of values.\n",
    "\n",
    "# The choice() method takes an array as a parameter and randomly returns one of the values.\n",
    "\n",
    "# Return one of the values in an array\n",
    "from numpy import random\n",
    "x = random.choice([3,5,7,9,10])\n",
    "print(x)"
   ]
  },
  {
   "cell_type": "code",
   "execution_count": 14,
   "id": "3a96fdc4",
   "metadata": {},
   "outputs": [
    {
     "name": "stdout",
     "output_type": "stream",
     "text": [
      "[[5 9 9 3 7]\n",
      " [7 7 7 5 5]\n",
      " [5 3 9 3 3]]\n"
     ]
    }
   ],
   "source": [
    "# The choice() method also allows you to return an array of values.\n",
    "\n",
    "# Add a size parameter to specify the shape of the array.\n",
    "\n",
    "# Generate a 2-D array that consists of the values in the array parameter (3, 5, 7, and 9)\n",
    "\n",
    "from numpy import random\n",
    "x = random.choice([3,5,7,9], size=(3,5))\n",
    "print(x)"
   ]
  },
  {
   "cell_type": "markdown",
   "id": "d4707f71",
   "metadata": {},
   "source": [
    "## Random Data Distribution\n",
    "What is Data Distribution?\n",
    "Data Distribution is a list of all possible values, and how often each value occurs.\n",
    "\n",
    "Such lists are important when working with statistics and data science.\n",
    "\n",
    "The random module offer methods that returns randomly generated data distributions.\n",
    "\n",
    "Random Distribution\n",
    "A random distribution is a set of random numbers that follow a certain probability density function.\n",
    "\n",
    "Probability Density Function: A function that describes a continuous probability. i.e. probability of all values in an array.\n",
    "\n",
    "We can generate random numbers based on defined probabilities using the choice() method of the random module.\n",
    "\n",
    "The choice() method allows us to specify the probability for each value.\n",
    "\n",
    "The probability is set by a number between 0 and 1, where 0 means that the value will never occur and 1 means that the value will always occur.\n",
    "\n",
    "\n"
   ]
  },
  {
   "cell_type": "code",
   "execution_count": 15,
   "id": "c23bde53",
   "metadata": {},
   "outputs": [
    {
     "name": "stdout",
     "output_type": "stream",
     "text": [
      "[7 7 7 7 7 7 7 7 7 7 7 5 7 7 7 3 7 7 7 7 7 5 3 3 7 7 7 7 7 7 3 7 7 7 7 5 3\n",
      " 5 7 3 5 3 7 7 7 7 5 5 5 7 7 7 5 5 7 7 7 7 5 5 7 5 3 7 7 7 7 7 5 5 7 5 5 5\n",
      " 7 7 7 5 7 5 5 5 3 5 5 7 5 7 5 7 7 7 7 7 7 7 5 7 7 7]\n"
     ]
    }
   ],
   "source": [
    "\n",
    "# Generate a 1-D array containing 100 values, where each value has to be 3, 5, 7 or 9.\n",
    "\n",
    "# The probability for the value to be 3 is set to be 0.1\n",
    "\n",
    "# The probability for the value to be 5 is set to be 0.3\n",
    "\n",
    "# The probability for the value to be 7 is set to be 0.6\n",
    "\n",
    "# The probability for the value to be 9 is set to be 0\n",
    "\n",
    "from numpy import random\n",
    "x = random.choice([3,5,7,9], p =[0.1,0.3,0.6,0.0], size = (100))\n",
    "print(x)\n",
    "# The sum of all probability numbers should be 1."
   ]
  },
  {
   "cell_type": "code",
   "execution_count": 16,
   "id": "beeeff01",
   "metadata": {},
   "outputs": [
    {
     "name": "stdout",
     "output_type": "stream",
     "text": [
      "[[3 7 7 5 7]\n",
      " [7 7 7 7 5]\n",
      " [5 7 7 5 5]]\n"
     ]
    }
   ],
   "source": [
    "# Same example as above, but return a 2-D array with 3 rows, each containing 5 values\n",
    "from numpy import random\n",
    "x = random.choice([3,5,7,9], p =[0.1,0.3,0.6,0.0], size = (3,5))\n",
    "print(x)\n"
   ]
  },
  {
   "cell_type": "markdown",
   "id": "a0ac2d6b",
   "metadata": {},
   "source": [
    "### Random Permutations\n",
    "Random Permutations of Elements\n",
    "A permutation refers to an arrangement of elements. e.g. [3, 2, 1] is a permutation of [1, 2, 3] and vice-versa.\n",
    "\n",
    "The NumPy Random module provides two methods for this: shuffle() and permutation().\n",
    "\n",
    "Shuffling Arrays\n",
    "Shuffle means changing arrangement of elements in-place. i.e. in the array itself.\n"
   ]
  },
  {
   "cell_type": "code",
   "execution_count": 17,
   "id": "03d19da4",
   "metadata": {},
   "outputs": [
    {
     "name": "stdout",
     "output_type": "stream",
     "text": [
      "[3 1 5 4 2]\n"
     ]
    }
   ],
   "source": [
    "\n",
    "# Randomly shuffle elements of following array:\n",
    "from numpy import random\n",
    "import numpy as np\n",
    "\n",
    "arr = np.array([1, 2, 3, 4, 5])\n",
    "\n",
    "random.shuffle(arr)\n",
    "\n",
    "print(arr)\n",
    "# The shuffle() method makes changes to the original array."
   ]
  },
  {
   "cell_type": "code",
   "execution_count": 18,
   "id": "713f8d8e",
   "metadata": {},
   "outputs": [
    {
     "name": "stdout",
     "output_type": "stream",
     "text": [
      "[5 2 4 3 1]\n"
     ]
    }
   ],
   "source": [
    "# Generating Permutation of Arrays\n",
    "# Generate a random permutation of elements of following array:\n",
    "\n",
    "from numpy import random\n",
    "import numpy as np\n",
    "\n",
    "arr = np.array([1, 2, 3, 4, 5])\n",
    "\n",
    "print(random.permutation(arr))\n",
    "# The permutation() method returns a re-arranged array (and leaves the original array un-changed)."
   ]
  },
 "metadata": {
  "kernelspec": {
   "display_name": "Python 3",
   "language": "python",
   "name": "python3"
  },
  "language_info": {
   "codemirror_mode": {
    "name": "ipython",
    "version": 3
   },
   "file_extension": ".py",
   "mimetype": "text/x-python",
   "name": "python",
   "nbconvert_exporter": "python",
   "pygments_lexer": "ipython3",
   "version": "3.8.2"
  }
 },
 "nbformat": 4,
 "nbformat_minor": 5
}
