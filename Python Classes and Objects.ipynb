{
 "cells": [
  {
   "cell_type": "markdown",
   "id": "231f149f",
   "metadata": {},
   "source": [
    "Python is an object oriented programming language.\n",
    "\n",
    "Almost everything in Python is an object, with its properties and methods.\n",
    "\n",
    "A Class is like an object constructor, or a \"blueprint\" for creating objects"
   ]
  },
  {
   "cell_type": "code",
   "execution_count": 1,
   "id": "19c4ae61",
   "metadata": {},
   "outputs": [],
   "source": [
    "# Create a class\n",
    "class myClass:\n",
    "    x =10"
   ]
  },
  {
   "cell_type": "code",
   "execution_count": 2,
   "id": "568c4407",
   "metadata": {},
   "outputs": [
    {
     "name": "stdout",
     "output_type": "stream",
     "text": [
      "10\n"
     ]
    }
   ],
   "source": [
    "# Create objects\n",
    "c1 = myClass()\n",
    "print(c1.x)"
   ]
  },
  {
   "cell_type": "markdown",
   "id": "b8d7da14",
   "metadata": {},
   "source": [
    "### The __init__() Function\n",
    "The examples above are classes and objects in their simplest form, and are not really useful in real life applications.\n",
    "\n",
    "To understand the meaning of classes we have to understand the built-in __init__() function.\n",
    "\n",
    "All classes have a function called __init__(), which is always executed when the class is being initiated.\n",
    "\n",
    "Use the __init__() function to assign values to object properties, or other operations that are necessary to do when the object is being created.\n",
    "Note: The __init__() function is called automatically every time the class is being used to create a new object."
   ]
  },
  {
   "cell_type": "code",
   "execution_count": 7,
   "id": "98917490",
   "metadata": {},
   "outputs": [
    {
     "name": "stdout",
     "output_type": "stream",
     "text": [
      "Anne\n",
      "25\n",
      "<__main__.student object at 0x108ca3e80>\n"
     ]
    }
   ],
   "source": [
    "class student:\n",
    "    def __init__(self,name,age):\n",
    "        self.name = name\n",
    "        self.age = age\n",
    " \n",
    "c1 = student(\"Anne\", 25)\n",
    "print(c1.name)\n",
    "print(c1.age)\n",
    "print(c1)"
   ]
  },
  {
   "cell_type": "markdown",
   "id": "7c47cd03",
   "metadata": {},
   "source": [
    "### The __str__() Function\n",
    "The __str__() function controls what should be returned when the class object is represented as a string.\n",
    "\n",
    "If the __str__() function is not set, the string representation of the object is returned.\n"
   ]
  },
  {
   "cell_type": "code",
   "execution_count": 6,
   "id": "8de87378",
   "metadata": {},
   "outputs": [
    {
     "name": "stdout",
     "output_type": "stream",
     "text": [
      "Anne(26)\n"
     ]
    }
   ],
   "source": [
    "class Student:\n",
    "    def __init__(self,name,age):\n",
    "        self.name = name\n",
    "        self.age = age\n",
    "        \n",
    "    def __str__(self):\n",
    "        return f\"{self.name}({self.age})\"\n",
    "    \n",
    "s1 = Student(\"Anne\", 26)\n",
    "print(s1)\n"
   ]
  },
  {
   "cell_type": "markdown",
   "id": "cb3f37d8",
   "metadata": {},
   "source": [
    "### Object Methods\n",
    "Objects can also contain methods. Methods in objects are functions that belong to the object.\n",
    "\n",
    "Let us create a method in the Person class"
   ]
  },
  {
   "cell_type": "code",
   "execution_count": 8,
   "id": "1f0b5fd4",
   "metadata": {},
   "outputs": [
    {
     "name": "stdout",
     "output_type": "stream",
     "text": [
      "My Name is: Anne\n"
     ]
    }
   ],
   "source": [
    "class Student:\n",
    "    def __init__(self,name,age):\n",
    "        self.name= name\n",
    "        self.age = age\n",
    "    def myfunc(self):\n",
    "        print(\"My Name is: \"+ self.name)\n",
    "s1 = Student(\"Anne\", 25)\n",
    "s1.myfunc()"
   ]
  },
  {
   "cell_type": "markdown",
   "id": "6d1fd3ba",
   "metadata": {},
   "source": [
    "### The self Parameter\n",
    "The self parameter is a reference to the current instance of the class, and is used to access variables that belongs to the class.\n",
    "\n",
    "It does not have to be named self , you can call it whatever you like, but it has to be the first parameter of any function in the class."
   ]
  },
  {
   "cell_type": "code",
   "execution_count": 9,
   "id": "e95815f4",
   "metadata": {},
   "outputs": [
    {
     "name": "stdout",
     "output_type": "stream",
     "text": [
      "My Name is :Joe\n"
     ]
    }
   ],
   "source": [
    "class Student:\n",
    "    def __init__(anyname, name,age):\n",
    "        anyname.name= name\n",
    "        anyname.age = age\n",
    "    def myfunc(anything):\n",
    "        print(\"My Name is :\"+ anything.name)\n",
    "        \n",
    "s1 = Student(\"Joe\", 27)\n",
    "s1.myfunc()"
   ]
  },
  {
   "cell_type": "code",
   "execution_count": 10,
   "id": "a216adf2",
   "metadata": {},
   "outputs": [
    {
     "name": "stdout",
     "output_type": "stream",
     "text": [
      "My Name is :Ross\n"
     ]
    }
   ],
   "source": [
    "# Modify Object Properties\n",
    "\n",
    "s1.name = \"Ross\"\n",
    "s1.myfunc()"
   ]
  },
  {
   "cell_type": "code",
   "execution_count": 11,
   "id": "ecd88485",
   "metadata": {},
   "outputs": [],
   "source": [
    "# Delete Object Properties\n",
    "# You can delete properties on objects by using the del keyword:\n",
    "\n",
    "del s1.age"
   ]
  },
  {
   "cell_type": "code",
   "execution_count": 12,
   "id": "937a6984",
   "metadata": {},
   "outputs": [],
   "source": [
    "# Delete Objects\n",
    "# You can delete objects by using the del keyword\n",
    "del s1"
   ]
  },
  {
   "cell_type": "code",
   "execution_count": 13,
   "id": "b3dce8f8",
   "metadata": {},
   "outputs": [],
   "source": [
    "# The pass Statement\n",
    "# class definitions cannot be empty, but if you for some reason have a class definition with no content, put in the pass statement to avoid getting an error.\n",
    "class MyClass:\n",
    "    pass"
   ]
  },
  {
   "cell_type": "markdown",
   "id": "18a0862c",
   "metadata": {},
   "source": [
    "## Pythin Inheritance\n",
    "\n",
    "Inheritance allows us to define a class that inherits all the methods and properties from another class.\n",
    "\n",
    "Parent class is the class being inherited from, also called base class.\n",
    "\n",
    "Child class is the class that inherits from another class, also called derived class."
   ]
  },
  {
   "cell_type": "code",
   "execution_count": 14,
   "id": "36cce46a",
   "metadata": {},
   "outputs": [
    {
     "name": "stdout",
     "output_type": "stream",
     "text": [
      "Full name is : Anne Green\n"
     ]
    }
   ],
   "source": [
    "# Create a Parent Class\n",
    "# Any class can be a parent class, so the syntax is the same as creating any other class\n",
    "class Person:\n",
    "    def __init__(self,fname,lname):\n",
    "        self.fname = fname\n",
    "        self.lname = lname\n",
    "    def printname(self):\n",
    "        print(\"Full name is : \"+ self.fname + \" \" + self.lname)\n",
    "        \n",
    "p1 = Person(\"Anne\", \"Green\")\n",
    "p1.printname()"
   ]
  },
  {
   "cell_type": "code",
   "execution_count": 15,
   "id": "41b2794e",
   "metadata": {},
   "outputs": [],
   "source": [
    "# Create a Child Class\n",
    "# To create a class that inherits the functionality from another class, send the parent class as a parameter when creating the child class:\n",
    "\n",
    "class Student(Person):\n",
    "    pass\n"
   ]
  },
  {
   "cell_type": "code",
   "execution_count": 16,
   "id": "cccb4069",
   "metadata": {},
   "outputs": [
    {
     "name": "stdout",
     "output_type": "stream",
     "text": [
      "Full name is : Anne Williamson\n"
     ]
    }
   ],
   "source": [
    "# Now the Student class has the same properties and methods as the Person class\n",
    "# Use the Student class to create an object, and then execute the printname method\n",
    "\n",
    "s1 = Student(\"Anne\" , \"Williamson\")\n",
    "s1.printname()"
   ]
  },
  {
   "cell_type": "code",
   "execution_count": 18,
   "id": "6f7c8a92",
   "metadata": {},
   "outputs": [],
   "source": [
    "# Add the __init__() function to the Student class\n",
    "class Student(Person):\n",
    "    def __init__(self, fname,lname):\n",
    "        pass"
   ]
  },
  {
   "cell_type": "code",
   "execution_count": null,
   "id": "b9c4bc0d",
   "metadata": {},
   "outputs": [],
   "source": [
    "# When you add the __init__() function, the child class will no longer inherit the parent's __init__() function.\n",
    "\n",
    "# Note: The child's __init__() function overrides the inheritance of the parent's __init__() function.\n",
    "# To keep the inheritance of the parent's __init__() function, add a call to the parent's __init__() function"
   ]
  },
  {
   "cell_type": "code",
   "execution_count": 19,
   "id": "52b0c0b1",
   "metadata": {},
   "outputs": [],
   "source": [
    "class Student(Person):\n",
    "    def __init__(self, fname,lname):\n",
    "        Peron.__init__(self,fname,lname)\n",
    "        "
   ]
  },
  {
   "cell_type": "code",
   "execution_count": 20,
   "id": "23b4015b",
   "metadata": {},
   "outputs": [],
   "source": [
    "# Use the super() Function\n",
    "# Python also has a super() function that will make the child class inherit all the methods and properties from its parent\n",
    "\n",
    "class Student(Person):\n",
    "    def __init__(self, fname,lname):\n",
    "        super().__init__(self,fname,lname)\n",
    "        "
   ]
  },
  {
   "cell_type": "code",
   "execution_count": 25,
   "id": "d974269a",
   "metadata": {},
   "outputs": [],
   "source": [
    "# Add Properties\n",
    "class Student(Person):\n",
    "    def __init__(self,fname,lname):\n",
    "        super().__init__(self,fname,lname)\n",
    "        self.gradyear = 2024\n",
    "        "
   ]
  },
  {
   "cell_type": "code",
   "execution_count": 26,
   "id": "b2f7b0a6",
   "metadata": {},
   "outputs": [],
   "source": [
    "# In the example below, the year 2019 should be a variable, and passed into the Student class when creating student objects. To do so, add another parameter in the __init__() function\n",
    "\n",
    "class Student(Person):\n",
    "    def __init__(self,fname,lname,year):\n",
    "        super().__init__(fname,lname)\n",
    "        self.year = year\n",
    "        \n",
    "s1 = Student(\"Anna\" , \"Williamson\" , 2024)        "
   ]
  },
  {
   "cell_type": "code",
   "execution_count": 27,
   "id": "ba253dd5",
   "metadata": {},
   "outputs": [],
   "source": [
    "# Add Methods\n",
    "# Add a method called welcome to the Student class:\n",
    "\n",
    "class Student(Person):\n",
    "    def __init__(self,fname,lname,year):\n",
    "        super().__init__(fname,lname)\n",
    "        self.year = year\n",
    "        \n",
    "    def welcome():\n",
    "        print(\"Welcome \" + self.fname, self.lname + \"to the class of \" + self.year)"
   ]
  },
  {
   "cell_type": "markdown",
   "id": "1af96d58",
   "metadata": {},
   "source": [
    "## Python iterators\n",
    "An iterator is an object that contains a countable number of values.\n",
    "\n",
    "An iterator is an object that can be iterated upon, meaning that you can traverse through all the values.\n",
    "\n",
    "Technically, in Python, an iterator is an object which implements the iterator protocol, which consist of the methods __iter__() and __next__().\n"
   ]
  },
  {
   "cell_type": "code",
   "execution_count": 28,
   "id": "69bf276b",
   "metadata": {},
   "outputs": [
    {
     "name": "stdout",
     "output_type": "stream",
     "text": [
      "Apple\n",
      "Orange\n",
      "Banana\n",
      "Papaya\n"
     ]
    }
   ],
   "source": [
    "# Iterator vs Iterable\n",
    "# Lists, tuples, dictionaries, and sets are all iterable objects. They are iterable containers which you can get an iterator from.\n",
    "\n",
    "# All these objects have a iter() method which is used to get an iterator\n",
    "\n",
    "tuple1 =  (\"Apple\",\"Orange\",\"Banana\",\"Papaya\")\n",
    "tup1 = iter(tuple1)\n",
    "print(next(tup1))\n",
    "print(next(tup1))\n",
    "print(next(tup1))\n",
    "print(next(tup1))"
   ]
  },
  {
   "cell_type": "code",
   "execution_count": 29,
   "id": "a32e7e3b",
   "metadata": {},
   "outputs": [
    {
     "name": "stdout",
     "output_type": "stream",
     "text": [
      "A\n",
      "n\n",
      "n\n",
      "a\n"
     ]
    }
   ],
   "source": [
    "# Even strings are iterable objects, and can return an iterator:\n",
    "\n",
    "# Strings are also iterable objects, containing a sequence of characters\n",
    "\n",
    "str1 = \"Anna\"\n",
    "strIt = iter(str1)\n",
    "print(next(strIt))\n",
    "print(next(strIt))\n",
    "print(next(strIt))\n",
    "print(next(strIt))"
   ]
  },
  {
   "cell_type": "code",
   "execution_count": 30,
   "id": "6a7440ce",
   "metadata": {},
   "outputs": [
    {
     "name": "stdout",
     "output_type": "stream",
     "text": [
      "Apple\n",
      "Banana\n",
      "Orange\n",
      "Papaya\n"
     ]
    }
   ],
   "source": [
    "# Looping Through an Iterator\n",
    "# We can also use a for loop to iterate through an iterable object\n",
    "\n",
    "tuple1 = (\"Apple\",\"Banana\",\"Orange\",\"Papaya\")\n",
    "\n",
    "for i in tuple1:\n",
    "    print(i)"
   ]
  },
  {
   "cell_type": "code",
   "execution_count": 31,
   "id": "c9f0d497",
   "metadata": {},
   "outputs": [
    {
     "name": "stdout",
     "output_type": "stream",
     "text": [
      "A\n",
      "n\n",
      "n\n",
      "a\n"
     ]
    }
   ],
   "source": [
    "# iterate the strings\n",
    "str1  = \"Anna\"\n",
    "for i in str1:\n",
    "    print(i)"
   ]
  },
  {
   "cell_type": "markdown",
   "id": "404c5b14",
   "metadata": {},
   "source": [
    "### Create an Iterator\n",
    "To create an object/class as an iterator you have to implement the methods __iter__() and __next__() to your object.\n",
    "\n",
    "As you have learned in the Python Classes/Objects chapter, all classes have a function called __init__(), which allows you to do some initializing when the object is being created.\n",
    "\n",
    "The __iter__() method acts similar, you can do operations (initializing etc.), but must always return the iterator object itself.\n",
    "\n",
    "The __next__() method also allows you to do operations, and must return the next item in the sequence."
   ]
  },
  {
   "cell_type": "code",
   "execution_count": 32,
   "id": "ce89faa0",
   "metadata": {},
   "outputs": [
    {
     "name": "stdout",
     "output_type": "stream",
     "text": [
      "1\n",
      "2\n",
      "3\n",
      "4\n",
      "5\n"
     ]
    }
   ],
   "source": [
    "class MyNumbers:\n",
    "  def __iter__(self):\n",
    "    self.a = 1\n",
    "    return self\n",
    "\n",
    "  def __next__(self):\n",
    "    x = self.a\n",
    "    self.a += 1\n",
    "    return x\n",
    "\n",
    "myclass = MyNumbers()\n",
    "myiter = iter(myclass)\n",
    "\n",
    "print(next(myiter))\n",
    "print(next(myiter))\n",
    "print(next(myiter))\n",
    "print(next(myiter))\n",
    "print(next(myiter))"
   ]
  },
  {
   "cell_type": "markdown",
   "id": "dc2105cf",
   "metadata": {},
   "source": [
    "## StopIteration\n",
    "The example above would continue forever if you had enough next() statements, or if it was used in a for loop.\n",
    "\n",
    "To prevent the iteration from going on forever, we can use the StopIteration statement.\n",
    "\n",
    "In the __next__() method, we can add a terminating condition to raise an error if the iteration is done a specified number of times"
   ]
  },
  {
   "cell_type": "code",
   "execution_count": 33,
   "id": "386ad516",
   "metadata": {},
   "outputs": [
    {
     "name": "stdout",
     "output_type": "stream",
     "text": [
      "1\n",
      "2\n",
      "3\n",
      "4\n",
      "5\n",
      "6\n",
      "7\n",
      "8\n",
      "9\n",
      "10\n",
      "11\n",
      "12\n",
      "13\n",
      "14\n",
      "15\n",
      "16\n",
      "17\n",
      "18\n",
      "19\n",
      "20\n"
     ]
    }
   ],
   "source": [
    "class MyNumbers:\n",
    "  def __iter__(self):\n",
    "    self.a = 1\n",
    "    return self\n",
    "\n",
    "  def __next__(self):\n",
    "    if self.a <= 20:\n",
    "      x = self.a\n",
    "      self.a += 1\n",
    "      return x\n",
    "    else:\n",
    "      raise StopIteration\n",
    "\n",
    "myclass = MyNumbers()\n",
    "myiter = iter(myclass)\n",
    "\n",
    "for x in myiter:\n",
    "  print(x)"
   ]
  },
  {
   "cell_type": "markdown",
   "id": "2a66a9bb",
   "metadata": {},
   "source": [
    "## Python Polymorphism\n",
    "The word \"polymorphism\" means \"many forms\", and in programming it refers to methods/functions/operators with the same name that can be executed on many objects or classes.\n",
    "\n",
    "Function Polymorphism\n",
    "An example of a Python function that can be used on different objects is the len() function.\n",
    "\n"
   ]
  },
  {
   "cell_type": "code",
   "execution_count": 34,
   "id": "da496518",
   "metadata": {},
   "outputs": [
    {
     "name": "stdout",
     "output_type": "stream",
     "text": [
      "4\n"
     ]
    }
   ],
   "source": [
    "# String\n",
    "# For strings len() returns the number of characters\n",
    "\n",
    "str1 = \"Anna\"\n",
    "print(len(str1))"
   ]
  },
  {
   "cell_type": "code",
   "execution_count": 35,
   "id": "38494d5a",
   "metadata": {},
   "outputs": [
    {
     "name": "stdout",
     "output_type": "stream",
     "text": [
      "2\n"
     ]
    }
   ],
   "source": [
    "# Tuple\n",
    "# For tuples len() returns the number of items in the tuple:\n",
    "\n",
    "tup1 = (\"Apple\",\"Banana\")\n",
    "print(len(tup1))"
   ]
  },
  {
   "cell_type": "code",
   "execution_count": 36,
   "id": "c54746f5",
   "metadata": {},
   "outputs": [
    {
     "name": "stdout",
     "output_type": "stream",
     "text": [
      "3\n"
     ]
    }
   ],
   "source": [
    "# Dictionary\n",
    "# For dictionaries len() returns the number of key/value pairs in the dictionary\n",
    "dict1 = {\n",
    "    \"Name\"  :\"Anna\",\n",
    "    \"age\" : 25,\n",
    "    \"Uni\" : \"Waikato\"\n",
    "}\n",
    "\n",
    "print(len(dict1))"
   ]
  },
  {
   "cell_type": "code",
   "execution_count": 37,
   "id": "20cb5a14",
   "metadata": {},
   "outputs": [
    {
     "name": "stdout",
     "output_type": "stream",
     "text": [
      "5\n"
     ]
    }
   ],
   "source": [
    "# List\n",
    "list1 = [\"A\",\"B\",\"C\",12,True]\n",
    "print(len(list1))"
   ]
  },
  {
   "cell_type": "markdown",
   "id": "4aa7a6f1",
   "metadata": {},
   "source": [
    "## Class Polymorphism\n",
    "Polymorphism is often used in Class methods, where we can have multiple classes with the same method name.\n",
    "\n",
    "For example, say we have three classes: Car, Boat, and Plane, and they all have a method called move():\n",
    "\n"
   ]
  },
  {
   "cell_type": "code",
   "execution_count": 38,
   "id": "9f95fe07",
   "metadata": {},
   "outputs": [
    {
     "name": "stdout",
     "output_type": "stream",
     "text": [
      "Drive!\n",
      "Sail!\n",
      "Fly!\n"
     ]
    }
   ],
   "source": [
    "class Car:\n",
    "  def __init__(self, brand, model):\n",
    "    self.brand = brand\n",
    "    self.model = model\n",
    "\n",
    "  def move(self):\n",
    "    print(\"Drive!\")\n",
    "\n",
    "class Boat:\n",
    "  def __init__(self, brand, model):\n",
    "    self.brand = brand\n",
    "    self.model = model\n",
    "\n",
    "  def move(self):\n",
    "    print(\"Sail!\")\n",
    "\n",
    "class Plane:\n",
    "  def __init__(self, brand, model):\n",
    "    self.brand = brand\n",
    "    self.model = model\n",
    "\n",
    "  def move(self):\n",
    "    print(\"Fly!\")\n",
    "\n",
    "car1 = Car(\"Ford\", \"Mustang\")       #Create a Car class\n",
    "boat1 = Boat(\"Ibiza\", \"Touring 20\") #Create a Boat class\n",
    "plane1 = Plane(\"Boeing\", \"747\")     #Create a Plane class\n",
    "\n",
    "for x in (car1, boat1, plane1):\n",
    "  x.move()"
   ]
  },
  {
   "cell_type": "code",
   "execution_count": null,
   "id": "af9df77c",
   "metadata": {},
   "outputs": [],
   "source": [
    "# Inheritance Class Polymorphism\n",
    "# What about classes with child classes with the same name? Can we use polymorphism there?\n",
    "\n",
    "# Yes. If we use the example above and make a parent class called Vehicle, and make Car, Boat, Plane child classes of Vehicle, the child classes inherits the Vehicle methods, but can override them:"
   ]
  },
  {
   "cell_type": "code",
   "execution_count": 39,
   "id": "dbe21d9a",
   "metadata": {},
   "outputs": [
    {
     "name": "stdout",
     "output_type": "stream",
     "text": [
      "Ford\n",
      "Mustang\n",
      "Move!\n",
      "Ibiza\n",
      "Touring 20\n",
      "Sail!\n",
      "Boeing\n",
      "747\n",
      "Fly!\n"
     ]
    }
   ],
   "source": [
    "class Vehicle:\n",
    "  def __init__(self, brand, model):\n",
    "    self.brand = brand\n",
    "    self.model = model\n",
    "\n",
    "  def move(self):\n",
    "    print(\"Move!\")\n",
    "\n",
    "class Car(Vehicle):\n",
    "  pass\n",
    "\n",
    "class Boat(Vehicle):\n",
    "  def move(self):\n",
    "    print(\"Sail!\")\n",
    "\n",
    "class Plane(Vehicle):\n",
    "  def move(self):\n",
    "    print(\"Fly!\")\n",
    "\n",
    "car1 = Car(\"Ford\", \"Mustang\") #Create a Car object\n",
    "boat1 = Boat(\"Ibiza\", \"Touring 20\") #Create a Boat object\n",
    "plane1 = Plane(\"Boeing\", \"747\") #Create a Plane object\n",
    "\n",
    "for x in (car1, boat1, plane1):\n",
    "  print(x.brand)\n",
    "  print(x.model)\n",
    "  x.move()"
   ]
  },
  {
   "cell_type": "markdown",
   "id": "82ffb59c",
   "metadata": {},
   "source": [
    "## Python Scope\n",
    "A variable is only available from inside the region it is created. This is called scope."
   ]
  },
  {
   "cell_type": "code",
   "execution_count": 40,
   "id": "d9a21fd3",
   "metadata": {},
   "outputs": [
    {
     "name": "stdout",
     "output_type": "stream",
     "text": [
      "300\n"
     ]
    }
   ],
   "source": [
    "# Local Scope\n",
    "#  A variable created inside a function belongs to the local scope of that function, and can only be used inside that function.\n",
    "\n",
    "def myfunc():\n",
    "  x = 300\n",
    "  print(x)\n",
    "\n",
    "myfunc()"
   ]
  },
  {
   "cell_type": "code",
   "execution_count": 41,
   "id": "37fcf98f",
   "metadata": {},
   "outputs": [
    {
     "name": "stdout",
     "output_type": "stream",
     "text": [
      "300\n"
     ]
    }
   ],
   "source": [
    "# Function Inside Function\n",
    "# As explained in the example above, the variable x is not available outside the function, but it is available for any function inside the function:\n",
    "\n",
    "def myfunc():\n",
    "  x = 300\n",
    "  def myinnerfunc():\n",
    "    print(x)\n",
    "  myinnerfunc()\n",
    "\n",
    "myfunc()"
   ]
  },
  {
   "cell_type": "code",
   "execution_count": 42,
   "id": "7229b5f2",
   "metadata": {},
   "outputs": [
    {
     "name": "stdout",
     "output_type": "stream",
     "text": [
      "300\n",
      "300\n"
     ]
    }
   ],
   "source": [
    "# Global Scope\n",
    "# A variable created in the main body of the Python code is a global variable and belongs to the global scope.\n",
    "\n",
    "# Global variables are available from within any scope, global and local.\n",
    "x = 300\n",
    "\n",
    "def myfunc():\n",
    "  print(x)\n",
    "\n",
    "myfunc()\n",
    "\n",
    "print(x)"
   ]
  },
  {
   "cell_type": "code",
   "execution_count": 43,
   "id": "19502067",
   "metadata": {},
   "outputs": [
    {
     "name": "stdout",
     "output_type": "stream",
     "text": [
      "200\n",
      "300\n"
     ]
    }
   ],
   "source": [
    "# Naming Variables\n",
    "# If you operate with the same variable name inside and outside of a function, Python will treat them as two separate variables, one available in the global scope (outside the function) and one available in the local scope (inside the function):\n",
    "x = 300\n",
    "\n",
    "def myfunc():\n",
    "  x = 200\n",
    "  print(x)\n",
    "\n",
    "myfunc()\n",
    "\n",
    "print(x)\n"
   ]
  },
  {
   "cell_type": "code",
   "execution_count": 44,
   "id": "45278e9a",
   "metadata": {},
   "outputs": [
    {
     "name": "stdout",
     "output_type": "stream",
     "text": [
      "300\n"
     ]
    }
   ],
   "source": [
    "# Global Keyword\n",
    "# If you need to create a global variable, but are stuck in the local scope, you can use the global keyword.\n",
    "\n",
    "# The global keyword makes the variable global.\n",
    "def myfunc():\n",
    "  global x\n",
    "  x = 300\n",
    "\n",
    "myfunc()\n",
    "\n",
    "print(x)\n"
   ]
  },
  {
   "cell_type": "code",
   "execution_count": 45,
   "id": "76437897",
   "metadata": {},
   "outputs": [
    {
     "name": "stdout",
     "output_type": "stream",
     "text": [
      "200\n"
     ]
    }
   ],
   "source": [
    "x = 300\n",
    "\n",
    "def myfunc():\n",
    "  global x\n",
    "  x = 200\n",
    "\n",
    "myfunc()\n",
    "\n",
    "print(x)"
   ]
  },
  {
   "cell_type": "markdown",
   "id": "c74027fb",
   "metadata": {},
   "source": [
    "## Python Modules\n",
    "Consider a module to be the same as a code library.\n",
    "\n",
    "A file containing a set of functions you want to include in your application."
   ]
  },
  {
   "cell_type": "code",
   "execution_count": null,
   "id": "3282750c",
   "metadata": {},
   "outputs": [],
   "source": [
    "\n",
    "# Create a Module\n",
    "# To create a module just save the code you want in a file with the file extension .py\n",
    "\n",
    "Save this code in a file named mymodule.py\n",
    "\n",
    "def greeting(name):\n",
    "  print(\"Hello, \" + name)\n",
    "\n",
    "\n",
    "# Use a Module\n",
    "# Now we can use the module we just created, by using the import statement:\n",
    "# Import the module named mymodule, and call the greeting function:\n",
    "\n",
    "import mymodule\n",
    "\n",
    "mymodule.greeting(\"Jonathan\")\n",
    "\n",
    "# Variables in Module\n",
    "# The module can contain functions, as already described, but also variables of all types (arrays, dictionaries, objects etc):\n",
    "\n",
    "# Save this code in the file mymodule.py\n",
    "\n",
    "person1 = {\n",
    "  \"name\": \"John\",\n",
    "  \"age\": 36,\n",
    "  \"country\": \"Norway\"\n",
    "}\n",
    "\n",
    "# Import the module named mymodule, and access the person1 dictionary:\n",
    "\n",
    "import mymodule\n",
    "\n",
    "a = mymodule.person1[\"age\"]\n",
    "print(a)\n",
    "\n",
    "# Naming a Module\n",
    "# You can name the module file whatever you like, but it must have the file extension .py\n",
    "\n",
    "# Re-naming a Module\n",
    "# You can create an alias when you import a module, by using the as keyword:\n",
    "\n",
    "# Create an alias for mymodule called mx:\n",
    "\n",
    "import mymodule as mx\n",
    "\n",
    "a = mx.person1[\"age\"]\n",
    "print(a)\n",
    "\n",
    "# Built-in Modules\n",
    "# There are several built-in modules in Python, which you can import whenever you like.\n",
    "\n",
    "# Import and use the platform module:\n",
    "\n",
    "import platform\n",
    "\n",
    "x = platform.system()\n",
    "print(x)\n",
    "\n",
    "# Using the dir() Function\n",
    "# There is a built-in function to list all the function names (or variable names) in a module. The dir() function:\n",
    "\n",
    "\n",
    "# List all the defined names belonging to the platform module:\n",
    "\n",
    "import platform\n",
    "\n",
    "x = dir(platform)\n",
    "print(x)\n",
    "# Import From Module\n",
    "# You can choose to import only parts from a module, by using the from keyword.\n",
    "\n",
    "# The module named mymodule has one function and one dictionary:\n",
    "\n",
    "def greeting(name):\n",
    "  print(\"Hello, \" + name)\n",
    "\n",
    "person1 = {\n",
    "  \"name\": \"John\",\n",
    "  \"age\": 36,\n",
    "  \"country\": \"Norway\"\n",
    "}\n",
    "\n",
    "# Import only the person1 dictionary from the module\n",
    "\n",
    "from mymodule import person1\n",
    "\n",
    "print (person1[\"age\"])"
   ]
  }
 ],
 "metadata": {
  "kernelspec": {
   "display_name": "Python 3",
   "language": "python",
   "name": "python3"
  },
  "language_info": {
   "codemirror_mode": {
    "name": "ipython",
    "version": 3
   },
   "file_extension": ".py",
   "mimetype": "text/x-python",
   "name": "python",
   "nbconvert_exporter": "python",
   "pygments_lexer": "ipython3",
   "version": "3.8.2"
  }
 },
 "nbformat": 4,
 "nbformat_minor": 5
}
