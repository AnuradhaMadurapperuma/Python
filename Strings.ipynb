{
 "cells": [
  {
   "cell_type": "markdown",
   "id": "3114e2e6",
   "metadata": {},
   "source": [
    "## Strings\n",
    "Strings in python are surrounded by either single quotation marks, or double quotation marks.\n",
    "\n",
    "'hello' is the same as \"hello\"."
   ]
  },
  {
   "cell_type": "code",
   "execution_count": 1,
   "id": "6ff80fc4",
   "metadata": {},
   "outputs": [
    {
     "name": "stdout",
     "output_type": "stream",
     "text": [
      "Anne\n"
     ]
    }
   ],
   "source": [
    "# Assign String to a Variable\n",
    "a = \"Anne\"\n",
    "print(a)"
   ]
  },
  {
   "cell_type": "code",
   "execution_count": 2,
   "id": "5fb25f0c",
   "metadata": {},
   "outputs": [
    {
     "name": "stdout",
     "output_type": "stream",
     "text": [
      " This is a tutorial\n",
      "for learning Python\n",
      "from basics \n"
     ]
    }
   ],
   "source": [
    "# Multiline Strings\n",
    "a = \"\"\" This is a tutorial\n",
    "for learning Python\n",
    "from basics \"\"\"\n",
    "print(a)"
   ]
  },
  {
   "cell_type": "code",
   "execution_count": null,
   "id": "3c203c51",
   "metadata": {},
   "outputs": [],
   "source": [
    "# Strings are Arrays\n",
    "# Like many other popular programming languages, strings in Python are arrays of bytes representing unicode characters.\n",
    "\n",
    "# However, Python does not have a character data type, a single character is simply a string with a length of 1.\n",
    "\n",
    "# Square brackets can be used to access elements of the string.\n"
   ]
  },
  {
   "cell_type": "code",
   "execution_count": 3,
   "id": "ec0be3ff",
   "metadata": {},
   "outputs": [
    {
     "name": "stdout",
     "output_type": "stream",
     "text": [
      "n\n"
     ]
    }
   ],
   "source": [
    "a = \"Anne\"\n",
    "print(a[1])"
   ]
  },
  {
   "cell_type": "code",
   "execution_count": 4,
   "id": "cbbb5b45",
   "metadata": {},
   "outputs": [
    {
     "name": "stdout",
     "output_type": "stream",
     "text": [
      "A\n",
      "n\n",
      "n\n",
      "e\n"
     ]
    }
   ],
   "source": [
    "# Looping Through a String\n",
    "# Since strings are arrays, we can loop through the characters in a string, with a for loop.\n",
    "\n",
    "for i in \"Anne\":\n",
    "    print(i)"
   ]
  },
  {
   "cell_type": "code",
   "execution_count": 5,
   "id": "a83fb206",
   "metadata": {},
   "outputs": [
    {
     "name": "stdout",
     "output_type": "stream",
     "text": [
      "4\n"
     ]
    }
   ],
   "source": [
    "# len()\n",
    "print(len(\"Anne\"))"
   ]
  },
  {
   "cell_type": "code",
   "execution_count": 6,
   "id": "b4042009",
   "metadata": {},
   "outputs": [
    {
     "name": "stdout",
     "output_type": "stream",
     "text": [
      "True\n"
     ]
    }
   ],
   "source": [
    "# check string\n",
    "a = \"Python programming language\"\n",
    "print(\"Python\" in a)"
   ]
  },
  {
   "cell_type": "code",
   "execution_count": 7,
   "id": "152e0535",
   "metadata": {},
   "outputs": [
    {
     "name": "stdout",
     "output_type": "stream",
     "text": [
      "yes\n"
     ]
    }
   ],
   "source": [
    "# Use if statement\n",
    "a = \"Python programming language\"\n",
    "if \"Python\" in a:\n",
    "    print(\"yes\")"
   ]
  },
  {
   "cell_type": "code",
   "execution_count": 8,
   "id": "979cc991",
   "metadata": {},
   "outputs": [
    {
     "name": "stdout",
     "output_type": "stream",
     "text": [
      "False\n"
     ]
    }
   ],
   "source": [
    "# Check not in String\n",
    "a = \"Python programming language\"\n",
    "print(\"Python\" not in a)"
   ]
  },
  {
   "cell_type": "code",
   "execution_count": 10,
   "id": "4920c8ad",
   "metadata": {},
   "outputs": [
    {
     "name": "stdout",
     "output_type": "stream",
     "text": [
      "Java is not in text\n"
     ]
    }
   ],
   "source": [
    "# Check if not\n",
    "a =\"Python programming language\"\n",
    "if \"Java\" not in a:\n",
    "    print(\"Java is not in text\")"
   ]
  },
  {
   "cell_type": "markdown",
   "id": "4acb3a7f",
   "metadata": {},
   "source": [
    "## Slicing Strings"
   ]
  },
  {
   "cell_type": "code",
   "execution_count": 11,
   "id": "abe6aed2",
   "metadata": {},
   "outputs": [
    {
     "name": "stdout",
     "output_type": "stream",
     "text": [
      "Data\n"
     ]
    }
   ],
   "source": [
    "name = \"Data Science\"\n",
    "print(name[0:4])"
   ]
  },
  {
   "cell_type": "code",
   "execution_count": 12,
   "id": "a635e840",
   "metadata": {},
   "outputs": [
    {
     "name": "stdout",
     "output_type": "stream",
     "text": [
      "Data\n"
     ]
    }
   ],
   "source": [
    "name = \"Data Science\"\n",
    "print(name[:4])"
   ]
  },
  {
   "cell_type": "code",
   "execution_count": 13,
   "id": "64199792",
   "metadata": {},
   "outputs": [
    {
     "name": "stdout",
     "output_type": "stream",
     "text": [
      "Data Science\n"
     ]
    }
   ],
   "source": [
    "name = \"Data Science\"\n",
    "print(name[0:])"
   ]
  },
  {
   "cell_type": "code",
   "execution_count": 14,
   "id": "299efb77",
   "metadata": {},
   "outputs": [
    {
     "name": "stdout",
     "output_type": "stream",
     "text": [
      "ta \n"
     ]
    }
   ],
   "source": [
    "name = \"Data Science\"\n",
    "print(name[2:5])"
   ]
  },
  {
   "cell_type": "code",
   "execution_count": 17,
   "id": "06f58922",
   "metadata": {},
   "outputs": [
    {
     "name": "stdout",
     "output_type": "stream",
     "text": [
      "Science\n"
     ]
    }
   ],
   "source": [
    "name = \"Data Science\"\n",
    "print(name[-7:])"
   ]
  },
  {
   "cell_type": "code",
   "execution_count": 18,
   "id": "bca400d1",
   "metadata": {},
   "outputs": [
    {
     "name": "stdout",
     "output_type": "stream",
     "text": [
      "Sci\n"
     ]
    }
   ],
   "source": [
    "name = \"Data Science\"\n",
    "print(name[-7:-4])"
   ]
  },
  {
   "cell_type": "markdown",
   "id": "55939681",
   "metadata": {},
   "source": [
    "### Modify Strings"
   ]
  },
  {
   "cell_type": "code",
   "execution_count": 19,
   "id": "790dab15",
   "metadata": {},
   "outputs": [
    {
     "name": "stdout",
     "output_type": "stream",
     "text": [
      "DATA SCIENCE\n"
     ]
    }
   ],
   "source": [
    "# upper()\n",
    "name = \"Data Science\"\n",
    "print(name.upper())"
   ]
  },
  {
   "cell_type": "code",
   "execution_count": 20,
   "id": "cb6c157d",
   "metadata": {},
   "outputs": [
    {
     "name": "stdout",
     "output_type": "stream",
     "text": [
      "data science\n"
     ]
    }
   ],
   "source": [
    "# lower()\n",
    "name = \"Data Science\"\n",
    "print(name.lower())"
   ]
  },
  {
   "cell_type": "code",
   "execution_count": 23,
   "id": "fc81d79c",
   "metadata": {},
   "outputs": [
    {
     "name": "stdout",
     "output_type": "stream",
     "text": [
      "Data Science\n"
     ]
    }
   ],
   "source": [
    "# strip() to remove teh spaces\n",
    "name = \" Data Science \"\n",
    "print(name.strip())"
   ]
  },
  {
   "cell_type": "code",
   "execution_count": 24,
   "id": "f30a775d",
   "metadata": {},
   "outputs": [
    {
     "name": "stdout",
     "output_type": "stream",
     "text": [
      "Bata Science\n"
     ]
    }
   ],
   "source": [
    "name = \"Data Science\"\n",
    "print(name.replace(\"D\", \"B\"))"
   ]
  },
  {
   "cell_type": "code",
   "execution_count": 25,
   "id": "03700ee6",
   "metadata": {},
   "outputs": [
    {
     "name": "stdout",
     "output_type": "stream",
     "text": [
      "['Data', 'Science']\n"
     ]
    }
   ],
   "source": [
    "name = \"Data Science\"\n",
    "print(name.split(\" \"))"
   ]
  },
  {
   "cell_type": "markdown",
   "id": "74b85695",
   "metadata": {},
   "source": [
    "### Concatenation"
   ]
  },
  {
   "cell_type": "code",
   "execution_count": 27,
   "id": "da509571",
   "metadata": {},
   "outputs": [
    {
     "name": "stdout",
     "output_type": "stream",
     "text": [
      "BMWX5\n",
      "BMW X5\n"
     ]
    }
   ],
   "source": [
    "# Use \"+\" to concatenate strings\n",
    "brand = \"BMW\"\n",
    "model = \"X5\"\n",
    "\n",
    "print(brand + model)\n",
    "print(brand + \" \"+ model)"
   ]
  },
  {
   "cell_type": "markdown",
   "id": "010ce3d9",
   "metadata": {},
   "source": [
    "### String Format"
   ]
  },
  {
   "cell_type": "code",
   "execution_count": 29,
   "id": "c32771ef",
   "metadata": {},
   "outputs": [
    {
     "ename": "TypeError",
     "evalue": "can only concatenate str (not \"int\") to str",
     "output_type": "error",
     "traceback": [
      "\u001b[0;31m---------------------------------------------------------------------------\u001b[0m",
      "\u001b[0;31mTypeError\u001b[0m                                 Traceback (most recent call last)",
      "\u001b[0;32m<ipython-input-29-05ea1adc36b6>\u001b[0m in \u001b[0;36m<module>\u001b[0;34m\u001b[0m\n\u001b[1;32m      3\u001b[0m \u001b[0mprice\u001b[0m \u001b[0;34m=\u001b[0m \u001b[0;36m60000\u001b[0m\u001b[0;34m\u001b[0m\u001b[0;34m\u001b[0m\u001b[0m\n\u001b[1;32m      4\u001b[0m \u001b[0;34m\u001b[0m\u001b[0m\n\u001b[0;32m----> 5\u001b[0;31m \u001b[0mstm\u001b[0m \u001b[0;34m=\u001b[0m \u001b[0;34m\"latest \"\u001b[0m\u001b[0;34m+\u001b[0m \u001b[0mbrand\u001b[0m \u001b[0;34m+\u001b[0m \u001b[0;34m\" is \"\u001b[0m \u001b[0;34m+\u001b[0m \u001b[0mprice\u001b[0m\u001b[0;34m\u001b[0m\u001b[0;34m\u001b[0m\u001b[0m\n\u001b[0m\u001b[1;32m      6\u001b[0m \u001b[0mprint\u001b[0m\u001b[0;34m(\u001b[0m\u001b[0mstm\u001b[0m\u001b[0;34m)\u001b[0m\u001b[0;34m\u001b[0m\u001b[0;34m\u001b[0m\u001b[0m\n",
      "\u001b[0;31mTypeError\u001b[0m: can only concatenate str (not \"int\") to str"
     ]
    }
   ],
   "source": [
    "# we cannot combine strings and numbers \n",
    "brand = \"BMW-X5\"\n",
    "price = 60000\n",
    "\n",
    "stm = \"latest \"+ brand + \" is \" + price\n",
    "print(stm)"
   ]
  },
  {
   "cell_type": "code",
   "execution_count": 30,
   "id": "e8c26338",
   "metadata": {},
   "outputs": [
    {
     "name": "stdout",
     "output_type": "stream",
     "text": [
      "latest BMW-X5 is 60000\n"
     ]
    }
   ],
   "source": [
    "# Use the format() method to insert numbers into strings\n",
    "\n",
    "brand = \"BMW-X5\"\n",
    "price = 60000\n",
    "\n",
    "stm = \"latest \"+ brand + \" is {}\" \n",
    "print(stm.format(price))"
   ]
  },
  {
   "cell_type": "code",
   "execution_count": 33,
   "id": "78a299aa",
   "metadata": {},
   "outputs": [
    {
     "name": "stdout",
     "output_type": "stream",
     "text": [
      "The BMW-X5 with 1000 km milage is 60000 dollars\n"
     ]
    }
   ],
   "source": [
    "brand = \"BMW-X5\"\n",
    "price = 60000\n",
    "milage = 1000\n",
    "\n",
    "stm = \"The \"+ brand + \" with {} km milage is {} dollars\" \n",
    "print(stm.format(milage,price))"
   ]
  },
  {
   "cell_type": "code",
   "execution_count": 34,
   "id": "7223e8fc",
   "metadata": {},
   "outputs": [
    {
     "name": "stdout",
     "output_type": "stream",
     "text": [
      "The BMW-X5 with 60000 km milage is 1000 dollars\n"
     ]
    }
   ],
   "source": [
    "brand = \"BMW-X5\"\n",
    "price = 60000\n",
    "milage = 1000\n",
    "\n",
    "stm = \"The \"+ brand + \" with {1} km milage is {0} dollars\" \n",
    "print(stm.format(milage,price))"
   ]
  },
  {
   "cell_type": "markdown",
   "id": "b60b26af",
   "metadata": {},
   "source": [
    "### Escape characters\n",
    "To insert characters that are illegal in a string, use an escape character.\n",
    "\n",
    "An escape character is a backslash \\ followed by the character you want to insert.\n"
   ]
  },
  {
   "cell_type": "code",
   "execution_count": 40,
   "id": "b0538694",
   "metadata": {},
   "outputs": [
    {
     "name": "stdout",
     "output_type": "stream",
     "text": [
      "I love \"Python\"\n"
     ]
    }
   ],
   "source": [
    "print(\"I love \\\"Python\\\"\")"
   ]
  },
  {
   "cell_type": "code",
   "execution_count": 41,
   "id": "8a52a954",
   "metadata": {},
   "outputs": [
    {
     "name": "stdout",
     "output_type": "stream",
     "text": [
      "Address: 100\\34, Hamilton\n"
     ]
    }
   ],
   "source": [
    "print(\"Address: 100\\\\34, Hamilton\")"
   ]
  },
  {
   "cell_type": "code",
   "execution_count": 44,
   "id": "3b8d6355",
   "metadata": {},
   "outputs": [
    {
     "name": "stdout",
     "output_type": "stream",
     "text": [
      "Address: 100\\34\n",
      "Hamilton\n"
     ]
    }
   ],
   "source": [
    "print(\"Address: 100\\\\34\\nHamilton\")"
   ]
  },
  {
   "cell_type": "code",
   "execution_count": 46,
   "id": "b68db8a1",
   "metadata": {},
   "outputs": [
    {
     "name": "stdout",
     "output_type": "stream",
     "text": [
      "Address: 100\\34\n",
      "\tHamilton\n"
     ]
    }
   ],
   "source": [
    "print(\"Address: 100\\\\34\\n\\tHamilton\")"
   ]
  },
  {
   "cell_type": "code",
   "execution_count": 50,
   "id": "aa42eefc",
   "metadata": {},
   "outputs": [
    {
     "name": "stdout",
     "output_type": "stream",
     "text": [
      "Address: 100\\34\bHamilton\n"
     ]
    }
   ],
   "source": [
    "print(\"Address: 100\\\\34\\bHamilton\")"
   ]
  },
  {
   "cell_type": "code",
   "execution_count": null,
   "id": "7e782bda",
   "metadata": {},
   "outputs": [],
   "source": [
    "Method\tDescription\n",
    "capitalize()\tConverts the first character to upper case\n",
    "casefold()\tConverts string into lower case\n",
    "center()\tReturns a centered string\n",
    "count()\tReturns the number of times a specified value occurs in a string\n",
    "encode()\tReturns an encoded version of the string\n",
    "endswith()\tReturns true if the string ends with the specified value\n",
    "expandtabs()\tSets the tab size of the string\n",
    "find()\tSearches the string for a specified value and returns the position of where it was found\n",
    "format()\tFormats specified values in a string\n",
    "format_map()\tFormats specified values in a string\n",
    "index()\tSearches the string for a specified value and returns the position of where it was found\n",
    "isalnum()\tReturns True if all characters in the string are alphanumeric\n",
    "isalpha()\tReturns True if all characters in the string are in the alphabet\n",
    "isascii()\tReturns True if all characters in the string are ascii characters\n",
    "isdecimal()\tReturns True if all characters in the string are decimals\n",
    "isdigit()\tReturns True if all characters in the string are digits\n",
    "isidentifier()\tReturns True if the string is an identifier\n",
    "islower()\tReturns True if all characters in the string are lower case\n",
    "isnumeric()\tReturns True if all characters in the string are numeric\n",
    "isprintable()\tReturns True if all characters in the string are printable\n",
    "isspace()\tReturns True if all characters in the string are whitespaces\n",
    "istitle()\tReturns True if the string follows the rules of a title\n",
    "isupper()\tReturns True if all characters in the string are upper case\n",
    "join()\tJoins the elements of an iterable to the end of the string\n",
    "ljust()\tReturns a left justified version of the string\n",
    "lower()\tConverts a string into lower case\n",
    "lstrip()\tReturns a left trim version of the string\n",
    "maketrans()\tReturns a translation table to be used in translations\n",
    "partition()\tReturns a tuple where the string is parted into three parts\n",
    "replace()\tReturns a string where a specified value is replaced with a specified value\n",
    "rfind()\tSearches the string for a specified value and returns the last position of where it was found\n",
    "rindex()\tSearches the string for a specified value and returns the last position of where it was found\n",
    "rjust()\tReturns a right justified version of the string\n",
    "rpartition()\tReturns a tuple where the string is parted into three parts\n",
    "rsplit()\tSplits the string at the specified separator, and returns a list\n",
    "rstrip()\tReturns a right trim version of the string\n",
    "split()\tSplits the string at the specified separator, and returns a list\n",
    "splitlines()\tSplits the string at line breaks and returns a list\n",
    "startswith()\tReturns true if the string starts with the specified value\n",
    "strip()\tReturns a trimmed version of the string\n",
    "swapcase()\tSwaps cases, lower case becomes upper case and vice versa\n",
    "title()\tConverts the first character of each word to upper case\n",
    "translate()\tReturns a translated string\n",
    "upper()\tConverts a string into upper case\n",
    "zfill()\tFills the string with a specified number of 0 values at the beginning"
   ]
  }
 ],
 "metadata": {
  "kernelspec": {
   "display_name": "Python 3",
   "language": "python",
   "name": "python3"
  },
  "language_info": {
   "codemirror_mode": {
    "name": "ipython",
    "version": 3
   },
   "file_extension": ".py",
   "mimetype": "text/x-python",
   "name": "python",
   "nbconvert_exporter": "python",
   "pygments_lexer": "ipython3",
   "version": "3.8.2"
  }
 },
 "nbformat": 4,
 "nbformat_minor": 5
}
