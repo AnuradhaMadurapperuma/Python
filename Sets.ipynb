{
 "cells": [
  {
   "cell_type": "markdown",
   "id": "28f7f063",
   "metadata": {},
   "source": [
    "## Sets\n",
    "A set is a collection which is unordered, unchangeable*, and unindexed.\n",
    "Sets are used to store multiple items in a single variable.\n",
    "Set items are unordered, unchangeable, and do not allow duplicate values."
   ]
  },
  {
   "cell_type": "code",
   "execution_count": 2,
   "id": "3fa420bd",
   "metadata": {},
   "outputs": [
    {
     "name": "stdout",
     "output_type": "stream",
     "text": [
      "{'Hamilton', 'Wellington', 'Auckland'}\n"
     ]
    }
   ],
   "source": [
    "# Create a set\n",
    "setCities = {\"Auckland\", \"Hamilton\",\"Wellington\"}\n",
    "print(setCities)"
   ]
  },
  {
   "cell_type": "code",
   "execution_count": 8,
   "id": "917e8443",
   "metadata": {},
   "outputs": [
    {
     "name": "stdout",
     "output_type": "stream",
     "text": [
      "{1, 2, 3, 4, 5}\n",
      "{'a', 'b', 'd', 'c'}\n",
      "{1.2, 2.3, 3.4, 4.5}\n",
      "{False, True}\n",
      "<class 'set'>\n",
      "<class 'set'>\n",
      "<class 'set'>\n",
      "<class 'set'>\n"
     ]
    }
   ],
   "source": [
    "setno = {1,2,3,4,5}\n",
    "setChar = {\"a\",\"b\",\"c\",\"d\"}\n",
    "setFloat = {1.2,2.3,3.4,4.5}\n",
    "setBool = {True, False,False}\n",
    "\n",
    "print(setno)\n",
    "print(setChar)\n",
    "print(setFloat)\n",
    "print(setBool)\n",
    "\n",
    "print(type(setno))\n",
    "print(type(setChar))\n",
    "print(type(setFloat))\n",
    "print(type(setBool))"
   ]
  },
  {
   "cell_type": "code",
   "execution_count": 4,
   "id": "a8fbe154",
   "metadata": {},
   "outputs": [
    {
     "name": "stdout",
     "output_type": "stream",
     "text": [
      "{200000, True, 2.3, 'Auckland'}\n"
     ]
    }
   ],
   "source": [
    "set1 = {\"Auckland\", 200000, 2.3, True}\n",
    "print(set1)"
   ]
  },
  {
   "cell_type": "code",
   "execution_count": 3,
   "id": "41e1a2ff",
   "metadata": {},
   "outputs": [
    {
     "name": "stdout",
     "output_type": "stream",
     "text": [
      "{'Hamilton', 'Wellington', 'Auckland'}\n"
     ]
    }
   ],
   "source": [
    "# Duplicate values are not allowed. Duplicate values are ignored\n",
    "setCities = {\"Auckland\", \"Hamilton\",\"Wellington\",\"Auckland\"}\n",
    "print(setCities)"
   ]
  },
  {
   "cell_type": "code",
   "execution_count": 5,
   "id": "61888356",
   "metadata": {},
   "outputs": [
    {
     "name": "stdout",
     "output_type": "stream",
     "text": [
      "{200000, 1, False, 'Auckland'}\n"
     ]
    }
   ],
   "source": [
    "# True and 1 are consider as duplicate values. And also the False and 0\n",
    "set1 = {\"Auckland\", 1, True, 200000, False, 0}\n",
    "print(set1)"
   ]
  },
  {
   "cell_type": "code",
   "execution_count": 6,
   "id": "fe5ab707",
   "metadata": {},
   "outputs": [
    {
     "name": "stdout",
     "output_type": "stream",
     "text": [
      "4\n"
     ]
    }
   ],
   "source": [
    "# length of a set\n",
    "set1 = {\"Auckland\", 1, True, 200000, False, 0}\n",
    "print(len(set1))"
   ]
  },
  {
   "cell_type": "code",
   "execution_count": 9,
   "id": "632b1b19",
   "metadata": {},
   "outputs": [
    {
     "name": "stdout",
     "output_type": "stream",
     "text": [
      "{1.2, 'A', True, 'C', 'B'}\n"
     ]
    }
   ],
   "source": [
    "# Use set() constructor\n",
    "set1 = set((\"A\",\"B\",\"C\",1.2,True))\n",
    "print(set1)"
   ]
  },
  {
   "cell_type": "markdown",
   "id": "48fca388",
   "metadata": {},
   "source": [
    "### Access items in a set\n",
    "The items can not be accessed using an index or key.But through the loops"
   ]
  },
  {
   "cell_type": "code",
   "execution_count": 10,
   "id": "3a17230e",
   "metadata": {},
   "outputs": [
    {
     "name": "stdout",
     "output_type": "stream",
     "text": [
      "True\n",
      "A\n",
      "B\n"
     ]
    }
   ],
   "source": [
    "set1  = {\"A\",\"B\",True}\n",
    "for i in set1:\n",
    "    print(i)"
   ]
  },
  {
   "cell_type": "code",
   "execution_count": 11,
   "id": "b65be489",
   "metadata": {},
   "outputs": [
    {
     "name": "stdout",
     "output_type": "stream",
     "text": [
      "True\n"
     ]
    }
   ],
   "source": [
    "# check wheather an element is there at the set\n",
    "set1 = {\"Auckland\", 1.2, True, 2}\n",
    "print(\"Auckland\" in set1)"
   ]
  },
  {
   "cell_type": "markdown",
   "id": "02ca23db",
   "metadata": {},
   "source": [
    "### Add items to set\n",
    "Once a set is created, you cannot change its items, but you can add new items."
   ]
  },
  {
   "cell_type": "code",
   "execution_count": 12,
   "id": "5e27c297",
   "metadata": {},
   "outputs": [
    {
     "name": "stdout",
     "output_type": "stream",
     "text": [
      "{'Hamilton', 'Wellington', 'Auckland'}\n"
     ]
    }
   ],
   "source": [
    "# Use add() to add the items \n",
    "set1 = {\"Auckland\",\"Hamilton\"}\n",
    "set1.add(\"Wellington\")\n",
    "print(set1)\n"
   ]
  },
  {
   "cell_type": "code",
   "execution_count": 13,
   "id": "3478f1b3",
   "metadata": {},
   "outputs": [
    {
     "name": "stdout",
     "output_type": "stream",
     "text": [
      "{'Hamilton', 'Dunedin', 'Christchurch', 'Auckland'}\n"
     ]
    }
   ],
   "source": [
    "# Use update() for add items of one set to another\n",
    "set1 = {\"Auckland\",\"Hamilton\"}\n",
    "set2 = {\"Christchurch\",\"Dunedin\"}\n",
    "set1.update(set2)\n",
    "print(set1)"
   ]
  },
  {
   "cell_type": "code",
   "execution_count": null,
   "id": "8ad90c5d",
   "metadata": {},
   "outputs": [],
   "source": [
    "## Add any iterable\n",
    "# The object in the update() method does not have to be a set, it can be any iterable object (tuples, lists, dictionaries etc.)."
   ]
  },
  {
   "cell_type": "code",
   "execution_count": 14,
   "id": "032781ba",
   "metadata": {},
   "outputs": [
    {
     "name": "stdout",
     "output_type": "stream",
     "text": [
      "{'Hamilton', 'Dunedin', 'Christchurch', 'Auckland'}\n"
     ]
    }
   ],
   "source": [
    "set1 = {\"Auckland\",\"Hamilton\"}\n",
    "tup1 =(\"Christchurch\",\"Dunedin\")\n",
    "set1.update(tup1)\n",
    "print(set1)"
   ]
  },
  {
   "cell_type": "code",
   "execution_count": 15,
   "id": "270d88dc",
   "metadata": {},
   "outputs": [
    {
     "ename": "AttributeError",
     "evalue": "'tuple' object has no attribute 'update'",
     "output_type": "error",
     "traceback": [
      "\u001b[0;31m---------------------------------------------------------------------------\u001b[0m",
      "\u001b[0;31mAttributeError\u001b[0m                            Traceback (most recent call last)",
      "\u001b[0;32m<ipython-input-15-69f0bda4fa5b>\u001b[0m in \u001b[0;36m<module>\u001b[0;34m\u001b[0m\n\u001b[1;32m      1\u001b[0m \u001b[0mset1\u001b[0m \u001b[0;34m=\u001b[0m \u001b[0;34m{\u001b[0m\u001b[0;34m\"Auckland\"\u001b[0m\u001b[0;34m,\u001b[0m\u001b[0;34m\"Hamilton\"\u001b[0m\u001b[0;34m}\u001b[0m\u001b[0;34m\u001b[0m\u001b[0;34m\u001b[0m\u001b[0m\n\u001b[1;32m      2\u001b[0m \u001b[0mtup1\u001b[0m \u001b[0;34m=\u001b[0m\u001b[0;34m(\u001b[0m\u001b[0;34m\"Christchurch\"\u001b[0m\u001b[0;34m,\u001b[0m\u001b[0;34m\"Dunedin\"\u001b[0m\u001b[0;34m)\u001b[0m\u001b[0;34m\u001b[0m\u001b[0;34m\u001b[0m\u001b[0m\n\u001b[0;32m----> 3\u001b[0;31m \u001b[0mtup1\u001b[0m\u001b[0;34m.\u001b[0m\u001b[0mupdate\u001b[0m\u001b[0;34m(\u001b[0m\u001b[0mset1\u001b[0m\u001b[0;34m)\u001b[0m\u001b[0;34m\u001b[0m\u001b[0;34m\u001b[0m\u001b[0m\n\u001b[0m\u001b[1;32m      4\u001b[0m \u001b[0mprint\u001b[0m\u001b[0;34m(\u001b[0m\u001b[0mset1\u001b[0m\u001b[0;34m)\u001b[0m\u001b[0;34m\u001b[0m\u001b[0;34m\u001b[0m\u001b[0m\n",
      "\u001b[0;31mAttributeError\u001b[0m: 'tuple' object has no attribute 'update'"
     ]
    }
   ],
   "source": [
    "# can not use the update method with tuples \n",
    "set1 = {\"Auckland\",\"Hamilton\"}\n",
    "tup1 =(\"Christchurch\",\"Dunedin\")\n",
    "tup1.update(set1)\n",
    "print(set1)"
   ]
  },
  {
   "cell_type": "code",
   "execution_count": 16,
   "id": "6f09d569",
   "metadata": {},
   "outputs": [
    {
     "name": "stdout",
     "output_type": "stream",
     "text": [
      "{'Hamilton', 'Dunedin', 'Christchurch', 'Auckland'}\n"
     ]
    }
   ],
   "source": [
    "set1 = {\"Auckland\",\"Hamilton\"}\n",
    "list1 =[\"Christchurch\",\"Dunedin\"]\n",
    "set1.update(list1)\n",
    "print(set1)"
   ]
  },
  {
   "cell_type": "code",
   "execution_count": 17,
   "id": "00eab96d",
   "metadata": {},
   "outputs": [
    {
     "ename": "AttributeError",
     "evalue": "'list' object has no attribute 'update'",
     "output_type": "error",
     "traceback": [
      "\u001b[0;31m---------------------------------------------------------------------------\u001b[0m",
      "\u001b[0;31mAttributeError\u001b[0m                            Traceback (most recent call last)",
      "\u001b[0;32m<ipython-input-17-e019f11b508f>\u001b[0m in \u001b[0;36m<module>\u001b[0;34m\u001b[0m\n\u001b[1;32m      1\u001b[0m \u001b[0mset1\u001b[0m \u001b[0;34m=\u001b[0m \u001b[0;34m{\u001b[0m\u001b[0;34m\"Auckland\"\u001b[0m\u001b[0;34m,\u001b[0m\u001b[0;34m\"Hamilton\"\u001b[0m\u001b[0;34m}\u001b[0m\u001b[0;34m\u001b[0m\u001b[0;34m\u001b[0m\u001b[0m\n\u001b[1;32m      2\u001b[0m \u001b[0mlist1\u001b[0m \u001b[0;34m=\u001b[0m\u001b[0;34m[\u001b[0m\u001b[0;34m\"Christchurch\"\u001b[0m\u001b[0;34m,\u001b[0m\u001b[0;34m\"Dunedin\"\u001b[0m\u001b[0;34m]\u001b[0m\u001b[0;34m\u001b[0m\u001b[0;34m\u001b[0m\u001b[0m\n\u001b[0;32m----> 3\u001b[0;31m \u001b[0mlist1\u001b[0m\u001b[0;34m.\u001b[0m\u001b[0mupdate\u001b[0m\u001b[0;34m(\u001b[0m\u001b[0mset1\u001b[0m\u001b[0;34m)\u001b[0m\u001b[0;34m\u001b[0m\u001b[0;34m\u001b[0m\u001b[0m\n\u001b[0m\u001b[1;32m      4\u001b[0m \u001b[0mprint\u001b[0m\u001b[0;34m(\u001b[0m\u001b[0mlist1\u001b[0m\u001b[0;34m)\u001b[0m\u001b[0;34m\u001b[0m\u001b[0;34m\u001b[0m\u001b[0m\n",
      "\u001b[0;31mAttributeError\u001b[0m: 'list' object has no attribute 'update'"
     ]
    }
   ],
   "source": [
    "# # can not use the update method with lists \n",
    "set1 = {\"Auckland\",\"Hamilton\"}\n",
    "list1 =[\"Christchurch\",\"Dunedin\"]\n",
    "list1.update(set1)\n",
    "print(list1)"
   ]
  },
  {
   "cell_type": "markdown",
   "id": "d90aa256",
   "metadata": {},
   "source": [
    "### Remove set items"
   ]
  },
  {
   "cell_type": "code",
   "execution_count": 20,
   "id": "ceff187d",
   "metadata": {},
   "outputs": [
    {
     "name": "stdout",
     "output_type": "stream",
     "text": [
      "{1, 2, 3}\n"
     ]
    },
    {
     "ename": "KeyError",
     "evalue": "5",
     "output_type": "error",
     "traceback": [
      "\u001b[0;31m---------------------------------------------------------------------------\u001b[0m",
      "\u001b[0;31mKeyError\u001b[0m                                  Traceback (most recent call last)",
      "\u001b[0;32m<ipython-input-20-abfed54f7c7e>\u001b[0m in \u001b[0;36m<module>\u001b[0;34m\u001b[0m\n\u001b[1;32m      3\u001b[0m \u001b[0mset1\u001b[0m\u001b[0;34m.\u001b[0m\u001b[0mremove\u001b[0m\u001b[0;34m(\u001b[0m\u001b[0;36m4\u001b[0m\u001b[0;34m)\u001b[0m\u001b[0;34m\u001b[0m\u001b[0;34m\u001b[0m\u001b[0m\n\u001b[1;32m      4\u001b[0m \u001b[0mprint\u001b[0m\u001b[0;34m(\u001b[0m\u001b[0mset1\u001b[0m\u001b[0;34m)\u001b[0m\u001b[0;34m\u001b[0m\u001b[0;34m\u001b[0m\u001b[0m\n\u001b[0;32m----> 5\u001b[0;31m \u001b[0mset1\u001b[0m\u001b[0;34m.\u001b[0m\u001b[0mremove\u001b[0m\u001b[0;34m(\u001b[0m\u001b[0;36m5\u001b[0m\u001b[0;34m)\u001b[0m\u001b[0;34m\u001b[0m\u001b[0;34m\u001b[0m\u001b[0m\n\u001b[0m\u001b[1;32m      6\u001b[0m \u001b[0mprint\u001b[0m\u001b[0;34m(\u001b[0m\u001b[0mset1\u001b[0m\u001b[0;34m)\u001b[0m\u001b[0;34m\u001b[0m\u001b[0;34m\u001b[0m\u001b[0m\n",
      "\u001b[0;31mKeyError\u001b[0m: 5"
     ]
    }
   ],
   "source": [
    "# remove(). Note: If the item to remove does not exist, remove() will raise an error.\n",
    "set1 = {1,2,3,4}\n",
    "set1.remove(4)\n",
    "print(set1)\n",
    "set1.remove(5)\n",
    "print(set1)"
   ]
  },
  {
   "cell_type": "code",
   "execution_count": 19,
   "id": "d865d81b",
   "metadata": {},
   "outputs": [
    {
     "name": "stdout",
     "output_type": "stream",
     "text": [
      "{1, 2, 3, 5}\n",
      "{1, 2, 3, 5}\n"
     ]
    }
   ],
   "source": [
    "# discard(). Note: If the item to remove does not exist, discard() will NOT raise an error.\n",
    "set1 = {1,2,3,4,5}\n",
    "set1.discard(4)\n",
    "print(set1)\n",
    "set1.discard(7)\n",
    "print(set1)"
   ]
  },
  {
   "cell_type": "code",
   "execution_count": 21,
   "id": "4e078e23",
   "metadata": {},
   "outputs": [
    {
     "name": "stdout",
     "output_type": "stream",
     "text": [
      "{2, 3, 4, 5, 6}\n",
      "1\n"
     ]
    }
   ],
   "source": [
    "# pop() . Will remove a random value of the set\n",
    "set1 = {1,2,3,4,5,6}\n",
    "item1 = set1.pop()\n",
    "print(set1)\n",
    "print(item1)"
   ]
  },
  {
   "cell_type": "code",
   "execution_count": 22,
   "id": "47384f1d",
   "metadata": {},
   "outputs": [
    {
     "name": "stdout",
     "output_type": "stream",
     "text": [
      "set()\n"
     ]
    }
   ],
   "source": [
    "# clear() to empty the set\n",
    "set1 = {1,2,3,4,5}\n",
    "set1.clear()\n",
    "print(set1)"
   ]
  },
  {
   "cell_type": "code",
   "execution_count": 23,
   "id": "7c5758b7",
   "metadata": {},
   "outputs": [],
   "source": [
    "# del keyword to delete the set\n",
    "set1 = {1,2,3}\n",
    "del set1"
   ]
  },
  {
   "cell_type": "markdown",
   "id": "5b07df4d",
   "metadata": {},
   "source": [
    "### Loop sets"
   ]
  },
  {
   "cell_type": "code",
   "execution_count": 24,
   "id": "7ca096b9",
   "metadata": {},
   "outputs": [
    {
     "name": "stdout",
     "output_type": "stream",
     "text": [
      "Hamilton\n",
      "Wellington\n",
      "Auckland\n"
     ]
    }
   ],
   "source": [
    "setcities = {\"Auckland\",\"Hamilton\",\"Wellington\"}\n",
    "for i in setcities:\n",
    "    print(i)"
   ]
  },
  {
   "cell_type": "markdown",
   "id": "991703f0",
   "metadata": {},
   "source": [
    "### Join sets\n",
    "here are several ways to join two or more sets in Python.\n",
    "\n",
    "You can use the union() method that returns a new set containing all items from both sets, or the update() method that inserts all the items from one set into another:"
   ]
  },
  {
   "cell_type": "code",
   "execution_count": 26,
   "id": "a16e00ea",
   "metadata": {},
   "outputs": [
    {
     "name": "stdout",
     "output_type": "stream",
     "text": [
      "{1, 2, 3, 'A', 'B'}\n"
     ]
    }
   ],
   "source": [
    "# union()\n",
    "set1 = {1,2,3}\n",
    "set2 = {\"A\",\"B\"}\n",
    "set3 = set1.union(set2)\n",
    "print(set3)"
   ]
  },
  {
   "cell_type": "code",
   "execution_count": 28,
   "id": "82c2f2b5",
   "metadata": {},
   "outputs": [
    {
     "name": "stdout",
     "output_type": "stream",
     "text": [
      "{False, 1, 2, 3}\n"
     ]
    }
   ],
   "source": [
    "# update()\n",
    "set1 = {1,2,3}\n",
    "set2 = {True, False}\n",
    "set1.update(set2)\n",
    "print(set1)"
   ]
  },
  {
   "cell_type": "code",
   "execution_count": 30,
   "id": "03f101b8",
   "metadata": {},
   "outputs": [
    {
     "name": "stdout",
     "output_type": "stream",
     "text": [
      "{2, 3}\n"
     ]
    }
   ],
   "source": [
    "# Keep ONLY the Duplicates\n",
    "# The intersection_update() method will keep only the items that are present in both sets.\n",
    "set1 = {1,2,3}\n",
    "set2 = {2,3,4}\n",
    "set1.intersection_update(set2)\n",
    "print(set1)"
   ]
  },
  {
   "cell_type": "code",
   "execution_count": 32,
   "id": "5b93ee66",
   "metadata": {},
   "outputs": [
    {
     "name": "stdout",
     "output_type": "stream",
     "text": [
      "{2, 3}\n"
     ]
    }
   ],
   "source": [
    "# The intersection() method will return a new set, that only contains the items that are present in both sets.\n",
    "\n",
    "set1 = {1,2,3}\n",
    "set2 = {2,3,4}\n",
    "set3 = set1.intersection(set2)\n",
    "print(set3)"
   ]
  },
  {
   "cell_type": "code",
   "execution_count": 34,
   "id": "2f5eab70",
   "metadata": {},
   "outputs": [
    {
     "name": "stdout",
     "output_type": "stream",
     "text": [
      "{1, 4}\n"
     ]
    }
   ],
   "source": [
    "# Keep All, But NOT the Duplicates\n",
    "# The symmetric_difference_update() method will keep only the elements that are NOT present in both sets.\n",
    "set1 = {1,2,3}\n",
    "set2 = {2,3,4}\n",
    "set1.symmetric_difference_update(set2)\n",
    "print(set1)"
   ]
  },
  {
   "cell_type": "code",
   "execution_count": 35,
   "id": "74603572",
   "metadata": {},
   "outputs": [
    {
     "name": "stdout",
     "output_type": "stream",
     "text": [
      "{1, 4}\n"
     ]
    }
   ],
   "source": [
    "# The symmetric_difference() method will return a new set, that contains only the elements that are NOT present in both sets.\n",
    "\n",
    "set1 = {1,2,3}\n",
    "set2 = {2,3,4}\n",
    "set3 = set1.symmetric_difference(set2)\n",
    "print(set3)"
   ]
  },
  {
   "cell_type": "code",
   "execution_count": null,
   "id": "cf585b89",
   "metadata": {},
   "outputs": [],
   "source": [
    "# Python set methods\n",
    "add()\tAdds an element to the set\n",
    "clear()\tRemoves all the elements from the set\n",
    "copy()\tReturns a copy of the set\n",
    "difference()\tReturns a set containing the difference between two or more sets\n",
    "difference_update()\tRemoves the items in this set that are also included in another, specified set\n",
    "discard()\tRemove the specified item\n",
    "intersection()\tReturns a set, that is the intersection of two other sets\n",
    "intersection_update()\tRemoves the items in this set that are not present in other, specified set(s)\n",
    "isdisjoint()\tReturns whether two sets have a intersection or not\n",
    "issubset()\tReturns whether another set contains this set or not\n",
    "issuperset()\tReturns whether this set contains another set or not\n",
    "pop()\tRemoves an element from the set\n",
    "remove()\tRemoves the specified element\n",
    "symmetric_difference()\tReturns a set with the symmetric differences of two sets\n",
    "symmetric_difference_update()\tinserts the symmetric differences from this set and another\n",
    "union()\tReturn a set containing the union of sets\n",
    "update()\tUpdate the set with the union of this set and others"
   ]
  }
 ],
 "metadata": {
  "kernelspec": {
   "display_name": "Python 3",
   "language": "python",
   "name": "python3"
  },
  "language_info": {
   "codemirror_mode": {
    "name": "ipython",
    "version": 3
   },
   "file_extension": ".py",
   "mimetype": "text/x-python",
   "name": "python",
   "nbconvert_exporter": "python",
   "pygments_lexer": "ipython3",
   "version": "3.8.2"
  }
 },
 "nbformat": 4,
 "nbformat_minor": 5
}
