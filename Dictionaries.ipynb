{
 "cells": [
  {
   "cell_type": "markdown",
   "id": "7f9776cc",
   "metadata": {},
   "source": [
    "## Dictionaries\n",
    "Dictionaries are used to store data values in key:value pairs.\n",
    "\n",
    "A dictionary is a collection which is ordered*, changeable and do not allow duplicates.\n",
    "\n",
    "As of Python version 3.7, dictionaries are ordered. In Python 3.6 and earlier, dictionaries are unordered."
   ]
  },
  {
   "cell_type": "code",
   "execution_count": 1,
   "id": "27fa73ef",
   "metadata": {},
   "outputs": [
    {
     "name": "stdout",
     "output_type": "stream",
     "text": [
      "{'Name': 'Anne', 'Marks': 95, 'Grade': 'A', 'First_class': True}\n"
     ]
    }
   ],
   "source": [
    "# Create a dictionary\n",
    "student = {\n",
    "    \"Name\": \"Anne\",\n",
    "    \"Marks\": 95,\n",
    "    \"Grade\":\"A\",\n",
    "    \"First_class\": True\n",
    "}\n",
    "print(student)"
   ]
  },
  {
   "cell_type": "code",
   "execution_count": 3,
   "id": "937d13f6",
   "metadata": {},
   "outputs": [
    {
     "name": "stdout",
     "output_type": "stream",
     "text": [
      "{'Name': 'Anne', 'Marks': 95, 'Grade': 'A+', 'First_class': True}\n"
     ]
    }
   ],
   "source": [
    "# Duplicate values overwrite\n",
    "student = {\n",
    "    \"Name\": \"Anne\",\n",
    "    \"Marks\": 95,\n",
    "    \"Grade\":\"A\",\n",
    "    \"Grade\":\"A+\",\n",
    "    \"First_class\": True\n",
    "}\n",
    "print(student)"
   ]
  },
  {
   "cell_type": "code",
   "execution_count": 6,
   "id": "4f255bf5",
   "metadata": {},
   "outputs": [
    {
     "name": "stdout",
     "output_type": "stream",
     "text": [
      "4\n"
     ]
    }
   ],
   "source": [
    "# Length of the dictionaries\n",
    "student = {\n",
    "    \"Name\": \"Anne\",\n",
    "    \"Marks\": 95,\n",
    "    \"Grade\":\"A\",\n",
    "    \"Grade\":\"A+\",\n",
    "    \"First_class\": True\n",
    "}\n",
    "\n",
    "print(len(student))"
   ]
  },
  {
   "cell_type": "code",
   "execution_count": 8,
   "id": "8da20065",
   "metadata": {},
   "outputs": [
    {
     "name": "stdout",
     "output_type": "stream",
     "text": [
      "<class 'dict'>\n"
     ]
    }
   ],
   "source": [
    "# Use type()\n",
    "student = {\n",
    "    \"Name\": \"Anne\",\n",
    "    \"Marks\": 95,\n",
    "    \"Grade\":\"A+\",\n",
    "    \"Grades\": [\"A\",\"A+\",\"A\",\"A\"],\n",
    "    \"First_class\": True\n",
    "}\n",
    "print(type(student))"
   ]
  },
  {
   "cell_type": "code",
   "execution_count": 10,
   "id": "224212cb",
   "metadata": {
    "scrolled": true
   },
   "outputs": [
    {
     "name": "stdout",
     "output_type": "stream",
     "text": [
      "{'name': 'Joe', 'marks': 75, 'Grade': 'B+'}\n"
     ]
    }
   ],
   "source": [
    "# dict() constructor \n",
    "student = dict(name = \"Joe\", marks = 75, Grade = \"B+\")\n",
    "print(student)"
   ]
  },
  {
   "cell_type": "markdown",
   "id": "7eac907f",
   "metadata": {},
   "source": [
    "### Access items in a dictionaries"
   ]
  },
  {
   "cell_type": "code",
   "execution_count": 14,
   "id": "5706cd72",
   "metadata": {},
   "outputs": [
    {
     "name": "stdout",
     "output_type": "stream",
     "text": [
      "Anne\n"
     ]
    }
   ],
   "source": [
    "# Referring the item by its key name\n",
    "student = {\n",
    "    \"Name\": \"Anne\",\n",
    "    \"Marks\": 95,\n",
    "    \"Grade\":\"A+\",\n",
    "    \"Grades\": [\"A\",\"A+\",\"A\",\"A\"],\n",
    "    \"First_class\": True\n",
    "}\n",
    "print(student[\"Name\"])\n"
   ]
  },
  {
   "cell_type": "code",
   "execution_count": 15,
   "id": "56702061",
   "metadata": {},
   "outputs": [
    {
     "name": "stdout",
     "output_type": "stream",
     "text": [
      "Anne\n"
     ]
    }
   ],
   "source": [
    "# Use get methods\n",
    "student = {\n",
    "    \"Name\": \"Anne\",\n",
    "    \"Marks\": 95,\n",
    "    \"Grade\":\"A+\",\n",
    "    \"Grades\": [\"A\",\"A+\",\"A\",\"A\"],\n",
    "    \"First_class\": True\n",
    "}\n",
    "print(student.get(\"Name\"))"
   ]
  },
  {
   "cell_type": "code",
   "execution_count": 16,
   "id": "a70e848f",
   "metadata": {},
   "outputs": [
    {
     "name": "stdout",
     "output_type": "stream",
     "text": [
      "dict_keys(['Name', 'Marks', 'Grades', 'First_class'])\n"
     ]
    }
   ],
   "source": [
    "# Use key() to get all the keys in the dictionary\n",
    "student = {\n",
    "    \"Name\": \"Anne\",\n",
    "    \"Marks\": 95,\n",
    "    \"Grades\": [\"A\",\"A+\",\"A\",\"A\"],\n",
    "    \"First_class\": True\n",
    "}\n",
    "print(student.keys())"
   ]
  },
  {
   "cell_type": "code",
   "execution_count": 17,
   "id": "e1896924",
   "metadata": {},
   "outputs": [
    {
     "name": "stdout",
     "output_type": "stream",
     "text": [
      "dict_keys(['Brand', 'Model', 'Color', 'Milage'])\n",
      "dict_keys(['Brand', 'Model', 'Color', 'Milage', 'Price'])\n"
     ]
    }
   ],
   "source": [
    "# Add a new iteam and see the change\n",
    "\n",
    "vehicle ={\n",
    "    \"Brand\":\"Purgeout\",\n",
    "    \"Model\":\"3008\",\n",
    "    \"Color\":\"Red\",\n",
    "    \"Milage\": 0\n",
    "    \n",
    "}\n",
    "print(vehicle.keys())\n",
    "\n",
    "vehicle[\"Price\"] = 60000\n",
    "\n",
    "print(vehicle.keys())"
   ]
  },
  {
   "cell_type": "code",
   "execution_count": 18,
   "id": "f17660dd",
   "metadata": {},
   "outputs": [
    {
     "name": "stdout",
     "output_type": "stream",
     "text": [
      "dict_values(['Purgeout', '3008', 'Red', 0, 60000])\n"
     ]
    }
   ],
   "source": [
    "# values() \n",
    "print(vehicle.values())"
   ]
  },
  {
   "cell_type": "code",
   "execution_count": 19,
   "id": "af4d5167",
   "metadata": {},
   "outputs": [
    {
     "name": "stdout",
     "output_type": "stream",
     "text": [
      "dict_values(['Purgeout', '3008', 'Red', 0])\n",
      "dict_values(['Purgeout', '3008', 'Red', 0, 60000])\n"
     ]
    }
   ],
   "source": [
    "# Add a new item and see the changes\n",
    "vehicle ={\n",
    "    \"Brand\":\"Purgeout\",\n",
    "    \"Model\":\"3008\",\n",
    "    \"Color\":\"Red\",\n",
    "    \"Milage\": 0\n",
    "    \n",
    "}\n",
    "print(vehicle.values())\n",
    "\n",
    "vehicle[\"Price\"] = 60000\n",
    "print(vehicle.values())"
   ]
  },
  {
   "cell_type": "code",
   "execution_count": 21,
   "id": "46048e53",
   "metadata": {},
   "outputs": [
    {
     "name": "stdout",
     "output_type": "stream",
     "text": [
      "dict_values(['Purgeout', '3008', 'Red', 0])\n",
      "dict_values(['Purgeout', '3008', 'White', 0])\n"
     ]
    }
   ],
   "source": [
    "# Make a change in the original dictionary\n",
    "vehicle ={\n",
    "    \"Brand\":\"Purgeout\",\n",
    "    \"Model\":\"3008\",\n",
    "    \"Color\":\"Red\",\n",
    "    \"Milage\": 0\n",
    "    \n",
    "}\n",
    "print(vehicle.values())\n",
    "\n",
    "vehicle[\"Color\"] = \"White\"\n",
    "print(vehicle.values())"
   ]
  },
  {
   "cell_type": "code",
   "execution_count": 22,
   "id": "4ce4a613",
   "metadata": {},
   "outputs": [
    {
     "data": {
      "text/plain": [
       "dict_items([('Brand', 'Purgeout'), ('Model', '3008'), ('Color', 'White'), ('Milage', 0)])"
      ]
     },
     "execution_count": 22,
     "metadata": {},
     "output_type": "execute_result"
    }
   ],
   "source": [
    "# items() to get the key:value pair\n",
    "\n",
    "vehicle.items()"
   ]
  },
  {
   "cell_type": "code",
   "execution_count": 23,
   "id": "75f805c6",
   "metadata": {},
   "outputs": [
    {
     "name": "stdout",
     "output_type": "stream",
     "text": [
      "dict_items([('Brand', 'Purgeout'), ('Model', '3008'), ('Color', 'Red'), ('Milage', 0)])\n",
      "dict_items([('Brand', 'Purgeout'), ('Model', '3008'), ('Color', 'Red'), ('Milage', 0), ('Price', 60000)])\n"
     ]
    }
   ],
   "source": [
    "# Add a new item and see the changes\n",
    "vehicle ={\n",
    "    \"Brand\":\"Purgeout\",\n",
    "    \"Model\":\"3008\",\n",
    "    \"Color\":\"Red\",\n",
    "    \"Milage\": 0\n",
    "    \n",
    "}\n",
    "print(vehicle.items())\n",
    "\n",
    "vehicle[\"Price\"] = 60000\n",
    "print(vehicle.items())"
   ]
  },
  {
   "cell_type": "code",
   "execution_count": 24,
   "id": "4a931393",
   "metadata": {},
   "outputs": [
    {
     "name": "stdout",
     "output_type": "stream",
     "text": [
      "dict_items([('Brand', 'Purgeout'), ('Model', '3008'), ('Color', 'Red'), ('Milage', 0)])\n",
      "dict_items([('Brand', 'Purgeout'), ('Model', '3008'), ('Color', 'White'), ('Milage', 0)])\n"
     ]
    }
   ],
   "source": [
    "# Make a change in the original dictionary\n",
    "vehicle ={\n",
    "    \"Brand\":\"Purgeout\",\n",
    "    \"Model\":\"3008\",\n",
    "    \"Color\":\"Red\",\n",
    "    \"Milage\": 0\n",
    "    \n",
    "}\n",
    "print(vehicle.items())\n",
    "\n",
    "vehicle[\"Color\"] = \"White\"\n",
    "print(vehicle.items())"
   ]
  },
  {
   "cell_type": "code",
   "execution_count": 28,
   "id": "2704c560",
   "metadata": {},
   "outputs": [
    {
     "name": "stdout",
     "output_type": "stream",
     "text": [
      "Yes\n"
     ]
    }
   ],
   "source": [
    "# Check if key exists\n",
    "vehicle ={\n",
    "    \"Brand\":\"Purgeout\",\n",
    "    \"Model\":\"3008\",\n",
    "    \"Color\":\"Red\",\n",
    "    \"Milage\": 0\n",
    "    \n",
    "}\n",
    "if \"Model\" in vehicle:\n",
    "    print(\"Yes\")\n"
   ]
  },
  {
   "cell_type": "markdown",
   "id": "2d196df5",
   "metadata": {},
   "source": [
    "### Change values"
   ]
  },
  {
   "cell_type": "code",
   "execution_count": 29,
   "id": "595ff461",
   "metadata": {},
   "outputs": [
    {
     "name": "stdout",
     "output_type": "stream",
     "text": [
      "{'Brand': 'Purgeout', 'Model': '3008', 'Color': ' White', 'Milage': 0}\n"
     ]
    }
   ],
   "source": [
    "# update()\n",
    "vehicle ={\n",
    "    \"Brand\":\"Purgeout\",\n",
    "    \"Model\":\"3008\",\n",
    "    \"Color\":\"Red\",\n",
    "    \"Milage\": 0\n",
    "    \n",
    "}\n",
    "vehicle.update({\"Color\": \" White\"})\n",
    "print(vehicle)"
   ]
  },
  {
   "cell_type": "markdown",
   "id": "15ff94f3",
   "metadata": {},
   "source": [
    "### Add item\n"
   ]
  },
  {
   "cell_type": "code",
   "execution_count": 30,
   "id": "809f5ec8",
   "metadata": {},
   "outputs": [
    {
     "data": {
      "text/plain": [
       "{'Brand': 'Purgeout',\n",
       " 'Model': '3008',\n",
       " 'Color': 'Red',\n",
       " 'Milage': 0,\n",
       " 'Price': 60000}"
      ]
     },
     "execution_count": 30,
     "metadata": {},
     "output_type": "execute_result"
    }
   ],
   "source": [
    "vehicle ={\n",
    "    \"Brand\":\"Purgeout\",\n",
    "    \"Model\":\"3008\",\n",
    "    \"Color\":\"Red\",\n",
    "    \"Milage\": 0\n",
    "    \n",
    "}\n",
    "vehicle[\"Price\"] = 60000\n",
    "vehicle"
   ]
  },
  {
   "cell_type": "code",
   "execution_count": 31,
   "id": "d5c8bdc0",
   "metadata": {},
   "outputs": [
    {
     "data": {
      "text/plain": [
       "{'Brand': 'Purgeout',\n",
       " 'Model': '3008',\n",
       " 'Color': 'Red',\n",
       " 'Milage': 0,\n",
       " 'Price': 65000}"
      ]
     },
     "execution_count": 31,
     "metadata": {},
     "output_type": "execute_result"
    }
   ],
   "source": [
    "# Use update() \n",
    "vehicle ={\n",
    "    \"Brand\":\"Purgeout\",\n",
    "    \"Model\":\"3008\",\n",
    "    \"Color\":\"Red\",\n",
    "    \"Milage\": 0\n",
    "    \n",
    "}\n",
    "vehicle.update({\"Price\":65000})\n",
    "vehicle"
   ]
  },
  {
   "cell_type": "markdown",
   "id": "be517b32",
   "metadata": {},
   "source": [
    "### Remove items from the dictionary"
   ]
  },
  {
   "cell_type": "code",
   "execution_count": 32,
   "id": "6c83b462",
   "metadata": {},
   "outputs": [
    {
     "data": {
      "text/plain": [
       "{'Brand': 'Purgeout', 'Model': '3008', 'Color': 'Red'}"
      ]
     },
     "execution_count": 32,
     "metadata": {},
     "output_type": "execute_result"
    }
   ],
   "source": [
    "# use pop() method\n",
    "vehicle ={\n",
    "    \"Brand\":\"Purgeout\",\n",
    "    \"Model\":\"3008\",\n",
    "    \"Color\":\"Red\",\n",
    "    \"Milage\": 0\n",
    "    \n",
    "}\n",
    "vehicle.pop(\"Milage\")\n",
    "vehicle\n"
   ]
  },
  {
   "cell_type": "code",
   "execution_count": 34,
   "id": "583cf26b",
   "metadata": {},
   "outputs": [
    {
     "data": {
      "text/plain": [
       "{'Brand': 'Purgeout', 'Model': '3008', 'Color': 'Red'}"
      ]
     },
     "execution_count": 34,
     "metadata": {},
     "output_type": "execute_result"
    }
   ],
   "source": [
    "#The popitem() method removes the last inserted item (in versions before 3.7, a random item is removed instead)\n",
    "vehicle ={\n",
    "    \"Brand\":\"Purgeout\",\n",
    "    \"Model\":\"3008\",\n",
    "    \"Color\":\"Red\",\n",
    "    \"Milage\": 0\n",
    "    \n",
    "}\n",
    "vehicle.popitem()\n",
    "vehicle\n"
   ]
  },
  {
   "cell_type": "code",
   "execution_count": 35,
   "id": "e35d2e61",
   "metadata": {},
   "outputs": [
    {
     "data": {
      "text/plain": [
       "{'Brand': 'Purgeout', 'Model': '3008', 'Color': 'Red'}"
      ]
     },
     "execution_count": 35,
     "metadata": {},
     "output_type": "execute_result"
    }
   ],
   "source": [
    "# Use del keyword to remove items\n",
    "vehicle ={\n",
    "    \"Brand\":\"Purgeout\",\n",
    "    \"Model\":\"3008\",\n",
    "    \"Color\":\"Red\",\n",
    "    \"Milage\": 0\n",
    "    \n",
    "}\n",
    "\n",
    "del vehicle[\"Milage\"]\n",
    "vehicle"
   ]
  },
  {
   "cell_type": "code",
   "execution_count": 36,
   "id": "9fb61a00",
   "metadata": {},
   "outputs": [],
   "source": [
    "# Use del keyword to delete the entire dictionary\n",
    "vehicle ={\n",
    "    \"Brand\":\"Purgeout\",\n",
    "    \"Model\":\"3008\",\n",
    "    \"Color\":\"Red\",\n",
    "    \"Milage\": 0\n",
    "    \n",
    "}\n",
    "del vehicle"
   ]
  },
  {
   "cell_type": "code",
   "execution_count": 37,
   "id": "64fb5870",
   "metadata": {},
   "outputs": [
    {
     "name": "stdout",
     "output_type": "stream",
     "text": [
      "{}\n"
     ]
    }
   ],
   "source": [
    "# Use clear() to empty the dictionary\n",
    "vehicle ={\n",
    "    \"Brand\":\"Purgeout\",\n",
    "    \"Model\":\"3008\",\n",
    "    \"Color\":\"Red\",\n",
    "    \"Milage\": 0\n",
    "    \n",
    "}\n",
    "vehicle.clear()\n",
    "print(vehicle)"
   ]
  },
  {
   "cell_type": "markdown",
   "id": "f62fa50a",
   "metadata": {},
   "source": [
    "## Loop through dictionary"
   ]
  },
  {
   "cell_type": "code",
   "execution_count": 40,
   "id": "fc964cdd",
   "metadata": {},
   "outputs": [
    {
     "name": "stdout",
     "output_type": "stream",
     "text": [
      "Brand\n",
      "Model\n",
      "Color\n",
      "Milage\n"
     ]
    }
   ],
   "source": [
    "# Access the keys through looping\n",
    "vehicle ={\n",
    "    \"Brand\":\"Purgeout\",\n",
    "    \"Model\":\"3008\",\n",
    "    \"Color\":\"Red\",\n",
    "    \"Milage\": 0\n",
    "    \n",
    "}\n",
    "for i in vehicle.keys():\n",
    "    print(i)"
   ]
  },
  {
   "cell_type": "code",
   "execution_count": 38,
   "id": "364606dd",
   "metadata": {},
   "outputs": [
    {
     "name": "stdout",
     "output_type": "stream",
     "text": [
      "Brand\n",
      "Model\n",
      "Color\n",
      "Milage\n"
     ]
    }
   ],
   "source": [
    "# Access the keys through looping\n",
    "vehicle ={\n",
    "    \"Brand\":\"Purgeout\",\n",
    "    \"Model\":\"3008\",\n",
    "    \"Color\":\"Red\",\n",
    "    \"Milage\": 0\n",
    "    \n",
    "}\n",
    "for i in vehicle:\n",
    "    print(i)"
   ]
  },
  {
   "cell_type": "code",
   "execution_count": 41,
   "id": "5176fc53",
   "metadata": {},
   "outputs": [
    {
     "name": "stdout",
     "output_type": "stream",
     "text": [
      "Purgeout\n",
      "3008\n",
      "Red\n",
      "0\n"
     ]
    }
   ],
   "source": [
    "# Access the values through looping\n",
    "vehicle ={\n",
    "    \"Brand\":\"Purgeout\",\n",
    "    \"Model\":\"3008\",\n",
    "    \"Color\":\"Red\",\n",
    "    \"Milage\": 0\n",
    "    \n",
    "}\n",
    "for i in vehicle.values():\n",
    "    print(i)"
   ]
  },
  {
   "cell_type": "code",
   "execution_count": 39,
   "id": "92d98b45",
   "metadata": {},
   "outputs": [
    {
     "name": "stdout",
     "output_type": "stream",
     "text": [
      "Purgeout\n",
      "3008\n",
      "Red\n",
      "0\n"
     ]
    }
   ],
   "source": [
    "# Access the values through looping\n",
    "vehicle ={\n",
    "    \"Brand\":\"Purgeout\",\n",
    "    \"Model\":\"3008\",\n",
    "    \"Color\":\"Red\",\n",
    "    \"Milage\": 0\n",
    "    \n",
    "}\n",
    "for i in vehicle:\n",
    "    print(vehicle[i])"
   ]
  },
  {
   "cell_type": "code",
   "execution_count": 42,
   "id": "fb18cdbf",
   "metadata": {},
   "outputs": [
    {
     "name": "stdout",
     "output_type": "stream",
     "text": [
      "Brand Purgeout\n",
      "Model 3008\n",
      "Color Red\n",
      "Milage 0\n"
     ]
    }
   ],
   "source": [
    "# Access the key:value pair using items()\n",
    "vehicle ={\n",
    "    \"Brand\":\"Purgeout\",\n",
    "    \"Model\":\"3008\",\n",
    "    \"Color\":\"Red\",\n",
    "    \"Milage\": 0\n",
    "    \n",
    "}\n",
    "for x,y in vehicle.items():\n",
    "    print(x,y)"
   ]
  },
  {
   "cell_type": "markdown",
   "id": "77469585",
   "metadata": {},
   "source": [
    "### Copy dictionaries\n",
    "You cannot copy a dictionary simply by typing dict2 = dict1, because: dict2 will only be a reference to dict1, and changes made in dict1 will automatically also be made in dict2."
   ]
  },
  {
   "cell_type": "code",
   "execution_count": 43,
   "id": "fe997c74",
   "metadata": {},
   "outputs": [
    {
     "name": "stdout",
     "output_type": "stream",
     "text": [
      "{'Brand': 'Purgeout', 'Model': '3008', 'Color': 'Red', 'Milage': 0}\n"
     ]
    }
   ],
   "source": [
    "# Can use the copy() to copy the dictionary\n",
    "vehicle ={\n",
    "    \"Brand\":\"Purgeout\",\n",
    "    \"Model\":\"3008\",\n",
    "    \"Color\":\"Red\",\n",
    "    \"Milage\": 0\n",
    "    \n",
    "}\n",
    "vehicle2 = vehicle.copy()\n",
    "print(vehicle2)"
   ]
  },
  {
   "cell_type": "code",
   "execution_count": 44,
   "id": "c0dda9e8",
   "metadata": {},
   "outputs": [
    {
     "name": "stdout",
     "output_type": "stream",
     "text": [
      "{'Brand': 'Purgeout', 'Model': '3008', 'Color': 'Red', 'Milage': 0}\n"
     ]
    }
   ],
   "source": [
    "# Can use dict() to make a copy\n",
    "vehicle ={\n",
    "    \"Brand\":\"Purgeout\",\n",
    "    \"Model\":\"3008\",\n",
    "    \"Color\":\"Red\",\n",
    "    \"Milage\": 0\n",
    "    \n",
    "}\n",
    "vehicle2 = dict(vehicle)\n",
    "print(vehicle2)"
   ]
  },
  {
   "cell_type": "markdown",
   "id": "ab53aada",
   "metadata": {},
   "source": [
    "### Nested dictionaries"
   ]
  },
  {
   "cell_type": "code",
   "execution_count": 46,
   "id": "23bad0a5",
   "metadata": {},
   "outputs": [
    {
     "data": {
      "text/plain": [
       "{'v1': {'Brand': 'Purgeout', 'Model': '3008', 'Color': 'Red', 'Milage': 0},\n",
       " 'v2': {'Brand': 'BMW', 'Model': 'X5', 'Color': 'White', 'Milage': 10000},\n",
       " 'v3': {'Brand': 'Tesla', 'Model': 'S', 'Color': 'White', 'Milage': 0}}"
      ]
     },
     "execution_count": 46,
     "metadata": {},
     "output_type": "execute_result"
    }
   ],
   "source": [
    "dream_vehicles ={\n",
    "    \"v1\":{\n",
    "        \"Brand\":\"Purgeout\",\n",
    "        \"Model\":\"3008\",\n",
    "        \"Color\":\"Red\",\n",
    "        \"Milage\": 0\n",
    "    },\n",
    "    \"v2\":{\n",
    "        \"Brand\":\"BMW\",\n",
    "        \"Model\":\"X5\",\n",
    "        \"Color\":\"White\",\n",
    "        \"Milage\": 10000\n",
    "    },\n",
    "    \"v3\":{\n",
    "        \"Brand\":\"Tesla\",\n",
    "        \"Model\":\"S\",\n",
    "        \"Color\":\"White\",\n",
    "        \"Milage\": 0\n",
    "    }\n",
    "}\n",
    "dream_vehicles"
   ]
  },
  {
   "cell_type": "code",
   "execution_count": 47,
   "id": "cc647b11",
   "metadata": {},
   "outputs": [
    {
     "data": {
      "text/plain": [
       "{'v1': {'Brand': 'Purgeout', 'Model': '3008', 'Color': 'Red', 'Milage': 0},\n",
       " 'v2': {'Brand': 'BMW', 'Model': 'X5', 'Color': 'White', 'Milage': 10000},\n",
       " 'v3': {'Brand': 'Tesla', 'Model': 'S', 'Color': 'White', 'Milage': 0}}"
      ]
     },
     "execution_count": 47,
     "metadata": {},
     "output_type": "execute_result"
    }
   ],
   "source": [
    "# Create the dictionaries separately\n",
    "v1 ={\n",
    "    \"Brand\":\"Purgeout\",\n",
    "    \"Model\":\"3008\",\n",
    "    \"Color\":\"Red\",\n",
    "    \"Milage\": 0\n",
    "}\n",
    "v2 = {\n",
    "    \"Brand\":\"BMW\",\n",
    "    \"Model\":\"X5\",\n",
    "    \"Color\":\"White\",\n",
    "    \"Milage\": 10000\n",
    "}\n",
    "v3 = {\n",
    "    \"Brand\":\"Tesla\",\n",
    "    \"Model\":\"S\",\n",
    "    \"Color\":\"White\",\n",
    "    \"Milage\": 0\n",
    "}\n",
    "\n",
    "dream_cars = {\n",
    "    \"v1\": v1,\n",
    "    \"v2\": v2,\n",
    "    \"v3\":v3\n",
    "}\n",
    "dream_cars"
   ]
  },
  {
   "cell_type": "markdown",
   "id": "9cb0254c",
   "metadata": {},
   "source": [
    "### Access items in nested dictionaries"
   ]
  },
  {
   "cell_type": "code",
   "execution_count": 48,
   "id": "2522e8cb",
   "metadata": {},
   "outputs": [
    {
     "name": "stdout",
     "output_type": "stream",
     "text": [
      "X5\n"
     ]
    }
   ],
   "source": [
    "print(dream_cars[\"v2\"][\"Model\"])"
   ]
  },
  {
   "cell_type": "markdown",
   "id": "a3179e85",
   "metadata": {},
   "source": [
    "### Dictionary methods"
   ]
  },
  {
   "cell_type": "code",
   "execution_count": null,
   "id": "06ed94a2",
   "metadata": {},
   "outputs": [],
   "source": [
    "Method\tDescription\n",
    "clear()\tRemoves all the elements from the dictionary\n",
    "copy()\tReturns a copy of the dictionary\n",
    "fromkeys()\tReturns a dictionary with the specified keys and value\n",
    "get()\tReturns the value of the specified key\n",
    "items()\tReturns a list containing a tuple for each key value pair\n",
    "keys()\tReturns a list containing the dictionary's keys\n",
    "pop()\tRemoves the element with the specified key\n",
    "popitem()\tRemoves the last inserted key-value pair\n",
    "setdefault()\tReturns the value of the specified key. If the key does not exist: insert the key, with the specified value\n",
    "update()\tUpdates the dictionary with the specified key-value pairs\n",
    "values()\tReturns a list of all the values in the dictionary"
   ]
  }
 ],
 "metadata": {
  "kernelspec": {
   "display_name": "Python 3",
   "language": "python",
   "name": "python3"
  },
  "language_info": {
   "codemirror_mode": {
    "name": "ipython",
    "version": 3
   },
   "file_extension": ".py",
   "mimetype": "text/x-python",
   "name": "python",
   "nbconvert_exporter": "python",
   "pygments_lexer": "ipython3",
   "version": "3.8.2"
  }
 },
 "nbformat": 4,
 "nbformat_minor": 5
}
