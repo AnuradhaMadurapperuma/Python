{
 "cells": [
  {
   "cell_type": "code",
   "execution_count": 1,
   "id": "257c2c4a",
   "metadata": {},
   "outputs": [
    {
     "name": "stdout",
     "output_type": "stream",
     "text": [
      "10\n",
      "Anne\n"
     ]
    }
   ],
   "source": [
    "## creating variables\n",
    "a = 10\n",
    "b = \"Anne\"\n",
    "print(a)\n",
    "print(b)"
   ]
  },
  {
   "cell_type": "code",
   "execution_count": 2,
   "id": "9e970635",
   "metadata": {},
   "outputs": [
    {
     "name": "stdout",
     "output_type": "stream",
     "text": [
      "Anne\n"
     ]
    }
   ],
   "source": [
    "# No need for declare a variable with a type, can even change the type of a variable after declaration\n",
    "a = \"25\"\n",
    "a = \"Anne\"\n",
    "print(a)"
   ]
  },
  {
   "cell_type": "markdown",
   "id": "669a9ab4",
   "metadata": {},
   "source": [
    "### Casting"
   ]
  },
  {
   "cell_type": "code",
   "execution_count": 3,
   "id": "d2e100e9",
   "metadata": {},
   "outputs": [
    {
     "name": "stdout",
     "output_type": "stream",
     "text": [
      "10\n",
      "10\n",
      "10.0\n"
     ]
    }
   ],
   "source": [
    "a = str(10)\n",
    "b = int(10)\n",
    "c = float(10)\n",
    "print(a)\n",
    "print(b)\n",
    "print(c)"
   ]
  },
  {
   "cell_type": "markdown",
   "id": "eb842be5",
   "metadata": {},
   "source": [
    "### Get the type()"
   ]
  },
  {
   "cell_type": "code",
   "execution_count": 4,
   "id": "b4d9b1be",
   "metadata": {},
   "outputs": [
    {
     "name": "stdout",
     "output_type": "stream",
     "text": [
      "<class 'str'>\n",
      "<class 'int'>\n",
      "<class 'float'>\n"
     ]
    }
   ],
   "source": [
    "a = str(10)\n",
    "b = int(10)\n",
    "c = float(10)\n",
    "print(type(a))\n",
    "print(type(b))\n",
    "print(type(c))"
   ]
  },
  {
   "cell_type": "code",
   "execution_count": 5,
   "id": "31bce9b2",
   "metadata": {},
   "outputs": [
    {
     "name": "stdout",
     "output_type": "stream",
     "text": [
      "Anne\n",
      "Data\n"
     ]
    }
   ],
   "source": [
    "# can use single or double quotes\n",
    "a = \"Anne\"\n",
    "b = 'Data'\n",
    "print(a)\n",
    "print(b)"
   ]
  },
  {
   "cell_type": "code",
   "execution_count": 6,
   "id": "cd1a5b2a",
   "metadata": {},
   "outputs": [
    {
     "name": "stdout",
     "output_type": "stream",
     "text": [
      "10\n",
      "Anne\n"
     ]
    }
   ],
   "source": [
    "## variable names are case-sensitive\n",
    "a = 10\n",
    "A = \"Anne\"\n",
    "print(a)\n",
    "print(A)"
   ]
  },
  {
   "cell_type": "code",
   "execution_count": null,
   "id": "62ccb7da",
   "metadata": {},
   "outputs": [],
   "source": [
    "# Naming conventions in Python\n",
    "# A variable name must start with a letter or the underscore character\n",
    "# A variable name cannot start with a number\n",
    "# A variable name can only contain alpha-numeric characters and underscores (A-z, 0-9, and _ )\n",
    "# Variable names are case-sensitive (age, Age and AGE are three different variables)\n",
    "# A variable name cannot be any of the Python keywords.\n",
    "\n",
    "\n",
    "# Multi Words Variable Names\n",
    "# Camel Case\n",
    "# Each word, except the first, starts with a capital letter\n",
    "# Pascal Case\n",
    "# Each word starts with a capital letter\n",
    "# Snake Case\n",
    "# Each word is separated by an underscore character"
   ]
  },
  {
   "cell_type": "code",
   "execution_count": 7,
   "id": "52491c69",
   "metadata": {},
   "outputs": [],
   "source": [
    "# Camel Case\n",
    "# Each word, except the first, starts with a capital letter\n",
    "myDreamVehicle = \"Puegeuot\""
   ]
  },
  {
   "cell_type": "code",
   "execution_count": 8,
   "id": "6579f264",
   "metadata": {},
   "outputs": [],
   "source": [
    "# Pascal Case\n",
    "# Each word starts with a capital letter\n",
    "MyDreamVehicle = \"BMW\""
   ]
  },
  {
   "cell_type": "code",
   "execution_count": 9,
   "id": "400c1097",
   "metadata": {},
   "outputs": [],
   "source": [
    "# Snake Case\n",
    "# Each word is separated by an underscore character\n",
    "my_dream_vehicle = \"BMW\""
   ]
  },
  {
   "cell_type": "code",
   "execution_count": 10,
   "id": "a7a1dae7",
   "metadata": {},
   "outputs": [
    {
     "name": "stdout",
     "output_type": "stream",
     "text": [
      "Auckland\n",
      "Hamilton\n",
      "Wellington\n"
     ]
    }
   ],
   "source": [
    "## Assign Multiple Values\n",
    "x,y,z = \"Auckland\",\"Hamilton\",\"Wellington\"\n",
    "print(x)\n",
    "print(y)\n",
    "print(z)"
   ]
  },
  {
   "cell_type": "code",
   "execution_count": 11,
   "id": "934e484b",
   "metadata": {},
   "outputs": [
    {
     "name": "stdout",
     "output_type": "stream",
     "text": [
      "Hamilton\n",
      "Hamilton\n",
      "Hamilton\n"
     ]
    }
   ],
   "source": [
    "## One value to multiple variables\n",
    "x =y =z = \"Hamilton\"\n",
    "print(x)\n",
    "print(y)\n",
    "print(z)"
   ]
  },
  {
   "cell_type": "code",
   "execution_count": 12,
   "id": "181b959e",
   "metadata": {},
   "outputs": [
    {
     "name": "stdout",
     "output_type": "stream",
     "text": [
      "Auckland\n",
      "Hamilton\n",
      "Wellington\n"
     ]
    }
   ],
   "source": [
    "# unpacking collection of values , such as list, tuples, sets or dictionaries\n",
    "cities = [\"Auckland\",\"Hamilton\",\"Wellington\"]\n",
    "x,y,z = cities\n",
    "print(x)\n",
    "print(y)\n",
    "print(z)"
   ]
  },
  {
   "cell_type": "code",
   "execution_count": 13,
   "id": "16c78ad4",
   "metadata": {},
   "outputs": [
    {
     "name": "stdout",
     "output_type": "stream",
     "text": [
      "Auckland\n",
      "Hamilton\n",
      "Wellington\n"
     ]
    }
   ],
   "source": [
    "cities = (\"Auckland\",\"Hamilton\",\"Wellington\")\n",
    "x,y,z = cities\n",
    "print(x)\n",
    "print(y)\n",
    "print(z)"
   ]
  },
  {
   "cell_type": "code",
   "execution_count": 14,
   "id": "fae8c860",
   "metadata": {},
   "outputs": [
    {
     "name": "stdout",
     "output_type": "stream",
     "text": [
      "Wellington\n",
      "Auckland\n",
      "Hamilton\n"
     ]
    }
   ],
   "source": [
    "cities = {\"Auckland\",\"Hamilton\",\"Wellington\"}\n",
    "x,y,z = cities\n",
    "print(x)\n",
    "print(y)\n",
    "print(z)"
   ]
  },
  {
   "cell_type": "code",
   "execution_count": 15,
   "id": "309a8613",
   "metadata": {},
   "outputs": [
    {
     "name": "stdout",
     "output_type": "stream",
     "text": [
      "city1\n",
      "city2\n",
      "city3\n"
     ]
    }
   ],
   "source": [
    "cities = {\n",
    "    \"city1\":\"Auckland\",\n",
    "    \"city2\":\"Hamilton\",\n",
    "    \"city3\":\"Wellington\"\n",
    "}\n",
    "x,y,z = cities\n",
    "print(x)\n",
    "print(y)\n",
    "print(z)"
   ]
  },
  {
   "cell_type": "code",
   "execution_count": 16,
   "id": "df140eb1",
   "metadata": {},
   "outputs": [
    {
     "name": "stdout",
     "output_type": "stream",
     "text": [
      "Python Language!\n"
     ]
    }
   ],
   "source": [
    "# Output variable\n",
    "# The Python print() function is often used to output variables.\n",
    "x = \"Python Language!\"\n",
    "print(x)\n"
   ]
  },
  {
   "cell_type": "code",
   "execution_count": 17,
   "id": "af530a43",
   "metadata": {},
   "outputs": [
    {
     "name": "stdout",
     "output_type": "stream",
     "text": [
      "I Love - Python C Java\n"
     ]
    }
   ],
   "source": [
    "x = \"Python\"\n",
    "y = \"C\"\n",
    "z = \"Java\"\n",
    "print(\"I Love - \" + x,y,z)"
   ]
  },
  {
   "cell_type": "code",
   "execution_count": 18,
   "id": "3c12eeb3",
   "metadata": {},
   "outputs": [
    {
     "name": "stdout",
     "output_type": "stream",
     "text": [
      "I Love - PythonCJava\n"
     ]
    }
   ],
   "source": [
    "# You can also use the + operator to output multiple variables\n",
    "x = \"Python\"\n",
    "y = \"C\"\n",
    "z = \"Java\"\n",
    "print(\"I Love - \" + x + y+z)"
   ]
  },
  {
   "cell_type": "code",
   "execution_count": 19,
   "id": "a6f791f5",
   "metadata": {},
   "outputs": [
    {
     "name": "stdout",
     "output_type": "stream",
     "text": [
      "30\n"
     ]
    }
   ],
   "source": [
    "# For numbers + operator works as mathematical operation\n",
    "x = 10\n",
    "y = 20\n",
    "print(x+y)"
   ]
  },
  {
   "cell_type": "code",
   "execution_count": 20,
   "id": "c4d6e0d1",
   "metadata": {},
   "outputs": [
    {
     "ename": "TypeError",
     "evalue": "unsupported operand type(s) for +: 'int' and 'str'",
     "output_type": "error",
     "traceback": [
      "\u001b[0;31m---------------------------------------------------------------------------\u001b[0m",
      "\u001b[0;31mTypeError\u001b[0m                                 Traceback (most recent call last)",
      "\u001b[0;32m<ipython-input-20-ebc99d139e61>\u001b[0m in \u001b[0;36m<module>\u001b[0;34m\u001b[0m\n\u001b[1;32m      2\u001b[0m \u001b[0mx\u001b[0m \u001b[0;34m=\u001b[0m \u001b[0;36m10\u001b[0m\u001b[0;34m\u001b[0m\u001b[0;34m\u001b[0m\u001b[0m\n\u001b[1;32m      3\u001b[0m \u001b[0my\u001b[0m \u001b[0;34m=\u001b[0m \u001b[0;34m\"Anne\"\u001b[0m\u001b[0;34m\u001b[0m\u001b[0;34m\u001b[0m\u001b[0m\n\u001b[0;32m----> 4\u001b[0;31m \u001b[0mprint\u001b[0m\u001b[0;34m(\u001b[0m\u001b[0mx\u001b[0m\u001b[0;34m+\u001b[0m\u001b[0my\u001b[0m\u001b[0;34m)\u001b[0m\u001b[0;34m\u001b[0m\u001b[0;34m\u001b[0m\u001b[0m\n\u001b[0m",
      "\u001b[0;31mTypeError\u001b[0m: unsupported operand type(s) for +: 'int' and 'str'"
     ]
    }
   ],
   "source": [
    "# Will generate an error\n",
    "x = 10\n",
    "y = \"Anne\"\n",
    "print(x+y)"
   ]
  },
  {
   "cell_type": "code",
   "execution_count": 21,
   "id": "d2b6774d",
   "metadata": {},
   "outputs": [
    {
     "name": "stdout",
     "output_type": "stream",
     "text": [
      "10 Anne\n"
     ]
    }
   ],
   "source": [
    "x = 10\n",
    "y = \"Anne\"\n",
    "print(x,y)"
   ]
  },
  {
   "cell_type": "markdown",
   "id": "69faf617",
   "metadata": {},
   "source": [
    "\n",
    "## Global Variables\n",
    "Variables that are created outside of a function (as in all of the examples above) are known as global variables.\n",
    "\n",
    "Global variables can be used by everyone, both inside of functions and outside.\n",
    "\n"
   ]
  },
  {
   "cell_type": "code",
   "execution_count": 22,
   "id": "3c2c5b7d",
   "metadata": {},
   "outputs": [
    {
     "name": "stdout",
     "output_type": "stream",
     "text": [
      "My name is Anne\n"
     ]
    }
   ],
   "source": [
    "x = \"Anne\"\n",
    "\n",
    "def name_func():\n",
    "    print(\"My name is \" + x)\n",
    "    \n",
    "name_func()    "
   ]
  },
  {
   "cell_type": "code",
   "execution_count": 23,
   "id": "925e6bb9",
   "metadata": {},
   "outputs": [
    {
     "name": "stdout",
     "output_type": "stream",
     "text": [
      "The user is :User\n",
      "The user is :Anne\n"
     ]
    }
   ],
   "source": [
    "# create a variable with same global variable and see the behaviour\n",
    "\n",
    "x = \"Anne\"\n",
    "\n",
    "def user_name():\n",
    "    x = \"User\"\n",
    "    print(\"The user is :\"+ x)\n",
    "    \n",
    "user_name()\n",
    "print(\"The user is :\"+ x)"
   ]
  },
  {
   "cell_type": "code",
   "execution_count": null,
   "id": "237c13f8",
   "metadata": {},
   "outputs": [],
   "source": [
    "# The global Keyword\n",
    "# Normally, when you create a variable inside a function, that variable is local, and can only be used inside that function.\n",
    "\n",
    "# To create a global variable inside a function, you can use the global keyword.\n",
    "\n"
   ]
  },
  {
   "cell_type": "code",
   "execution_count": 24,
   "id": "8af6d918",
   "metadata": {},
   "outputs": [
    {
     "name": "stdout",
     "output_type": "stream",
     "text": [
      "The user is: Anne\n"
     ]
    }
   ],
   "source": [
    "\n",
    "def user_check():\n",
    "    global x\n",
    "    x = \"Anne\"\n",
    "    \n",
    "user_check()\n",
    "print(\"The user is: \"+ x)"
   ]
  },
  {
   "cell_type": "code",
   "execution_count": 25,
   "id": "c1b56312",
   "metadata": {},
   "outputs": [
    {
     "name": "stdout",
     "output_type": "stream",
     "text": [
      "The user is : User\n"
     ]
    }
   ],
   "source": [
    "# Also, use the global keyword if you want to change a global variable inside a function.\n",
    "\n",
    "x = \"Anne\"\n",
    "def user_check():\n",
    "    global x \n",
    "    x = \"User\"\n",
    "    \n",
    "user_check()\n",
    "\n",
    "print(\"The user is : \"+ x)"
   ]
  },
  {
   "cell_type": "markdown",
   "id": "3bddf349",
   "metadata": {},
   "source": [
    "## Python data types"
   ]
  },
  {
   "cell_type": "code",
   "execution_count": null,
   "id": "256616a8",
   "metadata": {},
   "outputs": [],
   "source": [
    "Built-in Data Types\n",
    "In programming, data type is an important concept.\n",
    "\n",
    "Variables can store data of different types, and different types can do different things.\n",
    "\n",
    "Python has the following data types built-in by default, in these categories:\n",
    "\n",
    "Text Type:\tstr\n",
    "Numeric Types:\tint, float, complex\n",
    "Sequence Types:\tlist, tuple, range\n",
    "Mapping Type:\tdict\n",
    "Set Types:\tset, frozenset\n",
    "Boolean Type:\tbool\n",
    "Binary Types:\tbytes, bytearray, memoryview\n",
    "None Type:\tNoneType"
   ]
  },
  {
   "cell_type": "code",
   "execution_count": 26,
   "id": "7aec867f",
   "metadata": {},
   "outputs": [
    {
     "data": {
      "text/plain": [
       "str"
      ]
     },
     "execution_count": 26,
     "metadata": {},
     "output_type": "execute_result"
    }
   ],
   "source": [
    "# can use type() to get the data type\n",
    "a = \"Anne\"\n",
    "type(a)"
   ]
  },
  {
   "cell_type": "code",
   "execution_count": null,
   "id": "439258d7",
   "metadata": {},
   "outputs": [],
   "source": [
    "Setting the Data Type\n",
    "In Python, the data type is set when you assign a value to a variable:\n",
    "\n",
    "Example\tData Type\tTry it\n",
    "x = \"Hello World\"\tstr\t\n",
    "x = 20\tint\t\n",
    "x = 20.5\tfloat\t\n",
    "x = 1j\tcomplex\t\n",
    "x = [\"apple\", \"banana\", \"cherry\"]\tlist\t\n",
    "x = (\"apple\", \"banana\", \"cherry\")\ttuple\t\n",
    "x = range(6)\trange\t\n",
    "x = {\"name\" : \"John\", \"age\" : 36}\tdict\t\n",
    "x = {\"apple\", \"banana\", \"cherry\"}\tset\t\n",
    "x = frozenset({\"apple\", \"banana\", \"cherry\"})\tfrozenset\t\n",
    "x = True\tbool\t\n",
    "x = b\"Hello\"\tbytes\t\n",
    "x = bytearray(5)\tbytearray\t\n",
    "x = memoryview(bytes(5))\tmemoryview\t\n",
    "x = None\tNoneType\t\n"
   ]
  },
  {
   "cell_type": "code",
   "execution_count": null,
   "id": "4fc6cb57",
   "metadata": {},
   "outputs": [],
   "source": [
    "Setting the Specific Data Type\n",
    "If you want to specify the data type, you can use the following constructor functions:\n",
    "    \n",
    "Example\tData Type\tTry it\n",
    "x = str(\"Hello World\")\tstr\t\n",
    "x = int(20)\tint\t\n",
    "x = float(20.5)\tfloat\t\n",
    "x = complex(1j)\tcomplex\t\n",
    "x = list((\"apple\", \"banana\", \"cherry\"))\tlist\t\n",
    "x = tuple((\"apple\", \"banana\", \"cherry\"))\ttuple\t\n",
    "x = range(6)\trange\t\n",
    "x = dict(name=\"John\", age=36)\tdict\t\n",
    "x = set((\"apple\", \"banana\", \"cherry\"))\tset\t\n",
    "x = frozenset((\"apple\", \"banana\", \"cherry\"))\tfrozenset\t\n",
    "x = bool(5)\tbool\t\n",
    "x = bytes(5)\tbytes\t\n",
    "x = bytearray(5)\tbytearray\t\n",
    "x = memoryview(bytes(5))\tmemoryview"
   ]
  },
  {
   "cell_type": "markdown",
   "id": "77a7cf9f",
   "metadata": {},
   "source": [
    "## Python numbers\n",
    "There are three numeric types in Python:\n",
    "\n",
    "int\n",
    "float\n",
    "complex\n",
    "\n",
    "Variables of numeric types are created when you assign a value to them\n"
   ]
  },
  {
   "cell_type": "code",
   "execution_count": 27,
   "id": "e655608d",
   "metadata": {},
   "outputs": [
    {
     "name": "stdout",
     "output_type": "stream",
     "text": [
      "<class 'int'>\n",
      "<class 'float'>\n",
      "<class 'complex'>\n"
     ]
    }
   ],
   "source": [
    "x = 10\n",
    "y = 20.2\n",
    "z = 1j\n",
    "print(type(x))\n",
    "print(type(y))\n",
    "print(type(z))"
   ]
  },
  {
   "cell_type": "code",
   "execution_count": 28,
   "id": "d9221509",
   "metadata": {},
   "outputs": [
    {
     "name": "stdout",
     "output_type": "stream",
     "text": [
      "<class 'int'>\n",
      "<class 'int'>\n",
      "<class 'int'>\n"
     ]
    }
   ],
   "source": [
    "# Integers\n",
    "x = 10\n",
    "y = 253689478956\n",
    "z = -45623\n",
    "print(type(x))\n",
    "print(type(y))\n",
    "print(type(z))"
   ]
  },
  {
   "cell_type": "code",
   "execution_count": 29,
   "id": "35c912e5",
   "metadata": {},
   "outputs": [
    {
     "name": "stdout",
     "output_type": "stream",
     "text": [
      "<class 'float'>\n",
      "<class 'float'>\n",
      "<class 'float'>\n"
     ]
    }
   ],
   "source": [
    "# Float \n",
    "x = 10.0\n",
    "y = 12564522.555555\n",
    "z = -4523.0\n",
    "print(type(x))\n",
    "print(type(y))\n",
    "print(type(z))"
   ]
  },
  {
   "cell_type": "code",
   "execution_count": 30,
   "id": "a44d38bd",
   "metadata": {},
   "outputs": [
    {
     "name": "stdout",
     "output_type": "stream",
     "text": [
      "<class 'float'>\n",
      "<class 'float'>\n",
      "<class 'float'>\n"
     ]
    }
   ],
   "source": [
    "# Scientific float numbers\n",
    "x = 52e4\n",
    "y = 45454e6\n",
    "z = -564.85e2\n",
    "print(type(x))\n",
    "print(type(y))\n",
    "print(type(z))"
   ]
  },
  {
   "cell_type": "code",
   "execution_count": 32,
   "id": "dfe141eb",
   "metadata": {},
   "outputs": [
    {
     "name": "stdout",
     "output_type": "stream",
     "text": [
      "<class 'complex'>\n",
      "<class 'complex'>\n",
      "<class 'complex'>\n"
     ]
    }
   ],
   "source": [
    "# Complex numbers\n",
    "x = 3+8j\n",
    "y = 10j\n",
    "z = -10j\n",
    "print(type(x))\n",
    "print(type(y))\n",
    "print(type(z))"
   ]
  },
  {
   "cell_type": "markdown",
   "id": "9aac314d",
   "metadata": {},
   "source": [
    "### Type conversion"
   ]
  },
  {
   "cell_type": "code",
   "execution_count": 34,
   "id": "09eef34f",
   "metadata": {},
   "outputs": [
    {
     "name": "stdout",
     "output_type": "stream",
     "text": [
      "<class 'int'>\n",
      "<class 'float'>\n",
      "<class 'complex'>\n",
      "<class 'float'>\n",
      "<class 'int'>\n",
      "<class 'complex'>\n"
     ]
    }
   ],
   "source": [
    "# Complex numbers cannot be converted to another data type\n",
    "x = 10\n",
    "y = 20.2\n",
    "z = 5j\n",
    "\n",
    "a = float(x)\n",
    "b = int(y)\n",
    "c = complex(x)\n",
    "print(type(x))\n",
    "print(type(y))\n",
    "print(type(z))\n",
    "print(type(a))\n",
    "print(type(b))\n",
    "print(type(c))"
   ]
  },
  {
   "cell_type": "markdown",
   "id": "62f1978d",
   "metadata": {},
   "source": [
    "### Random numbers\n",
    "Python do not have a random() function, but can import the build-in module called random\n"
   ]
  },
  {
   "cell_type": "code",
   "execution_count": 37,
   "id": "7bc789a5",
   "metadata": {},
   "outputs": [
    {
     "name": "stdout",
     "output_type": "stream",
     "text": [
      "7\n"
     ]
    }
   ],
   "source": [
    "import random\n",
    "print(random.randrange(1,10))"
   ]
  },
  {
   "cell_type": "markdown",
   "id": "c6669dde",
   "metadata": {},
   "source": [
    "## Python Casting\n",
    "Casting in python is therefore done using constructor functions:\n",
    "\n",
    "int() - constructs an integer number from an integer literal, a float literal (by removing all decimals), or a string literal (providing the string represents a whole number)\n",
    "float() - constructs a float number from an integer literal, a float literal or a string literal (providing the string represents a float or an integer)\n",
    "str() - constructs a string from a wide variety of data types, including strings, integer literals and float literals"
   ]
  },
  {
   "cell_type": "code",
   "execution_count": 38,
   "id": "4e234280",
   "metadata": {},
   "outputs": [
    {
     "name": "stdout",
     "output_type": "stream",
     "text": [
      "1\n",
      "2\n",
      "3\n",
      "<class 'int'>\n",
      "<class 'int'>\n",
      "<class 'int'>\n"
     ]
    }
   ],
   "source": [
    "# Integer\n",
    "x = int(1)\n",
    "y = int(2.8)\n",
    "z = int(\"3\")\n",
    "print(x)\n",
    "print(y)\n",
    "print(z)\n",
    "print(type(x))\n",
    "print(type(y))\n",
    "print(type(z))"
   ]
  },
  {
   "cell_type": "code",
   "execution_count": 39,
   "id": "8a0c3f44",
   "metadata": {},
   "outputs": [
    {
     "name": "stdout",
     "output_type": "stream",
     "text": [
      "1.0\n",
      "2.8\n",
      "3.0\n",
      "4.6\n",
      "<class 'float'>\n",
      "<class 'float'>\n",
      "<class 'float'>\n",
      "<class 'float'>\n"
     ]
    }
   ],
   "source": [
    "# Float\n",
    "x = float(1)\n",
    "y = float(2.8)\n",
    "z = float(\"3\")\n",
    "w = float(\"4.6\")\n",
    "print(x)\n",
    "print(y)\n",
    "print(z)\n",
    "print(w)\n",
    "print(type(x))\n",
    "print(type(y))\n",
    "print(type(z))\n",
    "print(type(w))"
   ]
  },
  {
   "cell_type": "code",
   "execution_count": 40,
   "id": "b7ffb8c6",
   "metadata": {},
   "outputs": [
    {
     "name": "stdout",
     "output_type": "stream",
     "text": [
      "Anne7\n",
      "5\n",
      "5.0\n",
      "<class 'str'>\n",
      "<class 'str'>\n",
      "<class 'str'>\n"
     ]
    }
   ],
   "source": [
    "# Strings\n",
    "x = str(\"Anne7\")\n",
    "y = str(5)\n",
    "z = str(5.0)\n",
    "print(x)\n",
    "print(y)\n",
    "print(z)\n",
    "print(type(x))\n",
    "print(type(y))\n",
    "print(type(z))"
   ]
  },
  {
   "cell_type": "markdown",
   "id": "646dca0b",
   "metadata": {},
   "source": [
    "## Boolean"
   ]
  },
  {
   "cell_type": "code",
   "execution_count": 41,
   "id": "15bbcec6",
   "metadata": {},
   "outputs": [
    {
     "name": "stdout",
     "output_type": "stream",
     "text": [
      "True\n",
      "True\n",
      "False\n"
     ]
    }
   ],
   "source": [
    "print(10 > 5)\n",
    "print(10 == 10)\n",
    "print(10 > 20)"
   ]
  },
  {
   "cell_type": "code",
   "execution_count": 44,
   "id": "845e5b73",
   "metadata": {},
   "outputs": [
    {
     "name": "stdout",
     "output_type": "stream",
     "text": [
      "True\n",
      "False\n",
      "True\n",
      "True\n"
     ]
    }
   ],
   "source": [
    "print(bool(\"Data\"))\n",
    "print(bool(0))\n",
    "\n",
    "x = \"Data\"\n",
    "y = 10\n",
    "\n",
    "print(bool(x))\n",
    "print(bool(y))"
   ]
  },
  {
   "cell_type": "code",
   "execution_count": 45,
   "id": "20edbb54",
   "metadata": {},
   "outputs": [
    {
     "name": "stdout",
     "output_type": "stream",
     "text": [
      "False\n",
      "False\n",
      "False\n",
      "False\n",
      "False\n",
      "False\n",
      "False\n"
     ]
    }
   ],
   "source": [
    "print(bool(False))\n",
    "print(bool(None))\n",
    "print(bool(0))\n",
    "print(bool(\"\"))\n",
    "print(bool(()))\n",
    "print(bool([]))\n",
    "print(bool({}))"
   ]
  },
  {
   "cell_type": "code",
   "execution_count": 46,
   "id": "cccfa750",
   "metadata": {},
   "outputs": [
    {
     "name": "stdout",
     "output_type": "stream",
     "text": [
      "True\n"
     ]
    }
   ],
   "source": [
    "def myFunction() :\n",
    "    return True\n",
    "\n",
    "print(myFunction())"
   ]
  },
  {
   "cell_type": "code",
   "execution_count": 47,
   "id": "bb454061",
   "metadata": {},
   "outputs": [
    {
     "name": "stdout",
     "output_type": "stream",
     "text": [
      "YES!\n"
     ]
    }
   ],
   "source": [
    "def myFunction() :\n",
    "    return True\n",
    "\n",
    "if myFunction():\n",
    "    print(\"YES!\")\n",
    "else:\n",
    "    print(\"NO!\")"
   ]
  },
  {
   "cell_type": "code",
   "execution_count": 50,
   "id": "564bbca4",
   "metadata": {},
   "outputs": [
    {
     "name": "stdout",
     "output_type": "stream",
     "text": [
      "True\n",
      "False\n"
     ]
    }
   ],
   "source": [
    "# Python also has many built-in functions that return a boolean value, \n",
    "# like the isinstance() function, which can be used to determine if an object is of a certain data type\n",
    "\n",
    "x = 400\n",
    "print(isinstance(x,int))\n",
    "print(isinstance(x, float))"
   ]
  },
  {
   "cell_type": "markdown",
   "id": "254de834",
   "metadata": {},
   "source": [
    "## Python Operators\n",
    "Python divides the operators in the following groups:\n",
    "\n",
    "Arithmetic operators\n",
    "Assignment operators\n",
    "Comparison operators\n",
    "Logical operators\n",
    "Identity operators\n",
    "Membership operators\n",
    "Bitwise operators"
   ]
  },
  {
   "cell_type": "code",
   "execution_count": null,
   "id": "2929bc31",
   "metadata": {},
   "outputs": [],
   "source": [
    "# Arithmatic operators\n",
    "Operator\tName\tExample\tTry it\n",
    "+\tAddition\tx + y\t\n",
    "-\tSubtraction\tx - y\t\n",
    "*\tMultiplication\tx * y\t\n",
    "/\tDivision\tx / y\t\n",
    "%\tModulus\tx % y\t\n",
    "**\tExponentiation\tx ** y\t\n",
    "//\tFloor division\tx // y"
   ]
  },
  {
   "cell_type": "code",
   "execution_count": 51,
   "id": "8e9c5341",
   "metadata": {},
   "outputs": [
    {
     "name": "stdout",
     "output_type": "stream",
     "text": [
      "15\n",
      "5\n",
      "50\n",
      "2.0\n",
      "0\n",
      "100000\n",
      "2\n"
     ]
    }
   ],
   "source": [
    "print(10 +5)\n",
    "print(10-5)\n",
    "print(10*5)\n",
    "print(10/5)\n",
    "print(10%5)\n",
    "print(10**5)\n",
    "print(10//5)"
   ]
  },
  {
   "cell_type": "code",
   "execution_count": null,
   "id": "1b2a1626",
   "metadata": {},
   "outputs": [],
   "source": [
    "# Assignment operators\n",
    "Operator\tExample\tSame As\tTry it\n",
    "=\tx = 5\tx = 5\t\n",
    "+=\tx += 3\tx = x + 3\t\n",
    "-=\tx -= 3\tx = x - 3\t\n",
    "*=\tx *= 3\tx = x * 3\t\n",
    "/=\tx /= 3\tx = x / 3\t\n",
    "%=\tx %= 3\tx = x % 3\t\n",
    "//=\tx //= 3\tx = x // 3\t\n",
    "**=\tx **= 3\tx = x ** 3\t\n",
    "&=\tx &= 3\tx = x & 3\t\n",
    "|=\tx |= 3\tx = x | 3\t\n",
    "^=\tx ^= 3\tx = x ^ 3\t\n",
    ">>=\tx >>= 3\tx = x >> 3\t\n",
    "<<=\tx <<= 3\tx = x << 3"
   ]
  },
  {
   "cell_type": "code",
   "execution_count": 68,
   "id": "08156ed8",
   "metadata": {},
   "outputs": [
    {
     "name": "stdout",
     "output_type": "stream",
     "text": [
      "13\n",
      "8\n",
      "40\n",
      "8.0\n",
      "3.0\n",
      "0.0\n",
      "0.0\n",
      "0\n",
      "10\n",
      "10\n",
      "10\n",
      "10\n"
     ]
    }
   ],
   "source": [
    "x = 10\n",
    "y = 5\n",
    "x += 3\n",
    "print(x)\n",
    "x -= y\n",
    "print(x)\n",
    "x *= y\n",
    "print(x)\n",
    "x /= y\n",
    "print(x)\n",
    "x %= y\n",
    "print(x)\n",
    "x //= y\n",
    "print(x)\n",
    "x**=y\n",
    "print(x)\n",
    "x = 10\n",
    "x &= y\n",
    "print(x)\n",
    "x = 10\n",
    "(x!=y)\n",
    "print(x)\n",
    "#(x ^= 2)\n",
    "print(x)\n",
    "#(x >>= 2)\n",
    "print(x)\n",
    "#(x <<= 2)\n",
    "print(x)"
   ]
  },
  {
   "cell_type": "code",
   "execution_count": null,
   "id": "e62159da",
   "metadata": {},
   "outputs": [],
   "source": [
    "# Comparison operators \n",
    "Operator\tName\tExample\tTry it\n",
    "==\tEqual\tx == y\t\n",
    "!=\tNot equal\tx != y\t\n",
    ">\tGreater than\tx > y\t\n",
    "<\tLess than\tx < y\t\n",
    ">=\tGreater than or equal to\tx >= y\t\n",
    "<=\tLess than or equal to\tx <= y"
   ]
  },
  {
   "cell_type": "code",
   "execution_count": null,
   "id": "ae17eae0",
   "metadata": {},
   "outputs": [],
   "source": [
    "# Logical operators\n",
    "Operator\tDescription\n",
    "and \tReturns True if both statements are true\tx < 5 and  x < 10\n",
    "or\tReturns True if one of the statements is true\tx < 5 or x < 4\n",
    "not\tReverse the result, returns False if the result is true\tnot(x < 5 and x < 10)"
   ]
  },
  {
   "cell_type": "code",
   "execution_count": null,
   "id": "6a65de0f",
   "metadata": {},
   "outputs": [],
   "source": [
    "# Identity Operators\n",
    "# Identity operators are used to compare the objects, not if they are equal, but if they are actually the same object, with the same memory location\n",
    "Operator\tDescription\n",
    "is \tReturns True if both variables are the same object\tx is y\n",
    "is not\tReturns True if both variables are not the same object\tx is not y"
   ]
  },
  {
   "cell_type": "code",
   "execution_count": null,
   "id": "3aee02d2",
   "metadata": {},
   "outputs": [],
   "source": [
    "# Python Membership Operators\n",
    "# Membership operators are used to test if a sequence is presented in an object:\n",
    "\n",
    "Operator\tDescription\n",
    "in \tReturns True if a sequence with the specified value is present in the object\tx in y\n",
    "not in\tReturns True if a sequence with the specified value is not present in the object\tx not in y"
   ]
  },
  {
   "cell_type": "code",
   "execution_count": null,
   "id": "6efba122",
   "metadata": {},
   "outputs": [],
   "source": [
    "# Python Bitwise Operators\n",
    "# Bitwise operators are used to compare (binary) numbers:\n",
    "\n",
    "Operator\tName\tDescription\n",
    "& \tAND\tSets each bit to 1 if both bits are 1\tx & y\n",
    "|\tOR\tSets each bit to 1 if one of two bits is 1\tx | y\n",
    "^\tXOR\tSets each bit to 1 if only one of two bits is 1\tx ^ y\n",
    "~\tNOT\tInverts all the bits\t~x\n",
    "<<\tZero fill left shift\tShift left by pushing zeros in from the right and let the leftmost bits fall off\tx << 2\n",
    ">>\tSigned right shift\tShift right by pushing copies of the leftmost bit in from the left, and let the rightmost bits fall off\tx >> 2"
   ]
  },
  {
   "cell_type": "code",
   "execution_count": null,
   "id": "b2acd3e9",
   "metadata": {},
   "outputs": [],
   "source": [
    "# Operator Precedence\n",
    "Operator\tDescription\n",
    "()\tParentheses\n",
    "**\tExponentiation\n",
    "+x  -x  ~x\tUnary plus, unary minus, and bitwise NOT\n",
    "*  /  //  %\tMultiplication, division, floor division, and modulus\n",
    "+  -\tAddition and subtraction\n",
    "<<  >>\tBitwise left and right shifts\n",
    "&\tBitwise AND\n",
    "^\tBitwise XOR\n",
    "|\tBitwise OR\n",
    "==  !=  >  >=  <  <=  is  is not  in  not in \tComparisons, identity, and membership operators\n",
    "not\tLogical NOT\n",
    "and\tAND\n",
    "or\tOR"
   ]
  },
  {
   "cell_type": "code",
   "execution_count": null,
   "id": "145fa73d",
   "metadata": {},
   "outputs": [],
   "source": []
  },
  {
   "cell_type": "code",
   "execution_count": null,
   "id": "bd4b2052",
   "metadata": {},
   "outputs": [],
   "source": []
  },
  {
   "cell_type": "code",
   "execution_count": null,
   "id": "288db947",
   "metadata": {},
   "outputs": [],
   "source": []
  }
 ],
 "metadata": {
  "kernelspec": {
   "display_name": "Python 3",
   "language": "python",
   "name": "python3"
  },
  "language_info": {
   "codemirror_mode": {
    "name": "ipython",
    "version": 3
   },
   "file_extension": ".py",
   "mimetype": "text/x-python",
   "name": "python",
   "nbconvert_exporter": "python",
   "pygments_lexer": "ipython3",
   "version": "3.8.2"
  }
 },
 "nbformat": 4,
 "nbformat_minor": 5
}
