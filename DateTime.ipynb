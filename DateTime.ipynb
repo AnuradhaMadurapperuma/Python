{
 "cells": [
  {
   "cell_type": "markdown",
   "id": "dc4bc965",
   "metadata": {},
   "source": [
    "## Python Dates\n",
    "A date in Python is not a data type of its own, but we can import a module named datetime to work with dates as date objects."
   ]
  },
  {
   "cell_type": "code",
   "execution_count": 2,
   "id": "d74e56e9",
   "metadata": {},
   "outputs": [
    {
     "name": "stdout",
     "output_type": "stream",
     "text": [
      "2023-07-22 21:09:52.173550\n"
     ]
    }
   ],
   "source": [
    "# Import the datetime module and display the current date\n",
    "import datetime\n",
    "x = datetime.datetime.now()\n",
    "print(x)"
   ]
  },
  {
   "cell_type": "code",
   "execution_count": 3,
   "id": "f0093690",
   "metadata": {},
   "outputs": [
    {
     "name": "stdout",
     "output_type": "stream",
     "text": [
      "2023\n",
      "Saturday\n"
     ]
    }
   ],
   "source": [
    "# The datetime module has many methods to return information about the date object.\n",
    "\n",
    "# Here are a few examples, you will learn more about them later in this chapter\n",
    "\n",
    "import datetime\n",
    "x = datetime.datetime.now()\n",
    "print(x.year)\n",
    "print(x.strftime(\"%A\"))"
   ]
  },
  {
   "cell_type": "code",
   "execution_count": 4,
   "id": "3d8586e9",
   "metadata": {},
   "outputs": [
    {
     "name": "stdout",
     "output_type": "stream",
     "text": [
      "2023-07-23 00:00:00\n"
     ]
    }
   ],
   "source": [
    "# Creating Date Objects\n",
    "# To create a date, we can use the datetime() class (constructor) of the datetime module.\n",
    "\n",
    "# The datetime() class requires three parameters to create a date: year, month, day\n",
    "\n",
    "import datetime\n",
    "x = datetime.datetime(2023,7,23)\n",
    "print(x)"
   ]
  },
  {
   "cell_type": "code",
   "execution_count": 5,
   "id": "2365155d",
   "metadata": {},
   "outputs": [
    {
     "name": "stdout",
     "output_type": "stream",
     "text": [
      "July\n"
     ]
    }
   ],
   "source": [
    "# The strftime() Method\n",
    "# The datetime object has a method for formatting date objects into readable strings.\n",
    "\n",
    "# The method is called strftime(), and takes one parameter, format, to specify the format of the returned string\n",
    "import datetime\n",
    "x = datetime.datetime(2023, 7,24)\n",
    "print(x.strftime(\"%B\"))"
   ]
  },
  {
   "cell_type": "code",
   "execution_count": null,
   "id": "ab0668a7",
   "metadata": {},
   "outputs": [],
   "source": [
    "Directive\tDescription\tExample\tTry it\n",
    "%a\tWeekday, short version\tWed\t\n",
    "%A\tWeekday, full version\tWednesday\t\n",
    "%w\tWeekday as a number 0-6, 0 is Sunday\t3\t\n",
    "%d\tDay of month 01-31\t31\t\n",
    "%b\tMonth name, short version\tDec\t\n",
    "%B\tMonth name, full version\tDecember\t\n",
    "%m\tMonth as a number 01-12\t12\t\n",
    "%y\tYear, short version, without century\t18\t\n",
    "%Y\tYear, full version\t2018\t\n",
    "%H\tHour 00-23\t17\t\n",
    "%I\tHour 00-12\t05\t\n",
    "%p\tAM/PM\tPM\t\n",
    "%M\tMinute 00-59\t41\t\n",
    "%S\tSecond 00-59\t08\t\n",
    "%f\tMicrosecond 000000-999999\t548513\t\n",
    "%z\tUTC offset\t+0100\t\n",
    "%Z\tTimezone\tCST\t\n",
    "%j\tDay number of year 001-366\t365\t\n",
    "%U\tWeek number of year, Sunday as the first day of week, 00-53\t52\t\n",
    "%W\tWeek number of year, Monday as the first day of week, 00-53\t52\t\n",
    "%c\tLocal version of date and time\tMon Dec 31 17:41:00 2018\t\n",
    "%C\tCentury\t20\t\n",
    "%x\tLocal version of date\t12/31/18\t\n",
    "%X\tLocal version of time\t17:41:00\t\n",
    "%%\tA % character\t%\t\n",
    "%G\tISO 8601 year\t2018\t\n",
    "%u\tISO 8601 weekday (1-7)\t1\t\n",
    "%V\tISO 8601 weeknumber (01-53)\t01"
   ]
  },
  {
   "cell_type": "code",
   "execution_count": null,
   "id": "99c3dd23",
   "metadata": {},
   "outputs": [],
   "source": []
  }
 ],
 "metadata": {
  "kernelspec": {
   "display_name": "Python 3",
   "language": "python",
   "name": "python3"
  },
  "language_info": {
   "codemirror_mode": {
    "name": "ipython",
    "version": 3
   },
   "file_extension": ".py",
   "mimetype": "text/x-python",
   "name": "python",
   "nbconvert_exporter": "python",
   "pygments_lexer": "ipython3",
   "version": "3.8.2"
  }
 },
 "nbformat": 4,
 "nbformat_minor": 5
}
