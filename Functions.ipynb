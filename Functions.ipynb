{
 "cells": [
  {
   "cell_type": "code",
   "execution_count": null,
   "id": "dcaf9bf2",
   "metadata": {},
   "outputs": [],
   "source": [
    "A function is a block of code which only runs when it is called.\n",
    "\n",
    "You can pass data, known as parameters, into a function.\n",
    "\n",
    "A function can return data as a result"
   ]
  },
  {
   "cell_type": "code",
   "execution_count": 1,
   "id": "c531f004",
   "metadata": {},
   "outputs": [
    {
     "name": "stdout",
     "output_type": "stream",
     "text": [
      "This is a function\n"
     ]
    }
   ],
   "source": [
    "# Creating a function\n",
    "def my_func():\n",
    "    print(\"This is a function\")\n",
    "\n",
    "# Calling a function\n",
    "my_func()"
   ]
  },
  {
   "cell_type": "code",
   "execution_count": 2,
   "id": "df459a57",
   "metadata": {},
   "outputs": [
    {
     "name": "stdout",
     "output_type": "stream",
     "text": [
      "Name : Anne\n",
      "Name : Joe\n"
     ]
    }
   ],
   "source": [
    "# Arguments\n",
    "def name_func(name):\n",
    "    print(\"Name : \" + name)\n",
    "\n",
    "name_func(\"Anne\")\n",
    "name_func(\"Joe\")"
   ]
  },
  {
   "cell_type": "code",
   "execution_count": null,
   "id": "9b25e071",
   "metadata": {},
   "outputs": [],
   "source": [
    "# Parameters or Arguments?\n",
    "# The terms parameter and argument can be used for the same thing: information that are passed into a function.\n",
    "\n",
    "# From a function's perspective:\n",
    "\n",
    "# A parameter is the variable listed inside the parentheses in the function definition.\n",
    "\n",
    "# An argument is the value that is sent to the function when it is called."
   ]
  },
  {
   "cell_type": "code",
   "execution_count": 3,
   "id": "41026d9e",
   "metadata": {},
   "outputs": [
    {
     "name": "stdout",
     "output_type": "stream",
     "text": [
      "Full name : Anne Swift\n",
      "Full name : Joe Tribbioni\n"
     ]
    }
   ],
   "source": [
    "def full_name(fname,lname):\n",
    "    print(\"Full name : \" + fname + \" \" + lname)\n",
    "    \n",
    "full_name(\"Anne\",\"Swift\")\n",
    "full_name(\"Joe\",\"Tribbioni\")"
   ]
  },
  {
   "cell_type": "code",
   "execution_count": 4,
   "id": "9200a25a",
   "metadata": {},
   "outputs": [
    {
     "name": "stdout",
     "output_type": "stream",
     "text": [
      "Cities : Wellington\n"
     ]
    }
   ],
   "source": [
    "# Arbitrary Arguments, *args\n",
    "# If you do not know how many arguments that will be passed into your function, add a * before the parameter name in the function definition.\n",
    "\n",
    "# This way the function will receive a tuple of arguments, and can access the items accordingly:\n",
    "\n",
    "def cities_name(*cities):\n",
    "    print(\"Cities : \" + cities[2])\n",
    "    \n",
    "cities_name(\"Auckland\",\"Hamillton\",\"Wellington\")"
   ]
  },
  {
   "cell_type": "code",
   "execution_count": 5,
   "id": "7ba60782",
   "metadata": {},
   "outputs": [
    {
     "name": "stdout",
     "output_type": "stream",
     "text": [
      "I live in Hamilton\n"
     ]
    }
   ],
   "source": [
    "# Keyword Arguments\n",
    "# You can also send arguments with the key = value syntax.\n",
    "\n",
    "# This way the order of the arguments does not matter.\n",
    "\n",
    "def cities_live(city1, city2, city3):\n",
    "    print(\"I live in \" + city2)\n",
    "    \n",
    "cities_live(city1 = \"Auckland\",city2 =\"Hamilton\", city3 = \"Wellington\")    "
   ]
  },
  {
   "cell_type": "code",
   "execution_count": 7,
   "id": "c9ff1faf",
   "metadata": {},
   "outputs": [
    {
     "name": "stdout",
     "output_type": "stream",
     "text": [
      "My last name is Swift\n"
     ]
    }
   ],
   "source": [
    "# Arbitrary Keyword Arguments, **kwargs\n",
    "# If you do not know how many keyword arguments that will be passed into your function, add two asterisk: ** before the parameter name in the function definition.\n",
    "\n",
    "# This way the function will receive a dictionary of arguments, and can access the items accordingly\n",
    "\n",
    "\n",
    "def name_func(**name):\n",
    "    print(\"My last name is \" + name[\"lname\"])\n",
    "\n",
    "name_func(fname = \"Anne\" ,lname = \"Swift\")\n"
   ]
  },
  {
   "cell_type": "code",
   "execution_count": 8,
   "id": "4e5fd20c",
   "metadata": {},
   "outputs": [
    {
     "name": "stdout",
     "output_type": "stream",
     "text": [
      "I live in Hamilton\n",
      "I live in Auckland\n"
     ]
    }
   ],
   "source": [
    "# Default Parameter Value\n",
    "# The following example shows how to use a default parameter value.\n",
    "\n",
    "# If we call the function without argument, it uses the default value\n",
    "def city_live(city=\"Hamilton\"):\n",
    "    print(\"I live in \"+ city)\n",
    "\n",
    "city_live()\n",
    "city_live(\"Auckland\")"
   ]
  },
  {
   "cell_type": "code",
   "execution_count": 9,
   "id": "c72632c9",
   "metadata": {},
   "outputs": [
    {
     "name": "stdout",
     "output_type": "stream",
     "text": [
      "I live in Auckland\n",
      "I live in Hamilton\n",
      "I live in Wellington\n"
     ]
    }
   ],
   "source": [
    "# Passing a List as an Argument\n",
    "# You can send any data types of argument to a function (string, number, list, dictionary etc.), and it will be treated as the same data type inside the function.\n",
    "\n",
    "# E.g. if you send a List as an argument, it will still be a List when it reaches the function\n",
    "\n",
    "def city_live(cities):\n",
    "    for i in cities:\n",
    "        print(\"I live in \" + i)\n",
    "        \n",
    "cityList = [\"Auckland\", \"Hamilton\",\"Wellington\"]\n",
    "\n",
    "city_live(cityList)"
   ]
  },
  {
   "cell_type": "code",
   "execution_count": 11,
   "id": "44564746",
   "metadata": {},
   "outputs": [
    {
     "data": {
      "text/plain": [
       "50"
      ]
     },
     "execution_count": 11,
     "metadata": {},
     "output_type": "execute_result"
    }
   ],
   "source": [
    "# Return Values\n",
    "# To let a function return a value, use the return statement:\n",
    "def ret_func(x):\n",
    "    return x*5\n",
    "ret_func(10)\n",
    "\n"
   ]
  },
  {
   "cell_type": "code",
   "execution_count": null,
   "id": "f18baa68",
   "metadata": {},
   "outputs": [],
   "source": [
    "# The pass Statement\n",
    "# function definitions cannot be empty, but if you for some reason have a function definition with no content, put in the pass statement to avoid getting an error.\n",
    "\n",
    "def func():\n",
    "    pass"
   ]
  },
  {
   "cell_type": "code",
   "execution_count": null,
   "id": "80e415d5",
   "metadata": {},
   "outputs": [],
   "source": [
    "# Recursion"
   ]
  },
  {
   "cell_type": "code",
   "execution_count": 12,
   "id": "16014f40",
   "metadata": {},
   "outputs": [
    {
     "name": "stdout",
     "output_type": "stream",
     "text": [
      "\n",
      "\n",
      "Recursion Example Results\n",
      "1\n",
      "3\n",
      "6\n",
      "10\n",
      "15\n",
      "21\n"
     ]
    },
    {
     "data": {
      "text/plain": [
       "21"
      ]
     },
     "execution_count": 12,
     "metadata": {},
     "output_type": "execute_result"
    }
   ],
   "source": [
    "def tri_recursion(k):\n",
    "    if(k > 0):\n",
    "        result = k + tri_recursion(k - 1)\n",
    "        print(result)\n",
    "    else:\n",
    "        result = 0\n",
    "    return result\n",
    "\n",
    "print(\"\\n\\nRecursion Example Results\")\n",
    "tri_recursion(6)"
   ]
  },
  {
   "cell_type": "markdown",
   "id": "3e00c620",
   "metadata": {},
   "source": [
    "## Python Lambda\n",
    "A lambda function is a small anonymous function.\n",
    "\n",
    "A lambda function can take any number of arguments, but can only have one expression.\n",
    "\n",
    "Syntax: lambda arguments : expression"
   ]
  },
  {
   "cell_type": "code",
   "execution_count": 13,
   "id": "4332e709",
   "metadata": {},
   "outputs": [
    {
     "name": "stdout",
     "output_type": "stream",
     "text": [
      "20\n"
     ]
    }
   ],
   "source": [
    "x = lambda a : a + 10\n",
    "print(x(10))"
   ]
  },
  {
   "cell_type": "code",
   "execution_count": 14,
   "id": "92ebefc7",
   "metadata": {},
   "outputs": [
    {
     "name": "stdout",
     "output_type": "stream",
     "text": [
      "200\n"
     ]
    }
   ],
   "source": [
    "# Lambda functions can take any number of arguments\n",
    "x = lambda a, b : a * b\n",
    "print(x(10, 20))"
   ]
  },
  {
   "cell_type": "code",
   "execution_count": 15,
   "id": "9e1800b9",
   "metadata": {},
   "outputs": [
    {
     "name": "stdout",
     "output_type": "stream",
     "text": [
      "13\n"
     ]
    }
   ],
   "source": [
    "x = lambda a, b, c : a + b + c\n",
    "print(x(5, 6, 2))"
   ]
  },
  {
   "cell_type": "code",
   "execution_count": 18,
   "id": "11f2b5c7",
   "metadata": {},
   "outputs": [
    {
     "name": "stdout",
     "output_type": "stream",
     "text": [
      "22\n"
     ]
    }
   ],
   "source": [
    "# Why Use Lambda Functions?\n",
    "# The power of lambda is better shown when you use them as an anonymous function inside another function.\n",
    "\n",
    "# Say you have a function definition that takes one argument, and that argument will be multiplied with an unknown number\n",
    "\n",
    "def myfunc(n):\n",
    "    return lambda a : a * n\n",
    "\n",
    "mydoubler = myfunc(2)\n",
    "\n",
    "print(mydoubler(11))"
   ]
  },
  {
   "cell_type": "code",
   "execution_count": 19,
   "id": "940ddf36",
   "metadata": {},
   "outputs": [
    {
     "name": "stdout",
     "output_type": "stream",
     "text": [
      "33\n"
     ]
    }
   ],
   "source": [
    "def myfunc(n):\n",
    "    return lambda a : a * n\n",
    "\n",
    "mytripler = myfunc(3)\n",
    "\n",
    "print(mytripler(11))"
   ]
  },
  {
   "cell_type": "code",
   "execution_count": 20,
   "id": "15a276ef",
   "metadata": {},
   "outputs": [
    {
     "name": "stdout",
     "output_type": "stream",
     "text": [
      "22\n",
      "33\n"
     ]
    }
   ],
   "source": [
    "def myfunc(n):\n",
    "  return lambda a : a * n\n",
    "\n",
    "mydoubler = myfunc(2)\n",
    "mytripler = myfunc(3)\n",
    "\n",
    "print(mydoubler(11))\n",
    "print(mytripler(11))"
   ]
  }
 ],
 "metadata": {
  "kernelspec": {
   "display_name": "Python 3",
   "language": "python",
   "name": "python3"
  },
  "language_info": {
   "codemirror_mode": {
    "name": "ipython",
    "version": 3
   },
   "file_extension": ".py",
   "mimetype": "text/x-python",
   "name": "python",
   "nbconvert_exporter": "python",
   "pygments_lexer": "ipython3",
   "version": "3.8.2"
  }
 },
 "nbformat": 4,
 "nbformat_minor": 5
}
