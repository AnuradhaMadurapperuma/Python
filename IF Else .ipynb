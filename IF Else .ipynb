{
 "cells": [
  {
   "cell_type": "markdown",
   "id": "96bc64b7",
   "metadata": {},
   "source": [
    "## If - Else"
   ]
  },
  {
   "cell_type": "code",
   "execution_count": null,
   "id": "c233f252",
   "metadata": {},
   "outputs": [],
   "source": [
    "Python Conditions and If statements\n",
    "Python supports the usual logical conditions from mathematics:\n",
    "\n",
    "Equals: a == b\n",
    "Not Equals: a != b\n",
    "Less than: a < b\n",
    "Less than or equal to: a <= b\n",
    "Greater than: a > b\n",
    "Greater than or equal to: a >= b\n",
    "These conditions can be used in several ways, most commonly in \"if statements\" and loops.\n",
    "\n"
   ]
  },
  {
   "cell_type": "code",
   "execution_count": 3,
   "id": "decfc4f7",
   "metadata": {},
   "outputs": [
    {
     "name": "stdout",
     "output_type": "stream",
     "text": [
      "y is grater than x \n"
     ]
    }
   ],
   "source": [
    "# An \"if statement\" is written by using the if keyword.\n",
    "x = 100\n",
    "y = 200\n",
    "if x < y :\n",
    "    print(\"y is grater than x \")"
   ]
  },
  {
   "cell_type": "code",
   "execution_count": 8,
   "id": "65a8db04",
   "metadata": {},
   "outputs": [
    {
     "name": "stdout",
     "output_type": "stream",
     "text": [
      "x is grater than y\n"
     ]
    }
   ],
   "source": [
    "# Elif\n",
    "# The elif keyword is Python's way of saying \"if the previous conditions were not true, then try this condition\".\n",
    "\n",
    "x = 200\n",
    "y = 100\n",
    "if x < y :\n",
    "    print(\"y is grater than x\")\n",
    "elif x > y:\n",
    "    print(\"x is grater than y\")"
   ]
  },
  {
   "cell_type": "code",
   "execution_count": 7,
   "id": "f47984a7",
   "metadata": {},
   "outputs": [
    {
     "name": "stdout",
     "output_type": "stream",
     "text": [
      "x and y are equal\n"
     ]
    }
   ],
   "source": [
    "# else\n",
    "x = 100\n",
    "y = 100\n",
    "if x < y :\n",
    "    print(\"y is grater than x\")\n",
    "elif x > y:\n",
    "    print(\"x is grater than y\")\n",
    "else:\n",
    "    print(\"x and y are equal\")"
   ]
  },
  {
   "cell_type": "code",
   "execution_count": 9,
   "id": "613ec470",
   "metadata": {},
   "outputs": [
    {
     "name": "stdout",
     "output_type": "stream",
     "text": [
      "y is greater than x\n"
     ]
    }
   ],
   "source": [
    "# Short Hand If\n",
    "# If you have only one statement to execute, you can put it on the same line as the if statement.\n",
    "x = 100\n",
    "y = 200\n",
    "if y > x : print(\"y is greater than x\")"
   ]
  },
  {
   "cell_type": "code",
   "execution_count": 10,
   "id": "482b0f0b",
   "metadata": {},
   "outputs": [
    {
     "name": "stdout",
     "output_type": "stream",
     "text": [
      "y is greater than x\n"
     ]
    }
   ],
   "source": [
    "# Short Hand If ... Else\n",
    "# If you have only one statement to execute, one for if, and one for else, you can put it all on the same line:\n",
    "x = 100\n",
    "y = 200\n",
    "print(\"x is greater than y\") if x > y else print(\"y is greater than x\") "
   ]
  },
  {
   "cell_type": "code",
   "execution_count": 11,
   "id": "ab1903b6",
   "metadata": {},
   "outputs": [
    {
     "name": "stdout",
     "output_type": "stream",
     "text": [
      "Y\n"
     ]
    }
   ],
   "source": [
    "# This technique is known as Ternary Operators, or Conditional Expressions.\n",
    "\n",
    "# You can also have multiple else statements on the same line\n",
    "\n",
    "x = 100\n",
    "y = 200\n",
    "print(\"X\") if x > y else print(\"=\") if x == y else print(\"Y\")"
   ]
  },
  {
   "cell_type": "code",
   "execution_count": 12,
   "id": "4c3e2381",
   "metadata": {},
   "outputs": [
    {
     "name": "stdout",
     "output_type": "stream",
     "text": [
      "Z is the highest\n"
     ]
    }
   ],
   "source": [
    "# And\n",
    "# The and keyword is a logical operator, and is used to combine conditional statements:\n",
    "\n",
    "x = 100\n",
    "y = 200\n",
    "z = 300\n",
    "if x < y and y < z:\n",
    "    print(\"Z is the highest\")\n"
   ]
  },
  {
   "cell_type": "code",
   "execution_count": 13,
   "id": "58d5be94",
   "metadata": {},
   "outputs": [
    {
     "name": "stdout",
     "output_type": "stream",
     "text": [
      "Y is the highest\n"
     ]
    }
   ],
   "source": [
    "# Or\n",
    "# The or keyword is a logical operator, and is used to combine conditional statements\n",
    "\n",
    "x = 100\n",
    "y = 200\n",
    "z = 300\n",
    "if x < y or y > z:\n",
    "    print(\"Y is the highest\")\n",
    "elif x < y or y < z:\n",
    "    print(\"Y is the second highest\")"
   ]
  },
  {
   "cell_type": "code",
   "execution_count": 14,
   "id": "3e42ed72",
   "metadata": {},
   "outputs": [
    {
     "name": "stdout",
     "output_type": "stream",
     "text": [
      "x is not greater than y\n"
     ]
    }
   ],
   "source": [
    "# Not\n",
    "# The not keyword is a logical operator, and is used to reverse the result of the conditional statement:\n",
    "x = 100\n",
    "y = 200\n",
    "if not x > y:\n",
    "    print(\"x is not greater than y\")\n"
   ]
  },
  {
   "cell_type": "code",
   "execution_count": 16,
   "id": "3ceceb87",
   "metadata": {},
   "outputs": [
    {
     "name": "stdout",
     "output_type": "stream",
     "text": [
      "x is greater than 200\n",
      "x is in between 400 and 200\n"
     ]
    }
   ],
   "source": [
    "# Nested If\n",
    "# You can have if statements inside if statements, this is called nested if statements\n",
    "x = 300\n",
    "if x > 200:\n",
    "    print(\"x is greater than 200\")\n",
    "    if x > 400:\n",
    "        print(\"x is greater than 400\")\n",
    "    else:\n",
    "        print(\"x is in between 400 and 200\")"
   ]
  },
  {
   "cell_type": "code",
   "execution_count": 19,
   "id": "28eea9d7",
   "metadata": {},
   "outputs": [
    {
     "name": "stdout",
     "output_type": "stream",
     "text": [
      "x is greater than y\n"
     ]
    }
   ],
   "source": [
    "# The pass Statement\n",
    "# if statements cannot be empty, but if you for some reason have an if statement with no content, put in the pass statement to avoid getting an error.\n",
    "#x = 100\n",
    "x = 300\n",
    "y = 200\n",
    "\n",
    "if x < y:\n",
    "    pass\n",
    "else:\n",
    "    print(\"x is greater than y\")"
   ]
  }
 ],
 "metadata": {
  "kernelspec": {
   "display_name": "Python 3",
   "language": "python",
   "name": "python3"
  },
  "language_info": {
   "codemirror_mode": {
    "name": "ipython",
    "version": 3
   },
   "file_extension": ".py",
   "mimetype": "text/x-python",
   "name": "python",
   "nbconvert_exporter": "python",
   "pygments_lexer": "ipython3",
   "version": "3.8.2"
  }
 },
 "nbformat": 4,
 "nbformat_minor": 5
}
