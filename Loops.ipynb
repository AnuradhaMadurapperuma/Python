{
 "cells": [
  {
   "cell_type": "code",
   "execution_count": null,
   "id": "4d5c8f27",
   "metadata": {},
   "outputs": [],
   "source": [
    "Python has two primitive loop commands:\n",
    "\n",
    "while loops\n",
    "for loops"
   ]
  },
  {
   "cell_type": "markdown",
   "id": "cb653c7f",
   "metadata": {},
   "source": [
    "## While Loop"
   ]
  },
  {
   "cell_type": "code",
   "execution_count": 2,
   "id": "4b214a75",
   "metadata": {},
   "outputs": [
    {
     "name": "stdout",
     "output_type": "stream",
     "text": [
      "1\n",
      "2\n",
      "3\n",
      "4\n",
      "5\n",
      "6\n",
      "7\n",
      "8\n",
      "9\n",
      "10\n"
     ]
    }
   ],
   "source": [
    "i = 1\n",
    "while i < 11:\n",
    "    print(i)\n",
    "    i +=1"
   ]
  },
  {
   "cell_type": "code",
   "execution_count": 3,
   "id": "9743e277",
   "metadata": {},
   "outputs": [
    {
     "name": "stdout",
     "output_type": "stream",
     "text": [
      "1\n",
      "2\n",
      "3\n",
      "4\n",
      "5\n"
     ]
    }
   ],
   "source": [
    "# The break Statement\n",
    "# With the break statement we can stop the loop even if the while condition is true\n",
    "i = 1\n",
    "while i < 11:\n",
    "    \n",
    "    print(i)\n",
    "    if i == 5:\n",
    "        break\n",
    "    i +=1    "
   ]
  },
  {
   "cell_type": "code",
   "execution_count": 2,
   "id": "c2de715b",
   "metadata": {},
   "outputs": [
    {
     "name": "stdout",
     "output_type": "stream",
     "text": [
      "1\n",
      "2\n",
      "3\n",
      "4\n",
      "6\n",
      "7\n",
      "8\n",
      "9\n",
      "10\n",
      "11\n"
     ]
    }
   ],
   "source": [
    "# The continue Statement\n",
    "# With the continue statement we can stop the current iteration, and continue with the next\n",
    "i = 0\n",
    "while i < 11:\n",
    "    i +=1 \n",
    "    if i == 5:\n",
    "        continue\n",
    "    print(i)"
   ]
  },
  {
   "cell_type": "code",
   "execution_count": 3,
   "id": "408dcfaa",
   "metadata": {},
   "outputs": [
    {
     "name": "stdout",
     "output_type": "stream",
     "text": [
      "0\n",
      "1\n",
      "2\n",
      "3\n",
      "4\n",
      "5\n",
      "i is no longer less than 6\n"
     ]
    }
   ],
   "source": [
    "# The else Statement\n",
    "# With the else statement we can run a block of code once when the condition no longer is true\n",
    "\n",
    "i = 0\n",
    "while i < 6:\n",
    "    print(i)\n",
    "    i +=1\n",
    "else:\n",
    "    print(\"i is no longer less than 6\")\n",
    "\n"
   ]
  },
  {
   "cell_type": "markdown",
   "id": "e34b32e8",
   "metadata": {},
   "source": [
    "## For Loop"
   ]
  },
  {
   "cell_type": "code",
   "execution_count": 4,
   "id": "ac9a1551",
   "metadata": {},
   "outputs": [
    {
     "name": "stdout",
     "output_type": "stream",
     "text": [
      "Auckland\n",
      "Hamilton\n",
      "Wellington\n"
     ]
    }
   ],
   "source": [
    "cities = [\"Auckland\",\"Hamilton\",\"Wellington\"]\n",
    "for i in cities:\n",
    "    print(i)"
   ]
  },
  {
   "cell_type": "code",
   "execution_count": 5,
   "id": "f07c5ab3",
   "metadata": {},
   "outputs": [
    {
     "name": "stdout",
     "output_type": "stream",
     "text": [
      "A\n",
      "u\n",
      "c\n",
      "k\n",
      "l\n",
      "a\n",
      "n\n",
      "d\n"
     ]
    }
   ],
   "source": [
    "# Looping Through a String\n",
    "# Even strings are iterable objects, they contain a sequence of characters\n",
    "for i in \"Auckland\":\n",
    "    print(i)"
   ]
  },
  {
   "cell_type": "code",
   "execution_count": 6,
   "id": "3384ef76",
   "metadata": {},
   "outputs": [
    {
     "name": "stdout",
     "output_type": "stream",
     "text": [
      "Auckland\n",
      "Hamilton\n"
     ]
    }
   ],
   "source": [
    "# The break Statement\n",
    "# With the break statement we can stop the loop before it has looped through all the items\n",
    "cities = [\"Auckland\",\"Hamilton\",\"Wellington\"]\n",
    "for i in cities:\n",
    "    print(i)\n",
    "    if i == \"Hamilton\":\n",
    "        break\n",
    "    \n"
   ]
  },
  {
   "cell_type": "code",
   "execution_count": 7,
   "id": "1c3178ac",
   "metadata": {},
   "outputs": [
    {
     "name": "stdout",
     "output_type": "stream",
     "text": [
      "Auckland\n"
     ]
    }
   ],
   "source": [
    "cities = [\"Auckland\",\"Hamilton\",\"Wellington\"]\n",
    "for i in cities:\n",
    "    if i == \"Hamilton\":\n",
    "        break\n",
    "    print(i)\n"
   ]
  },
  {
   "cell_type": "code",
   "execution_count": 8,
   "id": "61542d08",
   "metadata": {},
   "outputs": [
    {
     "name": "stdout",
     "output_type": "stream",
     "text": [
      "Auckland\n",
      "Wellington\n"
     ]
    }
   ],
   "source": [
    "# The continue Statement\n",
    "# With the continue statement we can stop the current iteration of the loop, and continue with the next\n",
    "cities = [\"Auckland\",\"Hamilton\",\"Wellington\"]\n",
    "for i in cities:\n",
    "    if i == \"Hamilton\":\n",
    "        continue\n",
    "    print(i)"
   ]
  },
  {
   "cell_type": "code",
   "execution_count": 10,
   "id": "41185948",
   "metadata": {},
   "outputs": [
    {
     "name": "stdout",
     "output_type": "stream",
     "text": [
      "0\n",
      "1\n",
      "2\n",
      "3\n",
      "4\n",
      "5\n",
      "6\n",
      "7\n",
      "8\n",
      "9\n"
     ]
    }
   ],
   "source": [
    "# The range() Function\n",
    "# To loop through a set of code a specified number of times, we can use the range() function,\n",
    "# The range() function returns a sequence of numbers, starting from 0 by default, and increments by 1 (by default), and ends at a specified number.\n",
    "\n",
    "for i in range(10):\n",
    "    print(i)\n"
   ]
  },
  {
   "cell_type": "code",
   "execution_count": 11,
   "id": "418ad7f2",
   "metadata": {},
   "outputs": [
    {
     "name": "stdout",
     "output_type": "stream",
     "text": [
      "2\n",
      "3\n",
      "4\n",
      "5\n",
      "6\n",
      "7\n",
      "8\n",
      "9\n"
     ]
    }
   ],
   "source": [
    "for i in range(2,10):\n",
    "    print(i)\n"
   ]
  },
  {
   "cell_type": "code",
   "execution_count": 13,
   "id": "b13692c1",
   "metadata": {},
   "outputs": [
    {
     "name": "stdout",
     "output_type": "stream",
     "text": [
      "2\n",
      "6\n",
      "10\n",
      "14\n",
      "18\n"
     ]
    }
   ],
   "source": [
    "for i in range(2,20,4):\n",
    "    print(i)\n"
   ]
  },
  {
   "cell_type": "code",
   "execution_count": 14,
   "id": "f3facf40",
   "metadata": {},
   "outputs": [
    {
     "name": "stdout",
     "output_type": "stream",
     "text": [
      "0\n",
      "1\n",
      "2\n",
      "3\n",
      "4\n",
      "5\n",
      "Complete!\n"
     ]
    }
   ],
   "source": [
    "# Else in For Loop\n",
    "# The else keyword in a for loop specifies a block of code to be executed when the loop is finished\n",
    "\n",
    "for i in range(6):\n",
    "    print(i)\n",
    "else:\n",
    "    print(\"Complete!\")"
   ]
  },
  {
   "cell_type": "code",
   "execution_count": 15,
   "id": "5596965c",
   "metadata": {},
   "outputs": [
    {
     "name": "stdout",
     "output_type": "stream",
     "text": [
      "Auckland North\n",
      "Auckland North\n",
      "Auckland North\n",
      "Auckland South\n",
      "Auckland South\n",
      "Hamilton North\n",
      "Hamilton North\n",
      "Hamilton North\n",
      "Hamilton South\n",
      "Hamilton South\n",
      "Wellington North\n",
      "Wellington North\n",
      "Wellington North\n",
      "Wellington South\n",
      "Wellington South\n",
      "Christchurch North\n",
      "Christchurch North\n",
      "Christchurch North\n",
      "Christchurch South\n",
      "Christchurch South\n",
      "Queenstown North\n",
      "Queenstown North\n",
      "Queenstown North\n",
      "Queenstown South\n",
      "Queenstown South\n"
     ]
    }
   ],
   "source": [
    "# Nested Loops\n",
    "# A nested loop is a loop inside a loop.\n",
    "\n",
    "# The \"inner loop\" will be executed one time for each iteration of the \"outer loop\"\n",
    "\n",
    "cities = [\"Auckland\",\"Hamilton\",\"Wellington\",\"Christchurch\",\"Queenstown\"]\n",
    "island = [\"North\",\"North\",\"North\",\"South\",\"South\"]\n",
    "\n",
    "for x in cities:\n",
    "    for y in island:\n",
    "        print(x,y)"
   ]
  }
 ],
 "metadata": {
  "kernelspec": {
   "display_name": "Python 3",
   "language": "python",
   "name": "python3"
  },
  "language_info": {
   "codemirror_mode": {
    "name": "ipython",
    "version": 3
   },
   "file_extension": ".py",
   "mimetype": "text/x-python",
   "name": "python",
   "nbconvert_exporter": "python",
   "pygments_lexer": "ipython3",
   "version": "3.8.2"
  }
 },
 "nbformat": 4,
 "nbformat_minor": 5
}
